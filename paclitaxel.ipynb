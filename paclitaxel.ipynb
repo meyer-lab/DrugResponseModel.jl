{
 "cells": [
  {
   "cell_type": "code",
   "execution_count": null,
   "metadata": {},
   "outputs": [],
   "source": [
    "import Pkg;\n",
    "Pkg.instantiate()\n",
    "using DrugResponseModel\n",
    "using Plots;\n",
    "\n",
    "# import data from the path\n",
    "conc_l, pop, g2, g1 = setup_data(\"paclitaxel\")\n",
    "\n",
    "# costt, ps = optimize_hill(conc_l, g1, g2, maxstep = 6E4)\n",
    "ps = [3.62825, 2.43233, 0.521699, 2.58588, 2.34811, 0.818595, 0.0894338, 0.0482111, 0.469062, 47.4889, 69.1083, 3.90522, 1.12117]\n",
    "effects = getODEparams(ps, conc_l);"
   ]
  },
  {
   "cell_type": "code",
   "execution_count": null,
   "metadata": {},
   "outputs": [],
   "source": [
    "f = LinRange(0.0, 0.82, 100)\n",
    "num = zeros(100)\n",
    "g0 = g1[1] + g2[1]\n",
    "for (i,v) in enumerate(f)\n",
    "    ppp = effects[:, 1]\n",
    "    ppp[4] = v\n",
    "    num[i] = numcells(ppp, g0, 150)\n",
    "end\n",
    "using Plots;\n",
    "plot(f,num)"
   ]
  },
  {
   "cell_type": "code",
   "execution_count": null,
   "metadata": {},
   "outputs": [],
   "source": [
    "concentration = LinRange(minimum(conc_l), maximum(conc_l), 20)\n",
    "conc = Vector{Float64}(concentration)\n",
    "effects2 = getODEparams(ps, conc)\n",
    "\n",
    "g0 = g1[1] + g2[1]\n",
    "xx = LinRange(1.0, 150, 150)\n",
    "@gif for (i,v) in enumerate(xx)\n",
    "    plotGradient(effects, conc_l, g0, Int(floor(v)), string(i))\n",
    "end every 1"
   ]
  },
  {
   "cell_type": "code",
   "execution_count": null,
   "metadata": {},
   "outputs": [],
   "source": [
    "ODEplot_all(effects, g1, g2, pop, conc_l)"
   ]
  },
  {
   "cell_type": "code",
   "execution_count": null,
   "metadata": {},
   "outputs": [],
   "source": [
    "ODEplot_allPerc(effects, g1, g2, pop, conc_l)"
   ]
  },
  {
   "cell_type": "code",
   "execution_count": null,
   "metadata": {},
   "outputs": [],
   "source": [
    "plot_parameters(conc_l, effects)"
   ]
  },
  {
   "cell_type": "code",
   "execution_count": null,
   "metadata": {},
   "outputs": [],
   "source": [
    "result, paramRanges = allSensitivity(ps, conc_l, g1, g2)\n",
    "\n",
    "using Plots;\n",
    "pl = [plotUnitSensitivity(paramRanges[:, i], result[:, i], ps[i], i) for i=1:11]\n",
    "plot(pl...)\n",
    "plot!(size=(1200, 800))"
   ]
  }
 ],
 "metadata": {
  "kernelspec": {
   "display_name": "Julia 1.3.0",
   "language": "julia",
   "name": "julia-1.3"
  },
  "language_info": {
   "file_extension": ".jl",
   "mimetype": "application/julia",
   "name": "julia",
   "version": "1.3.0"
  }
 },
 "nbformat": 4,
 "nbformat_minor": 4
}
