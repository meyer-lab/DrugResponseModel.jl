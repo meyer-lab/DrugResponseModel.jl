{
 "cells": [
  {
   "cell_type": "code",
   "execution_count": null,
   "metadata": {},
   "outputs": [],
   "source": [
    "import Pkg;\n",
    "Pkg.instantiate()\n",
    "using DrugResponseModel\n",
    "\n",
    "# import data from the path\n",
    "conc_l, pop, g2, g1 = setup_data(\"paclitaxel\")\n",
    "\n",
    "costt, ps = optimize_hill(conc_l, g1, g2, maxstep = 4E4)\n",
    "# ps = [3.50952, 1.72896, 0.389628, 2.2217, 0.37275, 0.366501, 0.0488023, 2.88214e-16, 0.460319, 34.6835, 11.208]\n",
    "effects = getODEparams(ps, conc_l)"
   ]
  },
  {
   "cell_type": "code",
   "execution_count": null,
   "metadata": {},
   "outputs": [],
   "source": [
    "ODEplot_all(effects, g1, g2, pop, conc_l)"
   ]
  },
  {
   "cell_type": "code",
   "execution_count": null,
   "metadata": {},
   "outputs": [],
   "source": [
    "ODEplot_allPerc(effects, g1, g2, pop, conc_l)"
   ]
  },
  {
   "cell_type": "code",
   "execution_count": null,
   "metadata": {},
   "outputs": [],
   "source": [
    "plot_parameters(conc_l, effects)"
   ]
  },
  {
   "cell_type": "code",
   "execution_count": null,
   "metadata": {},
   "outputs": [],
   "source": [
    "result, paramRanges = allSensitivity(ps, conc_l, g1, g2)\n",
    "\n",
    "using Plots;\n",
    "pl = [plotUnitSensitivity(paramRanges[:, i], result[:, i], ps[i], i) for i=1:11]\n",
    "plot(pl...)\n",
    "plot!(size=(1200, 800))"
   ]
  }
 ],
 "metadata": {
  "kernelspec": {
   "display_name": "Julia 1.3.0",
   "language": "julia",
   "name": "julia-1.3"
  },
  "language_info": {
   "file_extension": ".jl",
   "mimetype": "application/julia",
   "name": "julia",
   "version": "1.3.0"
  }
 },
 "nbformat": 4,
 "nbformat_minor": 4
}
