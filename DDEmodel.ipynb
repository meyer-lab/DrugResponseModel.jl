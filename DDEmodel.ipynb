{
 "cells": [
  {
   "cell_type": "markdown",
   "metadata": {},
   "source": [
    "### Import data"
   ]
  },
  {
   "cell_type": "code",
   "execution_count": null,
   "metadata": {},
   "outputs": [],
   "source": [
    "using Pkg\n",
    "Pkg.instantiate()\n",
    "using DrugResponseModel\n",
    "\n",
    "# import data\n",
    "# lapatinib\n",
    "conc_g, pop, g2, g1, g2_0, g1_0 = setup_data(\"doxorubicin\");\n",
    "conc = append!([0.1], conc_g[2:end]);"
   ]
  },
  {
   "cell_type": "markdown",
   "metadata": {},
   "source": [
    "### Estimate "
   ]
  },
  {
   "cell_type": "code",
   "execution_count": null,
   "metadata": {},
   "outputs": [],
   "source": [
    "# initial guess\n",
    "initial_guess  = [0.02798, 0.025502, 15.3481, 15.2881, 0.001, 0.001]\n",
    "\n",
    "# bounds \n",
    "lower_bnd = [-6.0, -6.0, 1.0, 1.0, -10.0, -10.0]\n",
    "upper_bnd = [0.0, 0.0, 6.0, 6.0, 0.0, 0.0]\n",
    "\n",
    "# max number of steps\n",
    "maxSteps = 10000\n",
    "parameters = zeros(6,8)\n",
    "for j in 1:8\n",
    "    best_fit, parameters[:,j] = optimization(g1, g2, g1_0, g2_0, initial_guess, j, lower_bnd, upper_bnd, maxSteps)\n",
    "    println(best_fit)\n",
    "end"
   ]
  },
  {
   "cell_type": "markdown",
   "metadata": {},
   "source": [
    "### Plot"
   ]
  },
  {
   "cell_type": "code",
   "execution_count": null,
   "metadata": {},
   "outputs": [],
   "source": [
    "plot_all(parameters, pop, g2, g1, g2_0, g1_0)"
   ]
  },
  {
   "cell_type": "code",
   "execution_count": null,
   "metadata": {},
   "outputs": [],
   "source": [
    "plot_parameters(conc, parameters)"
   ]
  }
 ],
 "metadata": {
  "kernelspec": {
   "display_name": "Julia 1.3.0",
   "language": "julia",
   "name": "julia-1.3"
  },
  "language_info": {
   "file_extension": ".jl",
   "mimetype": "application/julia",
   "name": "julia",
   "version": "1.3.0"
  }
 },
 "nbformat": 4,
 "nbformat_minor": 4
}
