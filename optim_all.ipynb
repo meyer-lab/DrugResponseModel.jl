{
 "cells": [
  {
   "cell_type": "code",
   "execution_count": 1,
   "metadata": {},
   "outputs": [
    {
     "name": "stderr",
     "output_type": "stream",
     "text": [
      "┌ Info: Precompiling DrugResponseModel [f46a7e40-ab32-11e9-0ff4-0323d592fbfd]\n",
      "└ @ Base loading.jl:1260\n"
     ]
    },
    {
     "data": {
      "text/plain": [
       "37-element Array{Float64,1}:\n",
       " 488.512\n",
       "   1.23245\n",
       "   3.0004\n",
       "   3.4747\n",
       "   1.0627\n",
       "   0.470721\n",
       " 499.847\n",
       "   1.1376\n",
       "   3.00089\n",
       "   1.64837\n",
       "   2.08782\n",
       "   2.38183\n",
       "  99.9222\n",
       "   ⋮\n",
       "   0.858585\n",
       "   3.00041\n",
       "   2.29945\n",
       "   0.938065\n",
       "   0.351223\n",
       "   0.369983\n",
       "   0.44308\n",
       "   0.549918\n",
       "   9.39127\n",
       "  15.38\n",
       "  49.7701\n",
       "  12.5483"
      ]
     },
     "execution_count": 1,
     "metadata": {},
     "output_type": "execute_result"
    }
   ],
   "source": [
    "import Pkg; Pkg.instantiate()\n",
    "using DrugResponseModel\n",
    "\n",
    "concs, populations, g1s, g2s = load(189, 1);\n",
    "\n",
    "optim_all(concs, g1s, g2s)"
   ]
  }
 ],
 "metadata": {
  "kernelspec": {
   "display_name": "Julia 1.4.0",
   "language": "julia",
   "name": "julia-1.4"
  },
  "language_info": {
   "file_extension": ".jl",
   "mimetype": "application/julia",
   "name": "julia",
   "version": "1.4.0"
  }
 },
 "nbformat": 4,
 "nbformat_minor": 4
}
