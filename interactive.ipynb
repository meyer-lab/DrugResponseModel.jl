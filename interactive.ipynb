{
 "metadata": {
  "language_info": {
   "codemirror_mode": {
    "name": "ipython",
    "version": 3
   },
   "file_extension": ".py",
   "mimetype": "text/x-python",
   "name": "python",
   "nbconvert_exporter": "python",
   "pygments_lexer": "ipython3",
   "version": 3
  },
  "orig_nbformat": 2,
  "kernelspec": {
   "name": "julia-1.5",
   "display_name": "Julia 1.5.3"
  }
 },
 "nbformat": 4,
 "nbformat_minor": 2,
 "cells": [
  {
   "cell_type": "code",
   "execution_count": null,
   "metadata": {},
   "outputs": [],
   "source": [
    "import Pkg; Pkg.instantiate()\n",
    "Pkg.activate(\".\")\n",
    "using DrugResponseModel\n",
    "using Plots, Statistics\n",
    "concs, _, g1s1, g2s1 = load(189, 1);\n",
    "g0 = g1s1[1,1,1]+g2s1[1,1,1];\n",
    "\n",
    "p = DrugResponseModel.return_param41()"
   ]
  },
  {
   "cell_type": "code",
   "execution_count": null,
   "metadata": {},
   "outputs": [],
   "source": [
    "using Interact\n",
    "function interactive(p, Dr1Ind, Dr2Ind, concs, g0, indx)\n",
    "    @manipulate throttle=0.05 for maxg1_prog=0.0001:0.02:2.0, maxg2_prog=0.0001:0.02:2.0, maxg1_death=0.0001:0.02:2.0, maxg2_death=0.0001:0.02:2.0\n",
    "        p[indx:indx+3] .= [maxg1_prog, maxg2_prog, maxg1_death, maxg2_death] \n",
    "        lpDX = DrugResponseModel.get_derivative(p, Dr1Ind, Dr2Ind, concs, g0)\n",
    "        names = [\"LPT\", \"DOX\", \"GEM\", \"TAX\", \"PLB\"]\n",
    "        twoDHillp = DrugResponseModel.Hill_p_eachDr(lpDX)\n",
    "        names = [\"LPT\", \"DOX\", \"GEM\", \"TAX\", \"PLB\"]\n",
    "        xaxis = [\"G1_prog_max\", \"G2_prog_max\", \"G1_death_max\", \"G2_death_max\"]\n",
    "        bar(xaxis, twoDHillp[3:6, Dr1Ind], title=names[Dr1Ind], xrotation=35, ylabel=\"d{diff}/d{p}\", label=\"deriv.\")\n",
    "    end\n",
    "end"
   ]
  },
  {
   "cell_type": "code",
   "execution_count": null,
   "metadata": {},
   "outputs": [],
   "source": [
    "# Lapatinib and doxorubicin, with ability to manipulate lapatinib parameters\n",
    "Dr1Ind = 1\n",
    "Dr2Ind = 2\n",
    "indx = 3\n",
    "interactive(p, Dr1Ind, Dr2Ind, concs, g0, indx)"
   ]
  },
  {
   "cell_type": "code",
   "execution_count": null,
   "metadata": {},
   "outputs": [],
   "source": [
    "# Lapatinib and doxorubicin, with ability to manipulate doxorubicin parameters\n",
    "Dr1Ind = 2\n",
    "Dr2Ind = 1\n",
    "indx = 10\n",
    "interactive(p, Dr1Ind, Dr2Ind, concs, g0, indx)"
   ]
  },
  {
   "cell_type": "code",
   "execution_count": null,
   "metadata": {},
   "outputs": [],
   "source": [
    "# Lapatinib and gemciabine, with ability to manipulate lapatinib parameters\n",
    "Dr1Ind = 1\n",
    "Dr2Ind = 3\n",
    "indx = 3\n",
    "interactive(p, Dr1Ind, Dr2Ind, concs, g0, indx)"
   ]
  },
  {
   "cell_type": "code",
   "execution_count": null,
   "metadata": {},
   "outputs": [],
   "source": [
    "# Lapatinib and gemciabine, with ability to manipulate gemcitabine parameters\n",
    "Dr1Ind = 3\n",
    "Dr2Ind = 1\n",
    "indx = 17\n",
    "interactive(p, Dr1Ind, Dr2Ind, concs, g0, indx)"
   ]
  },
  {
   "cell_type": "code",
   "execution_count": null,
   "metadata": {},
   "outputs": [],
   "source": [
    "# Lapatinib and paclitaxel, with ability to manipulate lapatinib parameters\n",
    "Dr1Ind = 1\n",
    "Dr2Ind = 4\n",
    "indx = 3\n",
    "interactive(p, Dr1Ind, Dr2Ind, concs, g0, indx)"
   ]
  },
  {
   "cell_type": "code",
   "execution_count": null,
   "metadata": {},
   "outputs": [],
   "source": [
    "# Lapatinib and paclitaxel, with ability to manipulate paclitaxel parameters\n",
    "Dr1Ind = 4\n",
    "Dr2Ind = 1\n",
    "indx = 24\n",
    "interactive(p, Dr1Ind, Dr2Ind, concs, g0, indx)"
   ]
  },
  {
   "cell_type": "code",
   "execution_count": null,
   "metadata": {},
   "outputs": [],
   "source": [
    "# Lapatinib and palbociclib, with ability to manipulate lapatinib parameters\n",
    "Dr1Ind = 1\n",
    "Dr2Ind = 5\n",
    "indx = 3\n",
    "interactive(p, Dr1Ind, Dr2Ind, concs, g0, indx)"
   ]
  },
  {
   "cell_type": "code",
   "execution_count": null,
   "metadata": {},
   "outputs": [],
   "source": [
    "# Lapatinib and palbociclib, with ability to manipulate palbociclib parameters\n",
    "Dr1Ind = 5\n",
    "Dr2Ind = 1\n",
    "indx = 31\n",
    "interactive(p, Dr1Ind, Dr2Ind, concs, g0, indx)"
   ]
  },
  {
   "cell_type": "code",
   "execution_count": null,
   "metadata": {},
   "outputs": [],
   "source": [
    "# doxorubicin and gemcitabine, with ability to manipulate doxorubicin parameters\n",
    "Dr1Ind = 2\n",
    "Dr2Ind = 3\n",
    "indx = 10\n",
    "interactive(p, Dr1Ind, Dr2Ind, concs, g0, indx)"
   ]
  },
  {
   "cell_type": "code",
   "execution_count": null,
   "metadata": {},
   "outputs": [],
   "source": [
    "# doxorubicin and gemcitabine, with ability to manipulate gemcitabine parameters\n",
    "Dr1Ind = 3\n",
    "Dr2Ind = 2\n",
    "indx = 17\n",
    "interactive(p, Dr1Ind, Dr2Ind, concs, g0, indx)"
   ]
  },
  {
   "cell_type": "code",
   "execution_count": null,
   "metadata": {},
   "outputs": [],
   "source": [
    "# doxorubicin and paclitaxel, with ability to manipulate doxorubicin parameters\n",
    "Dr1Ind = 2\n",
    "Dr2Ind = 4\n",
    "indx = 10\n",
    "interactive(p, Dr1Ind, Dr2Ind, concs, g0, indx)"
   ]
  },
  {
   "cell_type": "code",
   "execution_count": null,
   "metadata": {},
   "outputs": [],
   "source": [
    "# doxorubicin and paclitaxel, with ability to manipulate paclitaxel parameters\n",
    "Dr1Ind = 4\n",
    "Dr2Ind = 2\n",
    "indx = 24\n",
    "interactive(p, Dr1Ind, Dr2Ind, concs, g0, indx)"
   ]
  },
  {
   "cell_type": "code",
   "execution_count": null,
   "metadata": {},
   "outputs": [],
   "source": [
    "# doxorubicin and palbociclib, with ability to manipulate doxorubicin parameters\n",
    "Dr1Ind = 2\n",
    "Dr2Ind = 5\n",
    "indx = 10\n",
    "interactive(p, Dr1Ind, Dr2Ind, concs, g0, indx)"
   ]
  },
  {
   "cell_type": "code",
   "execution_count": null,
   "metadata": {},
   "outputs": [],
   "source": [
    "# doxorubicin and palbociclib, with ability to manipulate palbociclib parameters\n",
    "Dr1Ind = 5\n",
    "Dr2Ind = 2\n",
    "indx = 31\n",
    "interactive(p, Dr1Ind, Dr2Ind, concs, g0, indx)"
   ]
  },
  {
   "cell_type": "code",
   "execution_count": null,
   "metadata": {},
   "outputs": [],
   "source": [
    "# gemcitabine and paclitaxel, with ability to manipulate gemcitabine parameters\n",
    "Dr1Ind = 3\n",
    "Dr2Ind = 4\n",
    "indx = 17\n",
    "interactive(p, Dr1Ind, Dr2Ind, concs, g0, indx)"
   ]
  },
  {
   "cell_type": "code",
   "execution_count": null,
   "metadata": {},
   "outputs": [],
   "source": [
    "# gemcitabine and paclitaxel, with ability to manipulate paclitaxel parameters\n",
    "Dr1Ind = 4\n",
    "Dr2Ind = 3\n",
    "indx = 24\n",
    "interactive(p, Dr1Ind, Dr2Ind, concs, g0, indx)"
   ]
  },
  {
   "cell_type": "code",
   "execution_count": null,
   "metadata": {},
   "outputs": [],
   "source": [
    "# gemcitabine and palbociclib, with ability to manipulate gemcitabine parameters\n",
    "Dr1Ind = 3\n",
    "Dr2Ind = 5\n",
    "indx = 17\n",
    "interactive(p, Dr1Ind, Dr2Ind, concs, g0, indx)"
   ]
  },
  {
   "cell_type": "code",
   "execution_count": null,
   "metadata": {},
   "outputs": [],
   "source": [
    "# gemcitabine and palbociclib, with ability to manipulate palbociclib parameters\n",
    "Dr1Ind = 5\n",
    "Dr2Ind = 3\n",
    "indx = 31\n",
    "interactive(p, Dr1Ind, Dr2Ind, concs, g0, indx)"
   ]
  },
  {
   "cell_type": "code",
   "execution_count": null,
   "metadata": {},
   "outputs": [],
   "source": [
    "# paclitaxel and palbociclib, with ability to manipulate paclitaxel parameters\n",
    "Dr1Ind = 4\n",
    "Dr2Ind = 5\n",
    "indx = 24\n",
    "interactive(p, Dr1Ind, Dr2Ind, concs, g0, indx)"
   ]
  },
  {
   "cell_type": "code",
   "execution_count": null,
   "metadata": {},
   "outputs": [],
   "source": [
    "# paclitaxel and palbociclib, with ability to manipulate paclitaxel parameters\n",
    "Dr1Ind = 5\n",
    "Dr2Ind = 4\n",
    "indx = 31\n",
    "interactive(p, Dr1Ind, Dr2Ind, concs, g0, indx)"
   ]
  }
 ]
}