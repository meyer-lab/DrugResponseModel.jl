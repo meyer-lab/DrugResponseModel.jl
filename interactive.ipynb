{
 "metadata": {
  "language_info": {
   "codemirror_mode": {
    "name": "ipython",
    "version": 3
   },
   "file_extension": ".py",
   "mimetype": "text/x-python",
   "name": "python",
   "nbconvert_exporter": "python",
   "pygments_lexer": "ipython3",
   "version": 3
  },
  "orig_nbformat": 2,
  "kernelspec": {
   "name": "julia-1.5",
   "display_name": "Julia 1.5.3"
  }
 },
 "nbformat": 4,
 "nbformat_minor": 2,
 "cells": [
  {
   "cell_type": "code",
   "execution_count": null,
   "metadata": {},
   "outputs": [],
   "source": [
    "import Pkg; Pkg.instantiate()\n",
    "Pkg.activate(\".\")\n",
    "using DrugResponseModel\n",
    "using Plots\n",
    "Plots.scalefontsizes(0.7)\n",
    "\n",
    "concs, _, g1s1, g2s1 = load(189, 1);\n",
    "g0 = g1s1[1,1,1]+g2s1[1,1,1];\n",
    "\n",
    "# this is the optimum estimated parameters for all drugs at once, and considers % in G1 separately for drugs. ==> 41 parameters\n",
    "p = DrugResponseModel.return_param41();\n"
   ]
  },
  {
   "cell_type": "code",
   "execution_count": null,
   "metadata": {},
   "outputs": [],
   "source": [
    "function plt_heatmap_combin(drug1_ind, drug2_ind, effs, g0, concs, controld1, controld2)\n",
    "    names = [\"Lpt\", \"Dox\", \"Gem\", \"Tax\", \"Palb\"]\n",
    "    # bliss on data\n",
    "    BlissData = zeros(8, 8)\n",
    "    for i=1:8\n",
    "        for j=1:8\n",
    "            BlissData[i, j] = DrugResponseModel.calc_cellNum(effs[:, i, drug1_ind], effs[:, j, drug2_ind], g0, controld1, controld2)\n",
    "        end\n",
    "    end\n",
    "    bliss_comb = DrugResponseModel.AllBliss_params(effs[:, :, drug1_ind], effs[:, :, drug2_ind])\n",
    "    bliss_comb_cellnum = BlissModelComb(bliss_comb, g0)\n",
    "    diff = bliss_comb_cellnum .- BlissData\n",
    "    frac = bliss_comb_cellnum ./ BlissData\n",
    "\n",
    "    p1=Heatmap(concs, bliss_comb_cellnum, drug1_ind, drug2_ind, names[drug1_ind], names[drug2_ind], \"Bliss Cell Cycle Model\")\n",
    "    p2=Heatmap(concs, BlissData, drug1_ind, drug2_ind, names[drug1_ind], names[drug2_ind], \"Bliss Data\")\n",
    "    p3=Heatmap(concs, diff, drug1_ind, drug2_ind, names[drug1_ind], names[drug2_ind], \"model - data\", clim_min = -15.0, clim_max = 15.0)\n",
    "    p4=Heatmap(concs, frac, drug1_ind, drug2_ind, names[drug1_ind], names[drug2_ind], \"model / data\", clim_min = 0.01, clim_max = 2.5)\n",
    "\n",
    "    return plot(p1, p2, p3, p4, layout=(2, 2))\n",
    "end"
   ]
  },
  {
   "cell_type": "code",
   "execution_count": null,
   "metadata": {},
   "outputs": [],
   "source": [
    "using Interact\n",
    "function slider_Bliss(p, drug1_ind, drug2_ind, concs, indx1, indx2, g0, controld1, controld2)\n",
    "    \n",
    "    @manipulate for maxg1_prog=0.0:0.01:1.0, maxg2_prog=0.0:0.01:1.0, maxg1_death=0.0:0.01:1.0, maxg2_death=0.0:0.001:1.0, maxg1_prog2=0.0:0.01:1.0, maxg2_prog2=0.0:0.01:1.0, maxg1_death2=0.0:0.01:1.0, maxg2_death2=0.0:0.01:1.0\n",
    "\n",
    "        p[indx1:indx1+3] .= [maxg1_prog, maxg2_prog, maxg1_death, maxg2_death]\n",
    "        p[indx2:indx2+3] .= [maxg1_prog2, maxg2_prog2, maxg1_death2, maxg2_death2]\n",
    "        \n",
    "        effss = getODEparamsAll(p, concs)\n",
    "        plt_heatmap_combin(drug1_ind, drug2_ind, effss, g0, concs, controld1, controld2)\n",
    "    end\n",
    "end"
   ]
  },
  {
   "cell_type": "code",
   "execution_count": null,
   "metadata": {},
   "outputs": [],
   "source": [
    "# lapatinib\n",
    "efcs = getODEparamsAll(p, concs)\n",
    "t = LinRange(0.0, 95.0, 189)\n",
    "controls = zeros(5)\n",
    "for i=1:5\n",
    "    g1, g2, _ = predict(efcs[:, 1, i], g0, t)\n",
    "    controls[i] = g1[end] + g2[end]\n",
    "end\n",
    "DrugResponseModel.plot_parameters(concs[:, 1], efcs[:, :, 1], zeros(4,7))"
   ]
  },
  {
   "cell_type": "code",
   "execution_count": null,
   "metadata": {},
   "outputs": [],
   "source": [
    "# palbociclib\n",
    "DrugResponseModel.plot_parameters(concs[:, 5], efcs[:, :, 5], zeros(4,7))"
   ]
  },
  {
   "cell_type": "code",
   "execution_count": null,
   "metadata": {},
   "outputs": [],
   "source": [
    "# g1 and g2 inhibit\n",
    "slider_Bliss(p, 1, 5, concs, 3, 31, g0, controls[1], controls[5])"
   ]
  },
  {
   "cell_type": "code",
   "execution_count": null,
   "metadata": {},
   "outputs": [],
   "source": [
    "### conclusion: \n",
    "#### decrease of progression rate has more effect in model than data"
   ]
  },
  {
   "cell_type": "code",
   "execution_count": null,
   "metadata": {},
   "outputs": [],
   "source": [
    "# doxorubicin\n",
    "DrugResponseModel.plot_parameters(concs[:, 2], efcs[:, :, 2], zeros(4,7))"
   ]
  },
  {
   "cell_type": "code",
   "execution_count": null,
   "metadata": {},
   "outputs": [],
   "source": [
    "# gemcitabine\n",
    "DrugResponseModel.plot_parameters(concs[:, 3], efcs[:, :, 3], zeros(4,7))"
   ]
  },
  {
   "cell_type": "code",
   "execution_count": null,
   "metadata": {},
   "outputs": [],
   "source": [
    "# g1 and g2 cell death: doxorubicin and gemcitabine\n",
    "slider_Bliss(p, 2, 3, concs, 10, 17, g0, controls[2], controls[3])"
   ]
  },
  {
   "cell_type": "code",
   "execution_count": null,
   "metadata": {},
   "outputs": [],
   "source": [
    "### conclusion:\n",
    "when two drugs have cell death effects, changing the progression rates won't make a significant difference."
   ]
  },
  {
   "cell_type": "code",
   "execution_count": null,
   "metadata": {},
   "outputs": [],
   "source": [
    "# g1 inhibit and both phases cell death: lapatinib and gemcitabine\n",
    "slider_Bliss(p, 1, 3, concs, 3, 17, g0, controls[1], controls[3])"
   ]
  },
  {
   "cell_type": "code",
   "execution_count": null,
   "metadata": {},
   "outputs": [],
   "source": [
    "# taxol parameters\n",
    "DrugResponseModel.plot_parameters(concs[:, 4], efcs[:, :, 4], zeros(4,7))"
   ]
  },
  {
   "cell_type": "code",
   "execution_count": null,
   "metadata": {},
   "outputs": [],
   "source": [
    "# both g1 inhibition: taxol and lapatinib\n",
    "slider_Bliss(p, 1, 4, concs, 3, 24, g0, controls[1], controls[4])"
   ]
  },
  {
   "cell_type": "code",
   "execution_count": null,
   "metadata": {},
   "outputs": [],
   "source": [
    "# both cell death: taxol and gemcitabine\n",
    "slider_Bliss(p, 3, 4, concs, 17, 24, g0, controls[3], controls[4])"
   ]
  },
  {
   "cell_type": "code",
   "execution_count": null,
   "metadata": {},
   "outputs": [],
   "source": [
    "### conclusion:\n",
    "#### It seems that the conventional method says increasing the gemcitabine's concentration doesn't make any difference, but the model says it has a slight effect."
   ]
  }
 ]
}