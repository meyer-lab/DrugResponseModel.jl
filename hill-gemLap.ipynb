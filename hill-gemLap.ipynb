{
 "cells": [
  {
   "cell_type": "markdown",
   "metadata": {},
   "source": [
    "### Import data"
   ]
  },
  {
   "cell_type": "code",
   "execution_count": null,
   "metadata": {},
   "outputs": [],
   "source": [
    "using DrugResponseModel\n",
    "\n",
    "# import G1, G2, and population data\n",
    "conc_, pop_l, g2_l, g1_l, g2_0_l, g1_0_l = setup_data(\"lapatinib\");\n",
    "conc, pop_g, g2_g, g1_g, g2_0_g, g1_0_g = setup_data(\"gemcitabine\");\n",
    "conc_l = append!([0.1], conc_[2:end]);\n",
    "conc_g = append!([0.1], conc[2:end]);"
   ]
  },
  {
   "cell_type": "markdown",
   "metadata": {},
   "source": [
    "### Hill model, residual functions and optimization\n",
    "Lapatinib & gemcitabine"
   ]
  },
  {
   "cell_type": "code",
   "execution_count": null,
   "metadata": {},
   "outputs": [],
   "source": [
    "#  [EC50, b_steepness, alpha_min, alpha_max, beta_min, beta_max, tau1_mean, tau1_max, tau2_min, tau2_max, ec50_gamma1, gamma1_max, ec50_gamma2, gamma2_max]\n",
    "# Lapatinib\n",
    "ec50lowL = 50.0\n",
    "ec50highL = 500.0\n",
    "ec50guessL = 100.0\n",
    "guessL = [ec50guessL, 1.0, 0.00682578, 0.00958013, 0.00503788, 0.0933964, 15.0, 15.0, 20.0, 20.94827, ec50guessL, 0.00294624, ec50guessL, 0.0422821]\n",
    "\n",
    "# Gemcitabine\n",
    "ec50lowg = 10.0\n",
    "ec50highg = 80.0\n",
    "ec50guessg = 40.0\n",
    "guessg = [ec50guessg, 1.0, 0.00682578, 0.00958013, 0.00503788, 0.0933964, 20.0, 20.0, 15.0, 15.94827, ec50guessg, 0.00294624, ec50guessg, 0.0422821]\n",
    "\n",
    "# max num of steps\n",
    "num_steps=8000;\n",
    "\n",
    "# best_fit, paramsL = optimize_hill(guessL, conc_l, g1_l, g2_l, g1_0_l, g2_0_l, num_steps, ec50lowL, ec50highL)"
   ]
  },
  {
   "cell_type": "code",
   "execution_count": null,
   "metadata": {},
   "outputs": [],
   "source": [
    "\n",
    "best_fitL, paramsL = optimize_hill(guessL, conc_l, g1_l, g2_l, g1_0_l, g2_0_l, num_steps, ec50lowL, ec50highL)\n",
    "best_fitG, paramsG = optimize_hill(guessg, conc_g, g1_g, g2_g, g1_0_g, g2_0_g, num_steps, ec50lowg, ec50highg)\n"
   ]
  },
  {
   "cell_type": "code",
   "execution_count": null,
   "metadata": {},
   "outputs": [],
   "source": [
    "parsL=getDDEparams(paramsL, conc_l)\n",
    "parsG=getDDEparams(paramsG, conc_g)"
   ]
  },
  {
   "cell_type": "code",
   "execution_count": null,
   "metadata": {},
   "outputs": [],
   "source": [
    "parsL = CSV.read(\"parsL.csv\", header=false)\n",
    "parsG = CSV.read(\"parsG.csv\", header=false)\n",
    "parsL = convert(Matrix, parsL)\n",
    "parsG = convert(Matrix, parsG)"
   ]
  },
  {
   "cell_type": "markdown",
   "metadata": {},
   "source": [
    "### Plot the data with the new set of parameters for DDE"
   ]
  },
  {
   "cell_type": "markdown",
   "metadata": {},
   "source": [
    "#### Lapatinib"
   ]
  },
  {
   "cell_type": "code",
   "execution_count": null,
   "metadata": {},
   "outputs": [],
   "source": [
    "plot_all(parsL, pop_l, g2_l, g1_l, g2_0_l, g1_0_l)"
   ]
  },
  {
   "cell_type": "markdown",
   "metadata": {},
   "source": [
    "#### Gemcitabine"
   ]
  },
  {
   "cell_type": "code",
   "execution_count": null,
   "metadata": {},
   "outputs": [],
   "source": [
    "plot_all(parsG, pop_g, g2_g, g1_g, g2_0_g, g1_0_g)"
   ]
  },
  {
   "cell_type": "code",
   "execution_count": null,
   "metadata": {},
   "outputs": [],
   "source": [
    "savefig(\"gemcitabine.png\")"
   ]
  },
  {
   "cell_type": "markdown",
   "metadata": {},
   "source": [
    "### Plot Hill curve for all of the DDE model parameters"
   ]
  },
  {
   "cell_type": "markdown",
   "metadata": {},
   "source": [
    "#### Lapatinib"
   ]
  },
  {
   "cell_type": "code",
   "execution_count": null,
   "metadata": {},
   "outputs": [],
   "source": [
    "plot_parameters(conc_l, parsL)"
   ]
  },
  {
   "cell_type": "markdown",
   "metadata": {},
   "source": [
    "#### Gemcitabine"
   ]
  },
  {
   "cell_type": "code",
   "execution_count": null,
   "metadata": {},
   "outputs": [],
   "source": [
    "plot_parameters(conc_g, parsG)\n",
    "# savefig(\"gempar.png\")"
   ]
  },
  {
   "cell_type": "markdown",
   "metadata": {},
   "source": [
    "#### Bliss combination"
   ]
  },
  {
   "cell_type": "markdown",
   "metadata": {},
   "source": [
    "$\\alpha$"
   ]
  },
  {
   "cell_type": "code",
   "execution_count": null,
   "metadata": {},
   "outputs": [],
   "source": [
    "using Plots; pyplot();\n",
    "function plot3D(parsL, parsG, j::Int, title::String)\n",
    "\n",
    "    param1 = ParamForBliss(parsL)\n",
    "    param2 = ParamForBliss(parsG)\n",
    "    combin = BlissCombination(parsL, parsG)\n",
    "\n",
    "    plot(param1[j,:],param2[j,:],combin[:,:,j],st=:surface,camera=(-40,20), xlabel=\"lapatinib\", ylabel=\"gemcitabine\", zlabel=\"combination\", title=title)\n",
    "    plot!(size = (800, 600), dpi=150)\n",
    "end\n",
    "plot3D(parsL, parsG, 1, \"gemcitabin-lapatinib, alpha\");\n",
    "# savefig(\"alpha.png\")"
   ]
  },
  {
   "cell_type": "code",
   "execution_count": null,
   "metadata": {},
   "outputs": [],
   "source": [
    "param1 = ParamForBliss(parsL)\n",
    "param2 = ParamForBliss(parsG)\n",
    "combin = BlissCombination(parsL, parsG);\n",
    "\n",
    "# using CSV, DataFrames\n",
    "# CSV.write(\"parsL.csv\",  DataFrame(parsL), writeheader=false)\n",
    "# CSV.write(\"parsG.csv\",  DataFrame(parsG), writeheader=false)"
   ]
  },
  {
   "cell_type": "markdown",
   "metadata": {},
   "source": [
    "$\\beta$"
   ]
  },
  {
   "cell_type": "code",
   "execution_count": null,
   "metadata": {},
   "outputs": [],
   "source": [
    "plot3D(parsL, parsG, 2, \"gemcitabin-lapatinib, beta\");\n",
    "# savefig(\"beta.png\")"
   ]
  },
  {
   "cell_type": "markdown",
   "metadata": {},
   "source": [
    "$\\gamma$"
   ]
  },
  {
   "cell_type": "code",
   "execution_count": null,
   "metadata": {},
   "outputs": [],
   "source": [
    "plot3D(parsL, parsG, 3, \"gemcitabin-lapatinib, gamma\");\n",
    "# savefig(\"gamma.png\")"
   ]
  },
  {
   "cell_type": "code",
   "execution_count": null,
   "metadata": {},
   "outputs": [],
   "source": [
    "ddeparam = DDEcombinationParam(combin, parsL, parsG)"
   ]
  },
  {
   "cell_type": "code",
   "execution_count": null,
   "metadata": {},
   "outputs": [],
   "source": [
    "pyplot();\n",
    "using Measures\n",
    "\n",
    "function plotUnitCombin(params::Array, i::Int, title::String, bool::Any, g2::Matrix, g1::Matrix, g2_0::Array, g1_0::Array, concL, ConcGem)\n",
    "    \"\"\" Given estimated parameters for each trial, \n",
    "    solve the DDE model plot the predicted curve \n",
    "    for # of cells in G1, G2, or total, \n",
    "    along with their corresponding real data,\n",
    "    for a longer time which is 2 times of the \n",
    "    original time (~195 hours)\n",
    "    \"\"\"\n",
    "    n_times = range(0.0; stop = 200.0, length = 400)\n",
    "    alg, n_prob, _ = ddesolve2(collect(n_times), g1, g2, g1_0, g2_0, params, i)\n",
    "\n",
    "    solution = solve(n_prob, alg; constrained=true)\n",
    "    total =  solution(n_times, idxs=2).u + solution(n_times, idxs=1).u\n",
    "    plot(n_times, solution(n_times, idxs=1).u, label = \"G1\", xlabel = \"time [hours]\", ylabel = \"number of cells\", lw=2.0, alpha = 0.6, color =:green)\n",
    "    plot!(n_times, solution(n_times, idxs=2).u, label = \"G2\", legend=bool, legendfontsize=7, fg_legend = :transparent, lw=2.0, alpha = 0.6, color=:sienna)\n",
    "    plot!(n_times, total, label = \"total\", lw=2.0, alpha = 0.6, color=:hotpink, margin = 20mm)\n",
    "    plot!(annotation=(100.0,125.0, text(\"$concL nM lapat. & $ConcGem nM gemc.\", 10)))\n",
    "end\n",
    "\n",
    "\n",
    "function plot4combin(ddeparam, g2_l::Matrix, g1_l::Matrix, g2_0_l::Array, g1_0_l::Array, i::Int, conc_l ,conc_g)\n",
    "    \"\"\" here we plot 8 combinations of lapatinib i and all the gemcitabines \"\"\" \n",
    "    concLap = conc_l[i]\n",
    "    p1 = plotUnitCombin(ddeparam[i,1,:], 1, \"\", true, g2_l, g1_l, g2_0_l, g1_0_l, concLap, conc_g[1])\n",
    "    p2 = plotUnitCombin(ddeparam[i,2,:], 1, \"\", false, g2_l, g1_l, g2_0_l, g1_0_l, concLap, conc_g[2])\n",
    "    p3 = plotUnitCombin(ddeparam[i,3,:], 1, \"\", false, g2_l, g1_l, g2_0_l, g1_0_l, concLap, conc_g[3])\n",
    "    p4 = plotUnitCombin(ddeparam[i,4,:], 1, \"\", false, g2_l, g1_l, g2_0_l, g1_0_l, concLap, conc_g[4])\n",
    "    p5 = plotUnitCombin(ddeparam[i,5,:], 1, \"\", false, g2_l, g1_l, g2_0_l, g1_0_l, concLap, conc_g[5])\n",
    "    p6 = plotUnitCombin(ddeparam[i,6,:], 1, \"\", false, g2_l, g1_l, g2_0_l, g1_0_l, concLap, conc_g[6])\n",
    "    p7 = plotUnitCombin(ddeparam[i,7,:], 1, \"\", false, g2_l, g1_l, g2_0_l, g1_0_l, concLap, conc_g[7])\n",
    "    p8 = plotUnitCombin(ddeparam[i,8,:], 1, \"\", false, g2_l, g1_l, g2_0_l, g1_0_l, concLap, conc_g[8])\n",
    "    plot(p1, p2, p3, p4, p5, p6, p7, p8, layout=(2,4))\n",
    "    plot!(size = (1600, 600), dpi = 250)\n",
    "    ylims!((0.0, 120.0))\n",
    "end\n"
   ]
  },
  {
   "cell_type": "code",
   "execution_count": null,
   "metadata": {},
   "outputs": [],
   "source": [
    "plot4combin(ddeparam, g2_l, g1_l, g2_0_l, g1_0_l, 1, conc_l,conc_g)"
   ]
  },
  {
   "cell_type": "code",
   "execution_count": null,
   "metadata": {},
   "outputs": [],
   "source": [
    "plot4combin(ddeparam, g2_l, g1_l, g2_0_l, g1_0_l, 2, conc_l,conc_g)"
   ]
  },
  {
   "cell_type": "code",
   "execution_count": null,
   "metadata": {},
   "outputs": [],
   "source": [
    "plot4combin(ddeparam, g2_l, g1_l, g2_0_l, g1_0_l, 3, conc_l,conc_g)"
   ]
  },
  {
   "cell_type": "code",
   "execution_count": null,
   "metadata": {},
   "outputs": [],
   "source": [
    "plot4combin(ddeparam, g2_l, g1_l, g2_0_l, g1_0_l, 4, conc_l,conc_g)"
   ]
  },
  {
   "cell_type": "code",
   "execution_count": null,
   "metadata": {},
   "outputs": [],
   "source": [
    "plot4combin(ddeparam, g2_l, g1_l, g2_0_l, g1_0_l, 5, conc_l,conc_g)"
   ]
  },
  {
   "cell_type": "code",
   "execution_count": null,
   "metadata": {},
   "outputs": [],
   "source": [
    "plot4combin(ddeparam, g2_l, g1_l, g2_0_l, g1_0_l, 6, conc_l,conc_g)"
   ]
  },
  {
   "cell_type": "code",
   "execution_count": null,
   "metadata": {},
   "outputs": [],
   "source": [
    "plot4combin(ddeparam, g2_l, g1_l, g2_0_l, g1_0_l, 7, conc_l,conc_g)"
   ]
  },
  {
   "cell_type": "code",
   "execution_count": null,
   "metadata": {},
   "outputs": [],
   "source": [
    "plot4combin(ddeparam, g2_l, g1_l, g2_0_l, g1_0_l, 8, conc_l,conc_g)"
   ]
  }
 ],
 "metadata": {
  "kernelspec": {
   "display_name": "Julia 1.3.0",
   "language": "julia",
   "name": "julia-1.3"
  },
  "language_info": {
   "file_extension": ".jl",
   "mimetype": "application/julia",
   "name": "julia",
   "version": "1.3.0"
  }
 },
 "nbformat": 4,
 "nbformat_minor": 4
}
