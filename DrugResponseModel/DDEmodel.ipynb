{
 "cells": [
  {
   "cell_type": "markdown",
   "metadata": {},
   "source": [
    "### Import data"
   ]
  },
  {
   "cell_type": "code",
   "execution_count": null,
   "metadata": {},
   "outputs": [],
   "source": [
    "include(\"importData.jl\")\n",
    "include(\"DDEmodel.jl\")\n",
    "include(\"plot.jl\")\n",
    "\n",
    "# import data from the path\n",
    "pop, g2, g1, g1_0, g2_0 = get_data(\"..//data//lap.csv\", \"..//data//lap_pop.csv\"); # in which:\n",
    "# pop: population data\n",
    "# g1, g2: g1 and g2 data\n",
    "# initial: initial number of cells in g1 and in g2 at time 0\n",
    "\n",
    "# This is to load the estimated parameters to be used as \"initial guess\"\n",
    "param_lap_dde = CSV.read(\"..//ddeParams//Lapatinib//params_lap_DDE.csv\")\n",
    "\n",
    "# initial guesses for the parameters\n",
    "lap = convert(Matrix, param_lap_dde[1:7,2:end]); "
   ]
  },
  {
   "cell_type": "markdown",
   "metadata": {},
   "source": [
    "### Estimate "
   ]
  },
  {
   "cell_type": "code",
   "execution_count": null,
   "metadata": {},
   "outputs": [],
   "source": [
    "# i is the number of the column we are using from the data (# of trial)\n",
    "i = 6\n",
    "\n",
    "# initial guess\n",
    "p  = [0.02798, 0.025502, 21.3481, 10.2881, 0.0001, 0.0001]\n",
    "\n",
    "# setting lowest delay for tau1 to be half an hour and for tau2 to be 3 hours.\n",
    "low = [0.015, 0.003, 0.5, 3.0, 7.0, 0.0001, 0.0001]\n",
    "upp = [0.075, 0.075, 30.0, 30.0, 100.0, 0.05, 0.05]\n",
    "\n",
    "# Estimating the parameters for trial i\n",
    "params = optimIt(p, low, upp, i, g1, g2)\n",
    "\n",
    "# Plotting the long-term prediction along with the data for trial i\n",
    "plotIt(params, g1, g2, g1_0, g2_0, pop, i, \"Lapatinib\")"
   ]
  }
 ],
 "metadata": {
  "kernelspec": {
   "display_name": "Julia 1.1.1",
   "language": "julia",
   "name": "julia-1.1"
  },
  "language_info": {
   "file_extension": ".jl",
   "mimetype": "application/julia",
   "name": "julia",
   "version": "1.1.1"
  }
 },
 "nbformat": 4,
 "nbformat_minor": 4
}
