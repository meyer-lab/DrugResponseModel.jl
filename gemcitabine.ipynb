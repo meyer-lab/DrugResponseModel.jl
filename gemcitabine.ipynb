{
 "cells": [
  {
   "cell_type": "code",
   "execution_count": null,
   "metadata": {},
   "outputs": [],
   "source": [
    "import Pkg;\n",
    "Pkg.instantiate()\n",
    "using DrugResponseModel\n",
    "\n",
    "# import data from the path\n",
    "conc_l, pop, g2, g1, g2_0, g1_0 = setup_data(\"gemcitabine\")\n",
    "\n",
    "# costt, ps = optimize_hill(conc_l, g1, g2, g1_0, g2_0, maxstep = 4E4)\n",
    "ps = [10.6507, 0.363509, 0.323215, 2.63073, 2.59757, 1.48393, 2.43551e-6, 0.0178232, 0.459026, 7.10403, 90.4652]\n",
    "effects = getODEparams(ps, conc_l)"
   ]
  },
  {
   "cell_type": "code",
   "execution_count": null,
   "metadata": {},
   "outputs": [],
   "source": [
    "ODEplot_all(effects, g1, g2, g1_0, g2_0, pop)"
   ]
  },
  {
   "cell_type": "code",
   "execution_count": null,
   "metadata": {},
   "outputs": [],
   "source": [
    "b = copy(ps)\n",
    "result = zeros(50, 11)\n",
    "paramRanges = zeros(50, 11)\n",
    "\n",
    "for k=1:11\n",
    "    paramRanges[:, k] = b[k] .* (10 .^ (range(-1, stop=1, length=50)))\n",
    "    result[:, k] = sensitivity(b, paramRanges[:, k], conc_l, k, g1_0, g2_0, g1, g2)\n",
    "end"
   ]
  },
  {
   "cell_type": "code",
   "execution_count": null,
   "metadata": {},
   "outputs": [],
   "source": [
    "using Plots;\n",
    "pl = [plotUnitSensitivity(paramRanges[:, i], result[:, i], ps[i]) for i=1:11]\n",
    "plot(pl...)\n",
    "plot!(size=(1200, 800))"
   ]
  }
 ],
 "metadata": {
  "kernelspec": {
   "display_name": "Julia 1.3.0",
   "language": "julia",
   "name": "julia-1.3"
  },
  "language_info": {
   "file_extension": ".jl",
   "mimetype": "application/julia",
   "name": "julia",
   "version": "1.3.0"
  }
 },
 "nbformat": 4,
 "nbformat_minor": 4
}
