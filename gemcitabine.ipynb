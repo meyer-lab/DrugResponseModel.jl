{
 "cells": [
  {
   "cell_type": "code",
   "execution_count": null,
   "metadata": {},
   "outputs": [],
   "source": [
    "import Pkg;\n",
    "Pkg.instantiate()\n",
    "using DrugResponseModel\n",
    "\n",
    "# import data from the path\n",
    "conc_l, pop, g2, g1, g2_0, g1_0 = setup_data(\"gemcitabine\")\n",
    "\n",
    "# costt, ps = optimize_hill(conc_l, g1, g2, g1_0, g2_0, maxstep=4E4)\n",
    "# ps = [14.1783, 0.10504, 0.0629085, 2.72413, 0.289606, 0.183307, 4.28816e-7, 0.408105, 0.549998, 2.47422, 10.6067]\n",
    "# with one death subphase\n",
    "ps = [13.6437, 2.88708, 1.52487, 2.81368, 0.283775, 0.177432, 0.00011202, 0.379415, 0.499079, 54.5291, 10.4729]\n",
    "effects = getODEparams(ps, conc_l)"
   ]
  },
  {
   "cell_type": "code",
   "execution_count": null,
   "metadata": {},
   "outputs": [],
   "source": [
    "ODEplot_all(effects, g1, g2, g1_0, g2_0, pop, conc_l)"
   ]
  },
  {
   "cell_type": "code",
   "execution_count": null,
   "metadata": {},
   "outputs": [],
   "source": [
    "ODEplot_allPerc(effects, g1, g2, g1_0, g2_0, pop, conc_l)"
   ]
  },
  {
   "cell_type": "code",
   "execution_count": null,
   "metadata": {},
   "outputs": [],
   "source": [
    "plot_parameters(conc_l, effects)"
   ]
  },
  {
   "cell_type": "code",
   "execution_count": null,
   "metadata": {},
   "outputs": [],
   "source": [
    "result, paramRanges = allSensitivity(ps, conc_l, g1_0, g2_0, g1, g2)\n",
    "\n",
    "using Plots;\n",
    "pl = [plotUnitSensitivity(paramRanges[:, i], result[:, i], ps[i], i) for i=1:11]\n",
    "plot(pl...)\n",
    "plot!(size=(1200, 800))"
   ]
  }
 ],
 "metadata": {
  "kernelspec": {
   "display_name": "Julia 1.3.0",
   "language": "julia",
   "name": "julia-1.3"
  },
  "language_info": {
   "file_extension": ".jl",
   "mimetype": "application/julia",
   "name": "julia",
   "version": "1.3.0"
  }
 },
 "nbformat": 4,
 "nbformat_minor": 4
}
