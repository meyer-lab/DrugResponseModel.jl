{
 "cells": [
  {
   "cell_type": "code",
   "execution_count": null,
   "metadata": {},
   "outputs": [],
   "source": [
    "import Pkg;\n",
    "Pkg.instantiate()\n",
    "using DrugResponseModel\n",
    "using Plots;\n",
    "\n",
    "# import data from the path\n",
    "conc_l, pop, g2, g1 = setup_data(\"gemcitabine\")\n",
    "\n",
    "# costt, ps = optimize_hill(conc_l, g1, g2, maxstep = 6E4)\n",
    "ps = [26.5608, 0.753368, 1.00515, 1.0, 0.310569, 1.0, 0.00271854, 0.1414, 0.513829, 15.6571, 10.4816, 45.2712, 2.48862]\n",
    "effects = getODEparams(ps, conc_l)"
   ]
  },
  {
   "cell_type": "code",
   "execution_count": null,
   "metadata": {},
   "outputs": [],
   "source": [
    "f = LinRange(0.0, 0.005, 100)\n",
    "num = zeros(100)\n",
    "g0 = g1[1] + g2[1]\n",
    "for (i,v) in enumerate(f)\n",
    "    ppp = [0.7533676235831305, 0.310568939766208, 0.0, 0.0, 0.5138291965625418, 15.0, 10.0, 45.0, 2.0]\n",
    "    ppp[4] = v\n",
    "    num[i] = numcells(ppp, g0, 150)\n",
    "end\n",
    "using Plots;\n",
    "plot(f,num)\n"
   ]
  },
  {
   "cell_type": "code",
   "execution_count": null,
   "metadata": {},
   "outputs": [],
   "source": [
    "concentration = LinRange(minimum(conc_l), maximum(conc_l), 20)\n",
    "conc = Vector{Float64}(concentration)\n",
    "effects2 = getODEparams(ps, conc)\n",
    "\n",
    "g0 = g1[1] + g2[1]\n",
    "xx = LinRange(1.0, 150, 100)\n",
    "@gif for (i,v) in enumerate(xx)\n",
    "    plotGradient(effects, conc_l, g0, Int(floor(v)), string(i))\n",
    "    ylims!((-500.0, 500.0))\n",
    "end every 1"
   ]
  },
  {
   "cell_type": "code",
   "execution_count": null,
   "metadata": {},
   "outputs": [],
   "source": [
    "ODEplot_all(effects, g1, g2, pop, conc_l)"
   ]
  },
  {
   "cell_type": "code",
   "execution_count": null,
   "metadata": {},
   "outputs": [],
   "source": [
    "ODEplot_allPerc(effects, g1, g2, pop, conc_l)"
   ]
  },
  {
   "cell_type": "code",
   "execution_count": null,
   "metadata": {},
   "outputs": [],
   "source": [
    "plot_parameters(conc_l, effects)"
   ]
  },
  {
   "cell_type": "code",
   "execution_count": null,
   "metadata": {},
   "outputs": [],
   "source": [
    "result, paramRanges = allSensitivity(ps, conc_l, g1, g2)\n",
    "\n",
    "using Plots;\n",
    "pl = [plotUnitSensitivity(paramRanges[:, i], result[:, i], ps[i], i) for i=1:11]\n",
    "plot(pl...)\n",
    "plot!(size=(1200, 800))"
   ]
  }
 ],
 "metadata": {
  "kernelspec": {
   "display_name": "Julia 1.3.0",
   "language": "julia",
   "name": "julia-1.3"
  },
  "language_info": {
   "file_extension": ".jl",
   "mimetype": "application/julia",
   "name": "julia",
   "version": "1.3.0"
  }
 },
 "nbformat": 4,
 "nbformat_minor": 4
}
