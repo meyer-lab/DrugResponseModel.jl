{
 "cells": [
  {
   "cell_type": "code",
   "execution_count": null,
   "metadata": {},
   "outputs": [],
   "source": [
    "import Pkg;\n",
    "Pkg.instantiate()\n",
    "using DrugResponseModel\n",
    "using Plots;\n",
    "\n",
    "# import data from the path\n",
    "conc_l, pop, g2, g1 = setup_data(\"gemcitabine\")\n",
    "\n",
    "# costt, ps = optimize_hill(conc_l, g1, g2, maxstep = 4E4)\n",
    "# ps = [10.8326, 1.00369, 1.03549, 2.19808, 0.444854, 1.17305, 0.00923942, 0.122813, 0.483379, 20.7231, 15.4483, 6.60142, 4.18506]\n",
    "ps = [18.3244, 0.966066, 0.446132, 0.999835, 0.602415, 0.0141278, 0.941038, 0.99804, 0.648103, 18.7014, 10.041, 9.21682, 18.7781, 0.00200936, 0.0256888]\n",
    "effects = getODEparams(ps, conc_l)"
   ]
  },
  {
   "cell_type": "code",
   "execution_count": null,
   "metadata": {},
   "outputs": [],
   "source": [
    "f = LinRange(0.0, 1.0, 100)\n",
    "num = zeros(100)\n",
    "g0 = g1[1] + g2[1]\n",
    "for (i,v) in enumerate(f)\n",
    "    ppp = effects[:, 7]\n",
    "    ppp[3] = v\n",
    "    num[i] = numcells(ppp, g0, 50.0)\n",
    "end\n",
    "using Plots;\n",
    "plot(f,num)"
   ]
  },
  {
   "cell_type": "code",
   "execution_count": null,
   "metadata": {},
   "outputs": [],
   "source": [
    "concentration = LinRange(minimum(conc_l), maximum(conc_l), 20)\n",
    "conc = Vector{Float64}(concentration)\n",
    "effects2 = getODEparams(ps, conc)\n",
    "\n",
    "g0 = g1[1] + g2[1]\n",
    "xx = LinRange(0.0, 95.5, 150)\n",
    "@gif for (i,v) in enumerate(xx)\n",
    "    plotGradient(effects, conc_l, g0, v, string(i))\n",
    "    ylims!((-200.0, 200.0))\n",
    "end every 1"
   ]
  },
  {
   "cell_type": "code",
   "execution_count": null,
   "metadata": {},
   "outputs": [],
   "source": [
    "ODEplot_all(effects, g1, g2, pop, conc_l)"
   ]
  },
  {
   "cell_type": "code",
   "execution_count": null,
   "metadata": {},
   "outputs": [],
   "source": [
    "ODEplot_allPerc(effects, g1, g2, pop, conc_l)"
   ]
  },
  {
   "cell_type": "code",
   "execution_count": null,
   "metadata": {},
   "outputs": [],
   "source": [
    "plot_parameters(conc_l, effects)"
   ]
  },
  {
   "cell_type": "code",
   "execution_count": null,
   "metadata": {},
   "outputs": [],
   "source": [
    "result, paramRanges = allSensitivity(ps, conc_l, g1, g2)\n",
    "\n",
    "using Plots;\n",
    "pl = [plotUnitSensitivity(paramRanges[:, i], result[:, i], ps[i], i) for i=1:11]\n",
    "plot(pl...)\n",
    "plot!(size=(1200, 800))"
   ]
  }
 ],
 "metadata": {
  "kernelspec": {
   "display_name": "Julia 1.3.0",
   "language": "julia",
   "name": "julia-1.3"
  },
  "language_info": {
   "file_extension": ".jl",
   "mimetype": "application/julia",
   "name": "julia",
   "version": "1.3.0"
  }
 },
 "nbformat": 4,
 "nbformat_minor": 4
}
