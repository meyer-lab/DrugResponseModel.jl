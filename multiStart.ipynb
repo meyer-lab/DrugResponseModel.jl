{
 "metadata": {
  "language_info": {
   "codemirror_mode": {
    "name": "ipython",
    "version": 3
   },
   "file_extension": ".py",
   "mimetype": "text/x-python",
   "name": "python",
   "nbconvert_exporter": "python",
   "pygments_lexer": "ipython3",
   "version": 3
  },
  "orig_nbformat": 2,
  "kernelspec": {
   "name": "julia-1.5",
   "display_name": "Julia 1.5.3",
   "language": "julia"
  }
 },
 "nbformat": 4,
 "nbformat_minor": 2,
 "cells": [
  {
   "cell_type": "code",
   "execution_count": 1,
   "metadata": {},
   "outputs": [
    {
     "output_type": "stream",
     "name": "stderr",
     "text": [
      "\u001b[32m\u001b[1m Activating\u001b[22m\u001b[39m environment at `~/ODE/DrugResponseModel.jl/Project.toml`\n",
      "┌ Info: Precompiling DrugResponseModel [f46a7e40-ab32-11e9-0ff4-0323d592fbfd]\n",
      "└ @ Base loading.jl:1278\n"
     ]
    }
   ],
   "source": [
    "import Pkg; Pkg.instantiate()\n",
    "Pkg.activate(\".\")\n",
    "using DrugResponseModel"
   ]
  },
  {
   "cell_type": "code",
   "execution_count": 2,
   "metadata": {},
   "outputs": [],
   "source": [
    "using Plots, LinearAlgebra\n",
    "\n",
    "concs, _, g1s1, g2s1 = load(189, 1);\n",
    "_, _, g1s2, g2s2 = load(189, 2);\n",
    "_, _, g1s3, g2s3 = load(189, 3);\n",
    "g0 = g1s1[1,1,1]+g2s1[1,1,1];\n",
    "g1m = (g1s1 .+ g1s2 .+ g1s3) ./ 3;\n",
    "g2m = (g2s1 .+ g2s2 .+ g2s3) ./ 3;"
   ]
  },
  {
   "cell_type": "code",
   "execution_count": 3,
   "metadata": {},
   "outputs": [
    {
     "output_type": "execute_result",
     "data": {
      "text/plain": [
       "([198.09875749656953, 0.8895095234781257, 0.12170291577650581, 8.627555355468958, 0.4197637315680979, 0.9864702206487033, 2.0407547554609993, 0.7845093824748124, 0.6515535788935801, 34.58050566159047, 26.979297577452193, 9.417737646636686, 29.414900906741924], 20.25961545014523)"
      ]
     },
     "metadata": {},
     "execution_count": 3
    }
   ],
   "source": [
    "DrugResponseModel.optimize_hill(concs[:, 1], g1m[:, :, 1], g2m[:, :, 1])"
   ]
  },
  {
   "cell_type": "code",
   "execution_count": null,
   "metadata": {},
   "outputs": [],
   "source": []
  }
 ]
}