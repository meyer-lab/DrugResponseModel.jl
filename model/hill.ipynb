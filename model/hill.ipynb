{
 "cells": [
  {
   "cell_type": "markdown",
   "metadata": {},
   "source": [
    "### Import data"
   ]
  },
  {
   "cell_type": "code",
   "execution_count": 1,
   "metadata": {},
   "outputs": [
    {
     "name": "stdout",
     "output_type": "stream",
     "text": [
      "Any[0.0 5.0 10.0 25.0 50.0 100.0 250.0 500.0]"
     ]
    },
    {
     "name": "stderr",
     "output_type": "stream",
     "text": [
      "┌ Warning: `setindex!(df::DataFrame, v::AbstractVector, ::Colon, col_ind::ColumnIndex)` is deprecated, use `begin\n",
      "│     df[!, col_ind] = v\n",
      "│     df\n",
      "│ end` instead.\n",
      "│   caller = get_data(::String, ::String) at importData.jl:28\n",
      "└ @ Main /home/farnazm/Hill/one_state_model/model/importData.jl:28\n"
     ]
    }
   ],
   "source": [
    "include(\"importData.jl\")\n",
    "include(\"Hill.jl\")\n",
    "include(\"plot.jl\")\n",
    "\n",
    "# import drug concentrations\n",
    "param_lap_dde = CSV.read(\".//figures//Lapatinib//params_lap_DDE.csv\")\n",
    "concentrations = permutedims(Vector(param_lap_dde[8,2:end]));\n",
    "print(concentrations)\n",
    "\n",
    "# import G1 and G2 data\n",
    "pop, g2, g1, g1_0, g2_0 = get_data(\"..//data//lap.csv\", \"..//data//lap_pop.csv\");"
   ]
  },
  {
   "cell_type": "markdown",
   "metadata": {},
   "source": [
    "### Hill model, residual functions and optimization"
   ]
  },
  {
   "cell_type": "code",
   "execution_count": null,
   "metadata": {},
   "outputs": [],
   "source": [
    "# lower bound\n",
    "low = [150.0, 0.001, 0.2, 0.01, 0.01, 0.001, 0.01, 20.0, 0.1, 0.01, 19.0, 0.01, 0.01, 0.001, 0.01, 0.001, 0.01]\n",
    "# upper bound\n",
    "high = [250.0, 0.01, 0.4, 0.04, 0.05, 0.02, 0.04, 35.0, 3.0, 0.04, 23.0, 2.0, 0.4, 0.01, 0.04, 0.04, 0.04]\n",
    "# initial guess\n",
    "guess = [180.0, 0.005, 0.3, 0.02, 0.02, 0.006, 0.02, 25.0, 1.2, 0.02, 20.0, 0.2, 0.02, 0.001, 0.02, 0.01, 0.02]\n",
    "\n",
    "optimizer_result = optimize_hill(concentrations, guess, low, high)"
   ]
  },
  {
   "cell_type": "markdown",
   "metadata": {},
   "source": [
    "### Plot Hill curve for all of the DDE model parameters"
   ]
  },
  {
   "cell_type": "code",
   "execution_count": null,
   "metadata": {},
   "outputs": [],
   "source": [
    "using Plots;\n",
    "params = optimizer_result.minimizer\n",
    "effects = zeros(6, 8)\n",
    "for i in 1:8\n",
    "    effects[1, i] = hill(params[1:4], concentrations[i])\n",
    "    effects[2, i] = hill(append!([params[1]], params[5:7]), concentrations[i])\n",
    "    effects[3, i] = hill(append!([params[1]], params[8:10]), concentrations[i])\n",
    "    effects[4, i] = hill(append!([params[1]], params[11:13]), concentrations[i])\n",
    "    effects[5, i] = hill(append!([params[1], params[14]], [0, params[15]]), concentrations[i])\n",
    "    effects[6, i] = hill(append!([params[1], params[16]], [0, params[17]]), concentrations[i])\n",
    "end\n",
    "\n",
    "\n",
    "c = permutedims(Array(concentrations))\n",
    "plot(c, effects[1, :], label = \"alpha\", linewidth = 2, xlabel = \"concentration [nM]\", ylabel = \"drug effect\")\n",
    "plot!(c, effects[2, :], label = \"beta\", linewidth = 2, legend =:right)\n",
    "plot!(c, effects[5, :], label = \"gamma1\", linewidth = 2)\n",
    "plot!(c, effects[6, :], label = \"gamma2\", linewidth = 2)\n"
   ]
  },
  {
   "cell_type": "code",
   "execution_count": null,
   "metadata": {},
   "outputs": [],
   "source": [
    "plot(c, effects[3, :], label = \"tau1\", linewidth = 2, xlabel = \"concentration [nM]\", ylabel = \"drug effect\")\n",
    "plot!(c, effects[4, :], label = \"tau2\", linewidth = 2, legend =:right)"
   ]
  },
  {
   "cell_type": "markdown",
   "metadata": {},
   "source": [
    "### Plot the data with the new set of parameters for DDE"
   ]
  },
  {
   "cell_type": "code",
   "execution_count": null,
   "metadata": {},
   "outputs": [],
   "source": [
    "j = 6\n",
    "# for instance we want to plot the data and estimated for some trial \n",
    "alpha_ = hill(params[1:4], concentrations[j])\n",
    "beta_ = hill(append!([params[1]], params[5:7]), concentrations[j])\n",
    "tau1_ = hill(append!([params[1]], params[8:10]), concentrations[j])\n",
    "tau2_ =hill(append!([params[1]], params[11:13]), concentrations[j])\n",
    "gamma1_ = hill(append!([params[1], params[14]], [0, params[15]]), concentrations[j])\n",
    "gamma2_ = hill(append!([params[1], params[16]], [0, params[17]]), concentrations[j])\n",
    "\n",
    "dde_params = [alpha_, beta_, tau1_, tau2_, gamma1_, gamma2_]\n",
    "plotIt(dde_params, g1, g2, g1_0, g2_0, pop, j, \"Lapatinib\")\n"
   ]
  }
 ],
 "metadata": {
  "kernelspec": {
   "display_name": "Julia 1.1.1",
   "language": "julia",
   "name": "julia-1.1"
  },
  "language_info": {
   "file_extension": ".jl",
   "mimetype": "application/julia",
   "name": "julia",
   "version": "1.1.1"
  }
 },
 "nbformat": 4,
 "nbformat_minor": 4
}
