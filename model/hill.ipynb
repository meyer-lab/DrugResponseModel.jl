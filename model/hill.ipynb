{
 "cells": [
  {
   "cell_type": "markdown",
   "metadata": {},
   "source": [
    "### Import data"
   ]
  },
  {
   "cell_type": "code",
   "execution_count": 2,
   "metadata": {},
   "outputs": [
    {
     "name": "stdout",
     "output_type": "stream",
     "text": [
      "Any[0.0 1.0 10.0 20.0 50.0 125.0 250.0 500.0]"
     ]
    },
    {
     "name": "stderr",
     "output_type": "stream",
     "text": [
      "┌ Warning: `setindex!(df::DataFrame, v::AbstractVector, ::Colon, col_ind::ColumnIndex)` is deprecated, use `begin\n",
      "│     df[!, col_ind] = v\n",
      "│     df\n",
      "│ end` instead.\n",
      "│   caller = get_data(::String, ::String) at importData.jl:30\n",
      "└ @ Main /home/farnazm/forwardDiff/one_state_model/model/importData.jl:30\n"
     ]
    }
   ],
   "source": [
    "include(\"importData.jl\")\n",
    "include(\"Hill.jl\")\n",
    "include(\"plot.jl\")\n",
    "\n",
    "# import drug concentrations\n",
    "param_lap_dde = CSV.read(\".//figures//Dox//params_dox_DDE.csv\")\n",
    "concentrations = permutedims(Vector(param_lap_dde[8,2:end]));\n",
    "print(concentrations)\n",
    "\n",
    "# import G1 and G2 data\n",
    "pop, g2, g1, g2_0, g1_0 = get_data(\"..//data//dox.csv\", \"..//data//dox_pop.csv\");"
   ]
  },
  {
   "cell_type": "markdown",
   "metadata": {},
   "source": [
    "### The new approach with the BlackBoxOptim;"
   ]
  },
  {
   "cell_type": "code",
   "execution_count": null,
   "metadata": {},
   "outputs": [],
   "source": [
    "# lower bound\n",
    "low = [50.0, 0.001, 0.2, 0.01, 0.01, 0.001, 0.01, 20.0, 0.1, 0.01, 19.0, 0.01, 0.01, 0.001, 0.01, 0.001, 0.01]\n",
    "# upper bound\n",
    "high = [250.0, 0.01, 0.4, 0.04, 0.05, 0.02, 0.04, 35.0, 3.0, 0.04, 23.0, 2.0, 0.4, 0.01, 0.04, 0.04, 0.04]\n",
    "# initial guess\n",
    "guess = [100.0, 0.005, 0.3, 0.02, 0.02, 0.006, 0.02, 25.0, 1.2, 0.02, 20.0, 0.2, 0.02, 0.001, 0.02, 0.01, 0.02]\n",
    "\n",
    "optimize_hill(concentrations, guess, low, high, g1, g2, g1_0, g2_0)"
   ]
  },
  {
   "cell_type": "code",
   "execution_count": null,
   "metadata": {},
   "outputs": [],
   "source": [
    "hill(p, concentration) =  p[2] + ((p[3] - p[2]) / (1 + 10^((concentration - p[1])*p[4])))\n",
    "\n",
    "function residHill(hillParams, concentrations, g1, g2, g1_0, g2_0)\n",
    "    \"\"\" This functions takes in hill parameters for all the concentrations and calculates\n",
    "    DDE parameters, passes them to residual function and based off of these, optimizes the model\n",
    "    and estimates hill parameters. \"\"\"\n",
    "\n",
    "    num_concentration = length(concentrations)\n",
    "    data_size = length(g1[:, 1])\n",
    "    obj = zeros(num_concentration)\n",
    "\n",
    "#     EC50  for all of the trials is hillParams[1]\n",
    "    for ii in 1:num_concentration\n",
    "        alpha = hill(append!([hillParams[1]], hillParams[2:4]), concentrations[ii])\n",
    "        beta = hill(append!([hillParams[1]], hillParams[5:7]), concentrations[ii])\n",
    "        tau1 = hill(append!([hillParams[1]], hillParams[8:10]), concentrations[ii])\n",
    "        tau2 = hill(append!([hillParams[1]], hillParams[11:13]), concentrations[ii])\n",
    "        gamma1 = hill(append!([hillParams[1], hillParams[14]], [0, hillParams[15]]), concentrations[ii])\n",
    "        gamma2 = hill(append!([hillParams[1], hillParams[16]], [0, hillParams[17]]), concentrations[ii])\n",
    "\n",
    "        pp = [alpha, beta, tau1, tau2, gamma1, gamma2]\n",
    "        _, obj = optimization(g1, g2, g1_0, g2_0, pp, ii)\n",
    "        \n",
    "    end\n",
    "    return obj\n",
    "end\n",
    "\n",
    "param_gem_dde = CSV.read(joinpath(\".\", \"figures\", \"Gem\", \"params_gem_DDE.csv\"))\n",
    "concentrations = permutedims(Vector(param_gem_dde[8,2:end]));\n",
    "guess = log.([100.0, 0.005, 0.3, 0.02, 0.02, 0.006, 0.02, 25.0, 1.2, 0.02, 20.0, 0.2, 0.02, 0.001, 0.02, 0.01, 0.02])\n",
    "residHill(guess, concentrations, g1, g2, g1_0, g2_0)"
   ]
  },
  {
   "cell_type": "code",
   "execution_count": null,
   "metadata": {},
   "outputs": [],
   "source": [
    "function optimize_hill(concentrations, guess, low, high, g1, g2)\n",
    "    obj =residHill(guess, concentrations, g1, g2)\n",
    "     results_dde = optimize(obj, lower=low,\n",
    "                           upper=high,\n",
    "                           log.(guess),\n",
    "                           Fminbox(Optim.LBFGS()))\n",
    "    return Optim.minimizer(results_dde)\n",
    "end"
   ]
  },
  {
   "cell_type": "code",
   "execution_count": null,
   "metadata": {},
   "outputs": [],
   "source": [
    "# lower bound\n",
    "low = log.([50.0, 0.001, 0.2, 0.01, 0.01, 0.001, 0.01, 20.0, 0.1, 0.01, 19.0, 0.01, 0.01, 0.001, 0.01, 0.001, 0.01])\n",
    "# upper bound\n",
    "high = log.([250.0, 0.01, 0.4, 0.04, 0.05, 0.02, 0.04, 35.0, 3.0, 0.04, 23.0, 2.0, 0.4, 0.01, 0.04, 0.04, 0.04])\n",
    "# initial guess\n",
    "\n",
    "guess = log.([100.0, 0.005, 0.3, 0.02, 0.02, 0.006, 0.02, 25.0, 1.2, 0.02, 20.0, 0.2, 0.02, 0.001, 0.02, 0.01, 0.02])\n",
    "# print(guess)\n",
    "optimize_hill(concentrations, guess, low, high, g1, g2)"
   ]
  },
  {
   "cell_type": "markdown",
   "metadata": {},
   "source": [
    "### Hill model (the former one), residual functions and optimization"
   ]
  },
  {
   "cell_type": "code",
   "execution_count": null,
   "metadata": {},
   "outputs": [],
   "source": [
    "# lower bound\n",
    "low = [50.0, 0.001, 0.2, 0.01, 0.01, 0.001, 0.01, 20.0, 0.1, 0.01, 19.0, 0.01, 0.01, 0.001, 0.01, 0.001, 0.01]\n",
    "# upper bound\n",
    "high = [250.0, 0.01, 0.4, 0.04, 0.05, 0.02, 0.04, 35.0, 3.0, 0.04, 23.0, 2.0, 0.4, 0.01, 0.04, 0.04, 0.04]\n",
    "# initial guess\n",
    "guess = [100.0, 0.005, 0.3, 0.02, 0.02, 0.006, 0.02, 25.0, 1.2, 0.02, 20.0, 0.2, 0.02, 0.001, 0.02, 0.01, 0.02]\n",
    "\n",
    "optimizer_result = optimize_hill(concentrations, guess, low, high)"
   ]
  },
  {
   "cell_type": "markdown",
   "metadata": {},
   "source": [
    "### Plot Hill curve for all of the DDE model parameters"
   ]
  },
  {
   "cell_type": "code",
   "execution_count": null,
   "metadata": {},
   "outputs": [],
   "source": [
    "using Plots;\n",
    "params = optimizer_result.minimizer\n",
    "effects = zeros(6, 8)\n",
    "for i in 1:8\n",
    "    effects[1, i] = hill(params[1:4], concentrations[i])\n",
    "    effects[2, i] = hill(append!([params[1]], params[5:7]), concentrations[i])\n",
    "    effects[3, i] = hill(append!([params[1]], params[8:10]), concentrations[i])\n",
    "    effects[4, i] = hill(append!([params[1]], params[11:13]), concentrations[i])\n",
    "    effects[5, i] = hill(append!([params[1], params[14]], [0, params[15]]), concentrations[i])\n",
    "    effects[6, i] = hill(append!([params[1], params[16]], [0, params[17]]), concentrations[i])\n",
    "end\n",
    "\n",
    "\n",
    "c = permutedims(Array(concentrations))\n",
    "plot(c, effects[1, :], label = \"alpha\", linewidth = 2, xlabel = \"concentration [nM]\", ylabel = \"drug effect\")\n",
    "plot!(c, effects[2, :], label = \"beta\", linewidth = 2, legend =:right)\n",
    "plot!(c, effects[5, :], label = \"gamma1\", linewidth = 2)\n",
    "plot!(c, effects[6, :], label = \"gamma2\", linewidth = 2)\n"
   ]
  },
  {
   "cell_type": "code",
   "execution_count": null,
   "metadata": {},
   "outputs": [],
   "source": [
    "plot(c, effects[3, :], label = \"tau1\", linewidth = 2, xlabel = \"concentration [nM]\", ylabel = \"drug effect\")\n",
    "plot!(c, effects[4, :], label = \"tau2\", linewidth = 2, legend =:right)"
   ]
  },
  {
   "cell_type": "markdown",
   "metadata": {},
   "source": [
    "### Plot the data with the new set of parameters for DDE"
   ]
  },
  {
   "cell_type": "code",
   "execution_count": null,
   "metadata": {},
   "outputs": [],
   "source": [
    "j = 6 # trial number\n",
    "# for instance we want to plot the data and estimated for some trial \n",
    "alpha_ = hill(params[1:4], concentrations[j])\n",
    "beta_ = hill(append!([params[1]], params[5:7]), concentrations[j])\n",
    "tau1_ = hill(append!([params[1]], params[8:10]), concentrations[j])\n",
    "tau2_ =hill(append!([params[1]], params[11:13]), concentrations[j])\n",
    "gamma1_ = hill(append!([params[1], params[14]], [0, params[15]]), concentrations[j])\n",
    "gamma2_ = hill(append!([params[1], params[16]], [0, params[17]]), concentrations[j])\n",
    "\n",
    "dde_params = [alpha_, beta_, tau1_, tau2_, gamma1_, gamma2_]\n",
    "plotIt(dde_params, g1, g2, g1_0, g2_0, pop, j, \"Lapatinib\")\n"
   ]
  },
  {
   "cell_type": "code",
   "execution_count": null,
   "metadata": {},
   "outputs": [],
   "source": [
    "using DelayDiffEq, DiffEqParamEstim, BlackBoxOptim, DataFrames, LsqFit\n",
    "using Plots\n",
    "gr()\n",
    "\n",
    "include(\"importData.jl\")\n",
    "include(\"plot.jl\")\n",
    "\n",
    "# import data from the path, in which:\n",
    "# pop: population data\n",
    "# g1, g2: g1 and g2 data\n",
    "# initial: initial number of cells in g1 and in g2 at time 0\n",
    "pop, g2, g1, g2_0, g1_0 = get_data(joinpath(\"..\", \"data\", \"lap.csv\"),\n",
    "                                   joinpath(\"..\", \"data\", \"lap_pop.csv\"))\n",
    "\n",
    "# time points\n",
    "times = range(0.0; stop = 95.5, length = 192)\n",
    "\n",
    "# model\n",
    "function DDEmodel(du, u, h, p, t)\n",
    "    du[1] = -p[1]*(h(p, t-p[3])[1]) + 2*p[2]*(h(p, t-p[4])[2]) - p[5]*u[1]\n",
    "    du[2] = p[1]*(h(p, t-p[3])[1]) - p[2]*(h(p, t-p[4])[2]) - p[6]*u[2]\n",
    "end\n",
    "\n",
    "# estimate history function\n",
    "exp_model(t, p) = @. p[1] * exp(t * p[2]) # exponential model\n",
    "fit1 = curve_fit(exp_model, times, g1[:, 1], [1.0, 0.5])\n",
    "fit2 = curve_fit(exp_model, times, g2[:, 1], [1.0, 0.5])\n",
    "h(p, t) = [exp_model(t, coef(fit1)); exp_model(t, coef(fit2))]\n",
    "\n",
    "# initial guess\n",
    "initial_guess = [0.02798, 0.025502, 21.3481, 10.2881, 0.0001, 0.0001]\n",
    "\n",
    "# problem\n",
    "prob = DDEProblem(DDEmodel, [g1_0[3], g2_0[3]], h, extrema(times), initial_guess;\n",
    "                  constant_lags = [initial_guess[3], initial_guess[4]])\n",
    "\n",
    "# DDE algorithm:\n",
    "# switch automatically between non-stiff solver Tsit5 and stiff solver Rosenbrock23\n",
    "alg = MethodOfSteps(AutoTsit5(Rosenbrock23()))\n",
    "\n",
    "# plot initial guess\n",
    "plot(solve(prob, alg), label = [\"u1(t) (guess)\", \"u2(t) (guess)\"], legend = :topleft,\n",
    "     show = true)\n",
    "\n",
    "# plot data\n",
    "data = vcat(g1[:, 3]', g2[:, 3]')\n",
    "scatter!(times, data', show = true)\n",
    "\n",
    "# define problem generator (optimization in log space)\n",
    "function prob_generator(prob, p)\n",
    "    exp_p = exp.(p)\n",
    "    remake(prob; p = exp_p, constant_lags = [exp_p[3], exp_p[4]])\n",
    "end\n",
    "\n",
    "# define objective function (L2 loss)\n",
    "obj = build_loss_objective(prob, alg, L2Loss(times, data);\n",
    "                           prob_generator = prob_generator)\n",
    "\n",
    "# perform global optimization\n",
    "results_dde = bboptimize(obj;\n",
    "                         SearchRange = [(-6.0, 6.0), (-6.0, 6.0), (0.0, 6.0),\n",
    "                                        (0.0, 6.0), (-10.0, 0.0), (-10.0, 0.0)],\n",
    "                         NumDimensions = 6)\n",
    "\n",
    "# plot solution with best candidate\n",
    "min_p = exp.(best_candidate(results_dde))"
   ]
  },
  {
   "cell_type": "code",
   "execution_count": null,
   "metadata": {},
   "outputs": [],
   "source": [
    "obj.cost_function.verbose_opt"
   ]
  }
 ],
 "metadata": {
  "kernelspec": {
   "display_name": "Julia 1.1.1",
   "language": "julia",
   "name": "julia-1.1"
  },
  "language_info": {
   "file_extension": ".jl",
   "mimetype": "application/julia",
   "name": "julia",
   "version": "1.1.1"
  }
 },
 "nbformat": 4,
 "nbformat_minor": 4
}
