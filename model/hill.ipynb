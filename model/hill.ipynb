{
 "cells": [
  {
   "cell_type": "markdown",
   "metadata": {},
   "source": [
    "### Import data"
   ]
  },
  {
   "cell_type": "code",
   "execution_count": null,
   "metadata": {},
   "outputs": [],
   "source": [
    "include(\"importData.jl\")\n",
    "include(\"Hill.jl\")\n",
    "include(\"plot.jl\")\n",
    "\n",
    "# import drug concentrations\n",
    "param_lap_dde = CSV.read(\".//figures//Dox//params_dox_DDE.csv\")\n",
    "concentrations = permutedims(Vector(param_lap_dde[8,2:end]));\n",
    "print(concentrations)\n",
    "\n",
    "# import G1 and G2 data\n",
    "pop, g2, g1, g2_0, g1_0 = get_data(joinpath(\"..\", \"data\", \"lap.csv\"),\n",
    "                                   joinpath(\"..\", \"data\", \"lap_pop.csv\"))"
   ]
  },
  {
   "cell_type": "markdown",
   "metadata": {},
   "source": [
    "### Hill model, residual functions and optimization"
   ]
  },
  {
   "cell_type": "code",
   "execution_count": null,
   "metadata": {},
   "outputs": [],
   "source": [
    "# lower bound\n",
    "low = [50.0, 0.001, 0.2, 0.01, 0.01, 0.001, 0.01, 20.0, 0.1, 0.01, 19.0, 0.01, 0.01, 0.001, 0.01, 0.001, 0.01]\n",
    "# upper bound\n",
    "high = [250.0, 0.01, 0.4, 0.04, 0.05, 0.02, 0.04, 35.0, 3.0, 0.04, 23.0, 2.0, 0.4, 0.01, 0.04, 0.04, 0.04]\n",
    "\n",
    "optimizer_result = optimize_hill(low, high)"
   ]
  },
  {
   "cell_type": "markdown",
   "metadata": {},
   "source": [
    "### Plot Hill curve for all of the DDE model parameters"
   ]
  },
  {
   "cell_type": "code",
   "execution_count": null,
   "metadata": {},
   "outputs": [],
   "source": [
    "using Plots;\n",
    "ppp = [127.782, 0.00660381, 0.399771, 0.0290668, 0.0322067, 0.019493, 0.0103518, 32.9621, 2.99971, 0.0100256, 21.3454, 0.0178769, 0.18423, 0.00335835, 0.033172, 0.039048, 0.0250736]\n",
    "effects = zeros(6, 8)\n",
    "for i in 1:8\n",
    "    effects[1, i] = hill(ppp[1:4], concentrations[i])\n",
    "    effects[2, i] = hill(append!([ppp[1]], ppp[5:7]), concentrations[i])\n",
    "    effects[3, i] = hill(append!([ppp[1]], ppp[8:10]), concentrations[i])\n",
    "    effects[4, i] = hill(append!([ppp[1]], ppp[11:13]), concentrations[i])\n",
    "    effects[5, i] = hill(append!([ppp[1], ppp[14]], [0, ppp[15]]), concentrations[i])\n",
    "    effects[6, i] = hill(append!([ppp[1], ppp[16]], [0, ppp[17]]), concentrations[i])\n",
    "end\n",
    "\n",
    "\n",
    "c = [0.0, 1.0, 10.0, 20.0, 50.0, 125.0, 250.0, 500.0]\n",
    "plot(c, effects[1, :], label = \"alpha\", linewidth = 2, xlabel = \"concentration [nM]\", ylabel = \"drug effect\")\n",
    "plot!(c, effects[2, :], label = \"beta\", linewidth = 2, legend =:right)\n",
    "plot!(c, effects[5, :], label = \"gamma1\", linewidth = 2)\n",
    "plot!(c, effects[6, :], label = \"gamma2\", linewidth = 2)\n"
   ]
  },
  {
   "cell_type": "code",
   "execution_count": null,
   "metadata": {},
   "outputs": [],
   "source": [
    "plot(c, effects[3, :], label = \"tau1\", linewidth = 2, xlabel = \"concentration [nM]\", ylabel = \"drug effect\")\n",
    "plot!(c, effects[4, :], label = \"tau2\", linewidth = 2, legend =:right)"
   ]
  },
  {
   "cell_type": "markdown",
   "metadata": {},
   "source": [
    "### Plot the data with the new set of parameters for DDE"
   ]
  },
  {
   "cell_type": "code",
   "execution_count": null,
   "metadata": {},
   "outputs": [],
   "source": [
    "include(\"DDEmodel.jl\")\n",
    "j = 3 # trial number\n",
    "data = vcat(g1[:, j]', g2[:, j]')\n",
    "# for instance we want to plot the data and estimated for some trial \n",
    "alpha_ = hill(ppp[1:4], concentrations[j])\n",
    "beta_ = hill(append!([ppp[1]], ppp[5:7]), concentrations[j])\n",
    "tau1_ = hill(append!([ppp[1]], ppp[8:10]), concentrations[j])\n",
    "tau2_ =hill(append!([ppp[1]], ppp[11:13]), concentrations[j])\n",
    "gamma1_ = hill(append!([ppp[1], ppp[14]], [0, ppp[15]]), concentrations[j])\n",
    "gamma2_ = hill(append!([ppp[1], ppp[16]], [0, ppp[17]]), concentrations[j])\n",
    "\n",
    "dde_params = [alpha_, beta_, tau1_, tau2_, gamma1_, gamma2_]\n",
    "PlotIt(g1_0, g2_0, g1, g2, j, dde_params, data)"
   ]
  }
 ],
 "metadata": {
  "kernelspec": {
   "display_name": "Julia 1.1.1",
   "language": "julia",
   "name": "julia-1.1"
  },
  "language_info": {
   "file_extension": ".jl",
   "mimetype": "application/julia",
   "name": "julia",
   "version": "1.1.1"
  }
 },
 "nbformat": 4,
 "nbformat_minor": 4
}
