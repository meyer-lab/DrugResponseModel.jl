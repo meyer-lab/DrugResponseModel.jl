{
 "cells": [
  {
   "cell_type": "markdown",
   "metadata": {},
   "source": [
    "### Import data"
   ]
  },
  {
   "cell_type": "code",
   "execution_count": 2,
   "metadata": {},
   "outputs": [
    {
     "name": "stderr",
     "output_type": "stream",
     "text": [
      "┌ Warning: `setindex!(df::DataFrame, v::AbstractVector, ::Colon, col_ind::ColumnIndex)` is deprecated, use `begin\n",
      "│     df[!, col_ind] = v\n",
      "│     df\n",
      "│ end` instead.\n",
      "│   caller = get_data(::String, ::String) at importData.jl:29\n",
      "└ @ Main /home/farnazm/forwardDiff/one_state_model/model/importData.jl:29\n"
     ]
    }
   ],
   "source": [
    "include(\"importData.jl\")\n",
    "# include(\"DDEmodel.jl\")\n",
    "include(\"plot.jl\")\n",
    "\n",
    "# import data from the path\n",
    "pop, g2, g1, g2_0, g1_0 = get_data(joinpath(\"..\", \"data\", \"lap.csv\"),\n",
    "                                   joinpath(\"..\", \"data\", \"lap_pop.csv\")); # in which:\n"
   ]
  },
  {
   "cell_type": "markdown",
   "metadata": {},
   "source": [
    "### DDE modified"
   ]
  },
  {
   "cell_type": "code",
   "execution_count": null,
   "metadata": {},
   "outputs": [],
   "source": [
    "# i is the number of the column we are using from the data (# of trial)\n",
    "i = 6\n",
    "\n",
    "# initial guess\n",
    "p = [0.02798, 0.025502, 21.3481, 10.2881, 0.0001, 0.0001]\n",
    "\n",
    "# lower and upper bound set for parameters\n",
    "low = [0.015, 0.003, 3.0, 7.0, 0.0001, 0.0001]\n",
    "upp = [0.075, 0.075, 30.0, 100.0, 0.05, 0.05]\n",
    "\n",
    "# Estimating the parameters for trial i\n",
    "params = optimIt(p, low, upp, i, g1, g2)\n",
    "\n",
    "# Plotting the long-term prediction along with the data for trial i\n",
    "plotIt(params, g1, g2, g1_0, g2_0, pop, i, \"Lapatinib\")"
   ]
  }
 ],
 "metadata": {
  "kernelspec": {
   "display_name": "Julia 1.1.1",
   "language": "julia",
   "name": "julia-1.1"
  },
  "language_info": {
   "file_extension": ".jl",
   "mimetype": "application/julia",
   "name": "julia",
   "version": "1.1.1"
  }
 },
 "nbformat": 4,
 "nbformat_minor": 4
}
