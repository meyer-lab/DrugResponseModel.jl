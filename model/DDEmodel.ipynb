{
 "cells": [
  {
   "cell_type": "markdown",
   "metadata": {},
   "source": [
    "### Using BlackBoxOptim"
   ]
  },
  {
   "cell_type": "code",
   "execution_count": 1,
   "metadata": {},
   "outputs": [
    {
     "name": "stderr",
     "output_type": "stream",
     "text": [
      "┌ Warning: `setindex!(df::DataFrame, v::AbstractVector, ::Colon, col_ind::ColumnIndex)` is deprecated, use `begin\n",
      "│     df[!, col_ind] = v\n",
      "│     df\n",
      "│ end` instead.\n",
      "│   caller = get_data(::String, ::String) at importData.jl:30\n",
      "└ @ Main /home/farnazm/forwardDiff/one_state_model/model/importData.jl:30\n"
     ]
    },
    {
     "name": "stdout",
     "output_type": "stream",
     "text": [
      "Hereeeeeeeeeeeeeee47530.69692255779"
     ]
    },
    {
     "data": {
      "text/plain": [
       "([0.0492027, 0.0153143, 22.6754, 7.52238, 4.95807e-5, 0.025495], DiffEqObjective{getfield(DiffEqParamEstim, Symbol(\"##39#44\")){Nothing,Bool,Int64,typeof(prob_generator),Base.Iterators.Pairs{Union{},Union{},Tuple{},NamedTuple{(),Tuple{}}},DDEProblem{Array{Float64,1},Tuple{Float64,Float64},Array{Float64,1},Tuple{},true,Array{Float64,1},DDEFunction{true,typeof(DDEmodel),LinearAlgebra.UniformScaling{Bool},Nothing,Nothing,Nothing,Nothing,Nothing,Nothing,Nothing,Nothing,Nothing},getfield(Main, Symbol(\"#h#3\")){Array{Float64,1},Array{Float64,1}},Nothing},MethodOfSteps{CompositeAlgorithm{Tuple{Tsit5,Rosenbrock23{0,true,DefaultLinSolve,DataType}},AutoSwitch{Tsit5,Rosenbrock23{0,true,DefaultLinSolve,DataType},Rational{Int64},Float64}},Nothing,Nothing,Nothing,false},L2Loss{StepRangeLen{Float64,Base.TwicePrecision{Float64},Base.TwicePrecision{Float64}},Array{Float64,2},Nothing,Nothing,Nothing},Nothing},getfield(DiffEqParamEstim, Symbol(\"##43#49\"))}(getfield(DiffEqParamEstim, Symbol(\"##39#44\")){Nothing,Bool,Int64,typeof(prob_generator),Base.Iterators.Pairs{Union{},Union{},Tuple{},NamedTuple{(),Tuple{}}},DDEProblem{Array{Float64,1},Tuple{Float64,Float64},Array{Float64,1},Tuple{},true,Array{Float64,1},DDEFunction{true,typeof(DDEmodel),LinearAlgebra.UniformScaling{Bool},Nothing,Nothing,Nothing,Nothing,Nothing,Nothing,Nothing,Nothing,Nothing},getfield(Main, Symbol(\"#h#3\")){Array{Float64,1},Array{Float64,1}},Nothing},MethodOfSteps{CompositeAlgorithm{Tuple{Tsit5,Rosenbrock23{0,true,DefaultLinSolve,DataType}},AutoSwitch{Tsit5,Rosenbrock23{0,true,DefaultLinSolve,DataType},Rational{Int64},Float64}},Nothing,Nothing,Nothing,false},L2Loss{StepRangeLen{Float64,Base.TwicePrecision{Float64},Base.TwicePrecision{Float64}},Array{Float64,2},Nothing,Nothing,Nothing},Nothing}(nothing, false, 100, prob_generator, Base.Iterators.Pairs{Union{},Union{},Tuple{},NamedTuple{(),Tuple{}}}(), \u001b[36mDDEProblem\u001b[0m with uType \u001b[36mArray{Float64,1}\u001b[0m and tType \u001b[36mFloat64\u001b[0m. In-place: \u001b[36mtrue\u001b[0m\n",
       "timespan: (0.0, 95.5)\n",
       "u0: [13.2575, 6.74252], MethodOfSteps{CompositeAlgorithm{Tuple{Tsit5,Rosenbrock23{0,true,DefaultLinSolve,DataType}},AutoSwitch{Tsit5,Rosenbrock23{0,true,DefaultLinSolve,DataType},Rational{Int64},Float64}},Nothing,Nothing,Nothing,false}(CompositeAlgorithm{Tuple{Tsit5,Rosenbrock23{0,true,DefaultLinSolve,DataType}},AutoSwitch{Tsit5,Rosenbrock23{0,true,DefaultLinSolve,DataType},Rational{Int64},Float64}}((Tsit5(), Rosenbrock23{0,true,DefaultLinSolve,DataType}(DefaultLinSolve(nothing, nothing), Val{:forward})), AutoSwitch{Tsit5,Rosenbrock23{0,true,DefaultLinSolve,DataType},Rational{Int64},Float64}(-338562, Tsit5(), Rosenbrock23{0,true,DefaultLinSolve,DataType}(DefaultLinSolve(nothing, nothing), Val{:forward}), false, 10, 3, 9//10, 9//10, 2.0, false)), nothing, nothing, nothing, 10), L2Loss{StepRangeLen{Float64,Base.TwicePrecision{Float64},Base.TwicePrecision{Float64}},Array{Float64,2},Nothing,Nothing,Nothing}(0.0:0.5:95.5, [13.2575 13.459 … 4.53207 4.4033; 6.74252 6.60138 … 3.22283 3.21165], nothing, nothing, nothing, nothing), nothing, Core.Box(#undef)), getfield(DiffEqParamEstim, Symbol(\"##43#49\"))(Core.Box(getfield(DiffEqParamEstim, Symbol(\"##39#44\")){Nothing,Bool,Int64,typeof(prob_generator),Base.Iterators.Pairs{Union{},Union{},Tuple{},NamedTuple{(),Tuple{}}},DDEProblem{Array{Float64,1},Tuple{Float64,Float64},Array{Float64,1},Tuple{},true,Array{Float64,1},DDEFunction{true,typeof(DDEmodel),LinearAlgebra.UniformScaling{Bool},Nothing,Nothing,Nothing,Nothing,Nothing,Nothing,Nothing,Nothing,Nothing},getfield(Main, Symbol(\"#h#3\")){Array{Float64,1},Array{Float64,1}},Nothing},MethodOfSteps{CompositeAlgorithm{Tuple{Tsit5,Rosenbrock23{0,true,DefaultLinSolve,DataType}},AutoSwitch{Tsit5,Rosenbrock23{0,true,DefaultLinSolve,DataType},Rational{Int64},Float64}},Nothing,Nothing,Nothing,false},L2Loss{StepRangeLen{Float64,Base.TwicePrecision{Float64},Base.TwicePrecision{Float64}},Array{Float64,2},Nothing,Nothing,Nothing},Nothing}(nothing, false, 100, prob_generator, Base.Iterators.Pairs{Union{},Union{},Tuple{},NamedTuple{(),Tuple{}}}(), \u001b[36mDDEProblem\u001b[0m with uType \u001b[36mArray{Float64,1}\u001b[0m and tType \u001b[36mFloat64\u001b[0m. In-place: \u001b[36mtrue\u001b[0m\n",
       "timespan: (0.0, 95.5)\n",
       "u0: [13.2575, 6.74252], MethodOfSteps{CompositeAlgorithm{Tuple{Tsit5,Rosenbrock23{0,true,DefaultLinSolve,DataType}},AutoSwitch{Tsit5,Rosenbrock23{0,true,DefaultLinSolve,DataType},Rational{Int64},Float64}},Nothing,Nothing,Nothing,false}(CompositeAlgorithm{Tuple{Tsit5,Rosenbrock23{0,true,DefaultLinSolve,DataType}},AutoSwitch{Tsit5,Rosenbrock23{0,true,DefaultLinSolve,DataType},Rational{Int64},Float64}}((Tsit5(), Rosenbrock23{0,true,DefaultLinSolve,DataType}(DefaultLinSolve(nothing, nothing), Val{:forward})), AutoSwitch{Tsit5,Rosenbrock23{0,true,DefaultLinSolve,DataType},Rational{Int64},Float64}(-338562, Tsit5(), Rosenbrock23{0,true,DefaultLinSolve,DataType}(DefaultLinSolve(nothing, nothing), Val{:forward}), false, 10, 3, 9//10, 9//10, 2.0, false)), nothing, nothing, nothing, 10), L2Loss{StepRangeLen{Float64,Base.TwicePrecision{Float64},Base.TwicePrecision{Float64}},Array{Float64,2},Nothing,Nothing,Nothing}(0.0:0.5:95.5, [13.2575 13.459 … 4.53207 4.4033; 6.74252 6.60138 … 3.22283 3.21165], nothing, nothing, nothing, nothing), nothing, Core.Box(#undef))), Core.Box(getfield(DiffEqParamEstim, Symbol(\"##42#48\"))(Core.Box(getfield(DiffEqParamEstim, Symbol(\"##39#44\")){Nothing,Bool,Int64,typeof(prob_generator),Base.Iterators.Pairs{Union{},Union{},Tuple{},NamedTuple{(),Tuple{}}},DDEProblem{Array{Float64,1},Tuple{Float64,Float64},Array{Float64,1},Tuple{},true,Array{Float64,1},DDEFunction{true,typeof(DDEmodel),LinearAlgebra.UniformScaling{Bool},Nothing,Nothing,Nothing,Nothing,Nothing,Nothing,Nothing,Nothing,Nothing},getfield(Main, Symbol(\"#h#3\")){Array{Float64,1},Array{Float64,1}},Nothing},MethodOfSteps{CompositeAlgorithm{Tuple{Tsit5,Rosenbrock23{0,true,DefaultLinSolve,DataType}},AutoSwitch{Tsit5,Rosenbrock23{0,true,DefaultLinSolve,DataType},Rational{Int64},Float64}},Nothing,Nothing,Nothing,false},L2Loss{StepRangeLen{Float64,Base.TwicePrecision{Float64},Base.TwicePrecision{Float64}},Array{Float64,2},Nothing,Nothing,Nothing},Nothing}(nothing, false, 100, prob_generator, Base.Iterators.Pairs{Union{},Union{},Tuple{},NamedTuple{(),Tuple{}}}(), \u001b[36mDDEProblem\u001b[0m with uType \u001b[36mArray{Float64,1}\u001b[0m and tType \u001b[36mFloat64\u001b[0m. In-place: \u001b[36mtrue\u001b[0m\n",
       "timespan: (0.0, 95.5)\n",
       "u0: [13.2575, 6.74252], MethodOfSteps{CompositeAlgorithm{Tuple{Tsit5,Rosenbrock23{0,true,DefaultLinSolve,DataType}},AutoSwitch{Tsit5,Rosenbrock23{0,true,DefaultLinSolve,DataType},Rational{Int64},Float64}},Nothing,Nothing,Nothing,false}(CompositeAlgorithm{Tuple{Tsit5,Rosenbrock23{0,true,DefaultLinSolve,DataType}},AutoSwitch{Tsit5,Rosenbrock23{0,true,DefaultLinSolve,DataType},Rational{Int64},Float64}}((Tsit5(), Rosenbrock23{0,true,DefaultLinSolve,DataType}(DefaultLinSolve(nothing, nothing), Val{:forward})), AutoSwitch{Tsit5,Rosenbrock23{0,true,DefaultLinSolve,DataType},Rational{Int64},Float64}(-338562, Tsit5(), Rosenbrock23{0,true,DefaultLinSolve,DataType}(DefaultLinSolve(nothing, nothing), Val{:forward}), false, 10, 3, 9//10, 9//10, 2.0, false)), nothing, nothing, nothing, 10), L2Loss{StepRangeLen{Float64,Base.TwicePrecision{Float64},Base.TwicePrecision{Float64}},Array{Float64,2},Nothing,Nothing,Nothing}(0.0:0.5:95.5, [13.2575 13.459 … 4.53207 4.4033; 6.74252 6.60138 … 3.22283 3.21165], nothing, nothing, nothing, nothing), nothing, Core.Box(#undef))))))))"
      ]
     },
     "execution_count": 1,
     "metadata": {},
     "output_type": "execute_result"
    }
   ],
   "source": [
    "include(\"DDEmodel.jl\")\n",
    "include(\"importData.jl\")\n",
    "\n",
    "# Import the data\n",
    "pop, g2, g1, g2_0, g1_0 = get_data(joinpath(\"..\", \"data\", \"gem.csv\"),\n",
    "                                   joinpath(\"..\", \"data\", \"gem_pop.csv\"))\n",
    "\n",
    "\n",
    "# initial guess\n",
    "initial_guess = log.([0.02798, 0.025502, 21.3481, 10.2881, 0.0001, 0.0001])\n",
    "\n",
    "# trial number\n",
    "j = 8\n",
    "\n",
    "# data\n",
    "data = vcat(g1[:, j]', g2[:, j]');\n",
    "\n",
    "# do the optimization, return the estimated parameters and the objective function\n",
    "min_p, _ = optimization(g1, g2, g1_0, g2_0, initial_guess, j)\n",
    "\n",
    "# plot the long-term estimation and the original data\n",
    "# PlotIt(g1_0, g2_0, j, min_p, data)"
   ]
  },
  {
   "cell_type": "code",
   "execution_count": 3,
   "metadata": {},
   "outputs": [
    {
     "data": {
      "text/plain": [
       "3.0"
      ]
     },
     "execution_count": 3,
     "metadata": {},
     "output_type": "execute_result"
    }
   ],
   "source": [
    "a = [1.0, 2.0]\n",
    "sum(a)"
   ]
  },
  {
   "cell_type": "code",
   "execution_count": null,
   "metadata": {},
   "outputs": [],
   "source": []
  }
 ],
 "metadata": {
  "kernelspec": {
   "display_name": "Julia 1.1.1",
   "language": "julia",
   "name": "julia-1.1"
  },
  "language_info": {
   "file_extension": ".jl",
   "mimetype": "application/julia",
   "name": "julia",
   "version": "1.1.1"
  }
 },
 "nbformat": 4,
 "nbformat_minor": 4
}
