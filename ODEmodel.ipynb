{
 "cells": [
  {
   "cell_type": "markdown",
   "metadata": {},
   "source": [
    "### Import data"
   ]
  },
  {
   "cell_type": "code",
   "execution_count": null,
   "metadata": {},
   "outputs": [],
   "source": [
    "using Pkg\n",
    "Pkg.instantiate()\n",
    "using DrugResponseModel\n",
    "\n",
    "# import data from the path\n",
    "conc_l, pop, g2, g1, g2_0, g1_0 = setup_data(\"lapatinib\");# in which:\n",
    "# pop: population data\n",
    "# g1, g2: g1 and g2 data\n",
    "# initial: initial number of cells in g1 and in g2 at time 0"
   ]
  },
  {
   "cell_type": "markdown",
   "metadata": {},
   "source": [
    "### Estimate "
   ]
  },
  {
   "cell_type": "code",
   "execution_count": null,
   "metadata": {},
   "outputs": [],
   "source": [
    "# ODE optimization and estimation of the parameters\n",
    "params_ode = zeros(4, 8)\n",
    "for i in 1:8\n",
    "    params_ode[:, i] = ODEoptimizer(zeros(4), 2.0*ones(4), [1.0, 1.0, 0.0, 0.0], i, g1, g2, g1_0, g2_0)\n",
    "end"
   ]
  },
  {
   "cell_type": "code",
   "execution_count": null,
   "metadata": {},
   "outputs": [],
   "source": [
    "# plotting the fitted curves\n",
    "ODEplot_all(params_ode, g1, g2, g1_0, g2_0, pop)"
   ]
  }
 ],
 "metadata": {
  "kernelspec": {
   "display_name": "Julia 1.3.0",
   "language": "julia",
   "name": "julia-1.3"
  },
  "language_info": {
   "file_extension": ".jl",
   "mimetype": "application/julia",
   "name": "julia",
   "version": "1.3.0"
  }
 },
 "nbformat": 4,
 "nbformat_minor": 4
}
