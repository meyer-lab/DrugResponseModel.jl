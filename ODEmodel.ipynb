{
 "cells": [
  {
   "cell_type": "markdown",
   "metadata": {},
   "source": [
    "### Import data"
   ]
  },
  {
   "cell_type": "code",
   "execution_count": null,
   "metadata": {},
   "outputs": [],
   "source": [
    "using Pkg\n",
    "Pkg.instantiate()\n",
    "using DrugResponseModel\n",
    "\n",
    "# import data from the path\n",
    "conc_l, pop, g2, g1, g2_0, g1_0 = setup_data(\"lapatinib\");# in which:\n",
    "# pop: population data\n",
    "# g1, g2: g1 and g2 data\n",
    "# initial: initial number of cells in g1 and in g2 at time 0"
   ]
  },
  {
   "cell_type": "markdown",
   "metadata": {},
   "source": [
    "### 2-species model"
   ]
  },
  {
   "cell_type": "code",
   "execution_count": null,
   "metadata": {},
   "outputs": [],
   "source": [
    "# ODE optimization and estimation of the parameters\n",
    "params_ode = zeros(4, 8)\n",
    "cost = zeros(8)\n",
    "for i in 1:8\n",
    "    cost[i], params_ode[:, i] = ODEoptimizer(i, g1, g2, g1_0, g2_0, 1, 1)\n",
    "    \n",
    "end\n",
    "\n",
    "println(cost)\n",
    "println(params_ode)\n",
    "# plotting the fitted curves\n",
    "ODEplot_all(params_ode, g1, g2, g1_0, g2_0, pop, 1, 1)"
   ]
  },
  {
   "cell_type": "markdown",
   "metadata": {},
   "source": [
    "### 4-species model"
   ]
  },
  {
   "cell_type": "code",
   "execution_count": null,
   "metadata": {},
   "outputs": [],
   "source": [
    "# ODE optimization and estimation of the parameters\n",
    "for i in 1:8\n",
    "    cost[i], params_ode[:, i] = ODEoptimizer(i, g1, g2, g1_0, g2_0, 2, 2)\n",
    "end\n",
    "\n",
    "println(cost)\n",
    "println(params_ode)\n",
    "# plotting the fitted curves\n",
    "ODEplot_all(params_ode, g1, g2, g1_0, g2_0, pop, 2, 2)"
   ]
  },
  {
   "cell_type": "markdown",
   "metadata": {},
   "source": [
    "### 8-species model"
   ]
  },
  {
   "cell_type": "code",
   "execution_count": null,
   "metadata": {},
   "outputs": [],
   "source": [
    "# ODE optimization and estimation of the parameters\n",
    "for i in 1:8\n",
    "    cost[i], params_ode[:, i] = ODEoptimizer(i, g1, g2, g1_0, g2_0, 4, 4)\n",
    "end\n",
    "\n",
    "println(cost)\n",
    "println(params_ode)\n",
    "# plotting the fitted curves\n",
    "ODEplot_all(params_ode, g1, g2, g1_0, g2_0, pop, 4, 4)"
   ]
  },
  {
   "cell_type": "markdown",
   "metadata": {},
   "source": [
    "### 16-species model"
   ]
  },
  {
   "cell_type": "code",
   "execution_count": null,
   "metadata": {},
   "outputs": [],
   "source": [
    "# ODE optimization and estimation of the parameters\n",
    "for i in 1:8\n",
    "    cost[i], params_ode[:, i] = ODEoptimizer(i, g1, g2, g1_0, g2_0, 8, 8)\n",
    "end\n",
    "\n",
    "println(cost)\n",
    "println(params_ode)\n",
    "# plotting the fitted curves\n",
    "ODEplot_all(params_ode, g1, g2, g1_0, g2_0, pop, 8, 8)"
   ]
  },
  {
   "cell_type": "markdown",
   "metadata": {},
   "source": [
    "### 32-species model"
   ]
  },
  {
   "cell_type": "code",
   "execution_count": null,
   "metadata": {},
   "outputs": [],
   "source": [
    "# ODE optimization and estimation of the parameters\n",
    "for i in 1:8\n",
    "    cost[i], params_ode[:, i] = ODEoptimizer(i, g1, g2, g1_0, g2_0, 16, 16)\n",
    "end\n",
    "\n",
    "println(cost)\n",
    "println(params_ode)\n",
    "# plotting the fitted curves\n",
    "ODEplot_all(params_ode, g1, g2, g1_0, g2_0, pop, 16, 16)"
   ]
  },
  {
   "cell_type": "markdown",
   "metadata": {},
   "source": [
    "### 64-species model"
   ]
  },
  {
   "cell_type": "code",
   "execution_count": null,
   "metadata": {},
   "outputs": [],
   "source": [
    "# ODE optimization and estimation of the parameters\n",
    "for i in 1:8\n",
    "    cost[i], params_ode[:, i] = ODEoptimizer(i, g1, g2, g1_0, g2_0, 32, 32)\n",
    "end\n",
    "\n",
    "println(cost)\n",
    "println(params_ode)\n",
    "# plotting the fitted curves\n",
    "ODEplot_all(params_ode, g1, g2, g1_0, g2_0, pop, 32, 32)"
   ]
  }
 ],
 "metadata": {
  "kernelspec": {
   "display_name": "Julia 1.3.0",
   "language": "julia",
   "name": "julia-1.3"
  },
  "language_info": {
   "file_extension": ".jl",
   "mimetype": "application/julia",
   "name": "julia",
   "version": "1.3.0"
  }
 },
 "nbformat": 4,
 "nbformat_minor": 4
}
