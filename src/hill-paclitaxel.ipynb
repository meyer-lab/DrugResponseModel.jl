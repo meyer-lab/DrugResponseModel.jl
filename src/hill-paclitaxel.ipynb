{
 "cells": [
  {
   "cell_type": "markdown",
   "metadata": {},
   "source": [
    "### Import data"
   ]
  },
  {
   "cell_type": "code",
   "execution_count": 1,
   "metadata": {},
   "outputs": [
    {
     "name": "stderr",
     "output_type": "stream",
     "text": [
      "┌ Warning: `setindex!(df::DataFrame, v::AbstractVector, ::Colon, col_ind::ColumnIndex)` is deprecated, use `begin\n",
      "│     df[!, col_ind] = v\n",
      "│     df\n",
      "│ end` instead.\n",
      "│   caller = get_data(::String, ::String) at importData.jl:29\n",
      "└ @ Main /home/farnazm/dde/lapatinib/DrugResponseModel.jl/src/importData.jl:29\n",
      "┌ Warning: `setindex!(df::DataFrame, v::AbstractVector, ::Colon, col_ind::ColumnIndex)` is deprecated, use `begin\n",
      "│     df[!, col_ind] = v\n",
      "│     df\n",
      "│ end` instead.\n",
      "│   caller = get_data(::String, ::String) at importData.jl:37\n",
      "└ @ Main /home/farnazm/dde/lapatinib/DrugResponseModel.jl/src/importData.jl:37\n"
     ]
    }
   ],
   "source": [
    "include(\"importData.jl\")\n",
    "include(\"Hill.jl\")\n",
    "include(\"plot.jl\")\n",
    "\n",
    "# import G1, G2, and population data\n",
    "conc_t, popt, g2t, g1t, g2_0t, g1_0t = setup_data(\"paclitaxel\");"
   ]
  },
  {
   "cell_type": "markdown",
   "metadata": {},
   "source": [
    "### Hill model, residual functions and optimization"
   ]
  },
  {
   "cell_type": "code",
   "execution_count": null,
   "metadata": {},
   "outputs": [
    {
     "name": "stdout",
     "output_type": "stream",
     "text": [
      "global optimization begins ...\n",
      "Starting optimization with optimizer DiffEvoOpt{FitPopulation{Float64},RadiusLimitedSelector,BlackBoxOptim.AdaptiveDiffEvoRandBin{3},RandomBound{ContinuousRectSearchSpace}}\n",
      "0.00 secs, 0 evals, 0 steps\n",
      "50.03 secs, 393 evals, 302 steps, improv/step: 0.470 (last = 0.4702), fitness=502007.593673392\n",
      "100.05 secs, 780 evals, 684 steps, improv/step: 0.402 (last = 0.3482), fitness=498544.517755446\n",
      "\n",
      "Optimization stopped after 1001 steps and 140.86 seconds\n",
      "Termination reason: Max number of steps (1000) reached\n",
      "Steps per second = 7.11\n",
      "Function evals per second = 7.79\n",
      "Improvements/step = 0.37200\n",
      "Total function evaluations = 1097\n",
      "\n",
      "\n",
      "Best candidate found: [2.25536, 16.8012, 0.00746059, 0.00904615, 0.00154485, 0.0369074, 21.5996, 4.64416, 9.13281, 4.60996, 0.00516123, 0.027216]\n",
      "\n",
      "Fitness: 496659.445930775\n",
      "\n",
      "the fitness before applying local optimization 496659.4459307755\n",
      "global optimization begins ...\n",
      "Starting optimization with optimizer DiffEvoOpt{FitPopulation{Float64},RadiusLimitedSelector,BlackBoxOptim.AdaptiveDiffEvoRandBin{3},RandomBound{ContinuousRectSearchSpace}}\n",
      "0.00 secs, 0 evals, 0 steps\n",
      "50.04 secs, 392 evals, 298 steps, improv/step: 0.463 (last = 0.4631), fitness=504818.343206014\n",
      "100.15 secs, 780 evals, 683 steps, improv/step: 0.411 (last = 0.3714), fitness=495932.998268769\n",
      "\n",
      "Optimization stopped after 1001 steps and 141.22 seconds\n",
      "Termination reason: Max number of steps (1000) reached\n",
      "Steps per second = 7.09\n",
      "Function evals per second = 7.77\n",
      "Improvements/step = 0.37800\n",
      "Total function evaluations = 1098\n",
      "\n",
      "\n",
      "Best candidate found: [2.2632, 11.5642, 0.00175726, 0.00339853, 0.00599752, 0.0503495, 10.4273, 4.61824, 7.91471, 4.61966, 0.00416905, 0.0234164]\n",
      "\n",
      "Fitness: 495932.998268769\n",
      "\n",
      "the fitness before applying local optimization 495932.9982687686\n",
      "global optimization begins ...\n",
      "Starting optimization with optimizer DiffEvoOpt{FitPopulation{Float64},RadiusLimitedSelector,BlackBoxOptim.AdaptiveDiffEvoRandBin{3},RandomBound{ContinuousRectSearchSpace}}\n",
      "0.00 secs, 0 evals, 0 steps\n",
      "50.02 secs, 393 evals, 299 steps"
     ]
    }
   ],
   "source": [
    "#  [EC50, b_steepness, alpha_min, alpha_max, beta_min, beta_max, tau1_mean, tau1_max, tau2_min, tau2_max, gamma1_max, gamma2_max]\n",
    "# guess\n",
    "guess = [[1.56, 0.05, 0.007, 0.008, 0.004, 0.05, 34.286, 6.56, 8.0, 7.0, 0.005, 0.035], \n",
    "[1.8, 0.02, 0.008, 0.008, 0.03, 0.0045, 20.0, 6.0, 20.0, 10.0, 0.003, 0.02],\n",
    "[1.9, 0.03, 0.006, 0.007, 0.05, 0.0035, 15.0, 5.0, 30.0, 5.0, 0.002, 0.03],\n",
    "[2.1, 0.04, 0.007, 0.005, 0.03, 0.005, 30.0, 3.0, 20.0, 4.0, 0.003, 0.02],\n",
    "[1.8664, 0.097836, 0.00682578, 0.00958013, 0.00503788, 0.0433964, 38.941, 5.49712, 9.94827, 7.20807, 0.00294624, 0.0222821]]\n",
    "# max num of steps\n",
    "num_steps=1e3\n",
    "best_fit = zeros(5)\n",
    "params = zeros(12, 5)\n",
    "for i in 1:5 \n",
    "    best_fit[i], params[:, i] = optimize_hill(guess[i], conc_t, g1t, g2t, g1_0t, g2_0t, num_steps)\n",
    "end\n"
   ]
  },
  {
   "cell_type": "code",
   "execution_count": null,
   "metadata": {},
   "outputs": [],
   "source": [
    "best, arg = findmin(best_fit)\n",
    "ps = params[:,arg]"
   ]
  },
  {
   "cell_type": "markdown",
   "metadata": {},
   "source": [
    "### Plot the data with the new set of parameters for DDE"
   ]
  },
  {
   "cell_type": "code",
   "execution_count": null,
   "metadata": {},
   "outputs": [],
   "source": [
    "# easy way to convert the hill parameters to DDE parameters\n",
    "p = getDDEparams(ps, conc_t)\n",
    "# i showas the trial number, which could be from 1:control, ..., 8: maximum drug concentraation\n",
    "p_1 = plotIt(p[:, 1], g1t, g2t, g2_0t, g1_0t, popt, 1, \"Hill paclitaxel\")\n",
    "p_2 = plotIt(p[:, 2], g1t, g2t, g2_0t, g1_0t, popt, 2, \"\")\n",
    "p_3 = plotIt(p[:, 3], g1t, g2t, g2_0t, g1_0t, popt, 3, \"\")\n",
    "p_4 = plotIt(p[:, 4], g1t, g2t, g2_0t, g1_0t, popt, 4, \"\")\n",
    "p_5 = plotIt(p[:, 5], g1t, g2t, g2_0t, g1_0t, popt, 5, \"\")\n",
    "p_6 = plotIt(p[:, 6], g1t, g2t, g2_0t, g1_0t, popt, 6, \"\")\n",
    "p_7 = plotIt(p[:, 7], g1t, g2t, g2_0t, g1_0t, popt, 7, \"\")\n",
    "p_8 = plotIt(p[:, 8], g1t, g2t, g2_0t, g1_0t, popt, 8, \"\")\n",
    "plot(p_1, p_2, p_3, p_4, p_5, p_6, p_7, p_8)\n",
    "plot!(size = (1000, 1000))"
   ]
  },
  {
   "cell_type": "markdown",
   "metadata": {},
   "source": [
    "### Plot Hill curve for all of the DDE model parameters"
   ]
  },
  {
   "cell_type": "code",
   "execution_count": null,
   "metadata": {},
   "outputs": [],
   "source": [
    "# plot\n",
    "p__1 = plot(conc_t, p[1, :], label = \"alpha\", linewidth = 2, xlabel = \"concentration [nM]\", ylabel = \"drug effect\", line = (0.5, 4, :red))\n",
    "p__2 = plot(conc_t, p[2, :], label = \"beta\", linewidth = 2, legend =:best, line = (0.5, 4, :red))\n",
    "p__3 = plot(conc_t, p[3, :], label = \"tau1\", linewidth = 2, line = (0.5, 4, :red))\n",
    "p__4 = plot(conc_t, p[4, :], label = \"tau2\", linewidth = 2, line = (0.5, 4, :red))\n",
    "p__5 = plot(conc_t, p[5, :], label = \"gamma1\", linewidth = 2, line = (0.5, 4, :red))\n",
    "p__6 = plot(conc_t, p[6, :], label = \"gamma2\", linewidth = 2, line = (0.5, 4, :red))\n",
    "plot(p__1, p__2, p__3, p__4, p__5, p__6)\n",
    "plot!(size = (1000, 700))"
   ]
  }
 ],
 "metadata": {
  "kernelspec": {
   "display_name": "Julia 1.2.0",
   "language": "julia",
   "name": "julia-1.2"
  },
  "language_info": {
   "file_extension": ".jl",
   "mimetype": "application/julia",
   "name": "julia",
   "version": "1.2.0"
  }
 },
 "nbformat": 4,
 "nbformat_minor": 4
}
