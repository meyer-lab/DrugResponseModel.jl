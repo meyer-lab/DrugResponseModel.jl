{
 "cells": [
  {
   "cell_type": "markdown",
   "metadata": {},
   "source": [
    "### Import data"
   ]
  },
  {
   "cell_type": "code",
   "execution_count": 1,
   "metadata": {},
   "outputs": [
    {
     "name": "stderr",
     "output_type": "stream",
     "text": [
      "┌ Warning: `setindex!(df::DataFrame, v::AbstractVector, ::Colon, col_ind::ColumnIndex)` is deprecated, use `begin\n",
      "│     df[!, col_ind] = v\n",
      "│     df\n",
      "│ end` instead.\n",
      "│   caller = get_data(::String, ::String) at importData.jl:29\n",
      "└ @ Main /home/farnazm/dde/lapatinib/DrugResponseModel.jl/src/importData.jl:29\n",
      "┌ Warning: `setindex!(df::DataFrame, v::AbstractVector, ::Colon, col_ind::ColumnIndex)` is deprecated, use `begin\n",
      "│     df[!, col_ind] = v\n",
      "│     df\n",
      "│ end` instead.\n",
      "│   caller = get_data(::String, ::String) at importData.jl:37\n",
      "└ @ Main /home/farnazm/dde/lapatinib/DrugResponseModel.jl/src/importData.jl:37\n"
     ]
    }
   ],
   "source": [
    "include(\"importData.jl\")\n",
    "include(\"Hill.jl\")\n",
    "include(\"plot.jl\")\n",
    "\n",
    "# import G1, G2, and population data\n",
    "conc_l, popl, g2l, g1l, g2_0l, g1_0l = setup_data(\"lapatinib\");"
   ]
  },
  {
   "cell_type": "markdown",
   "metadata": {},
   "source": [
    "### Hill model, residual functions and optimization"
   ]
  },
  {
   "cell_type": "code",
   "execution_count": null,
   "metadata": {},
   "outputs": [
    {
     "name": "stdout",
     "output_type": "stream",
     "text": [
      "global optimization begins ...\n",
      "Starting optimization with optimizer DiffEvoOpt{FitPopulation{Float64},RadiusLimitedSelector,BlackBoxOptim.AdaptiveDiffEvoRandBin{3},RandomBound{ContinuousRectSearchSpace}}\n",
      "0.00 secs, 0 evals, 0 steps\n",
      "50.03 secs, 415 evals, 325 steps, improv/step: 0.514 (last = 0.5138), fitness=867977.923149920\n",
      "100.05 secs, 830 evals, 736 steps, improv/step: 0.457 (last = 0.4112), fitness=867880.120573017\n",
      "150.15 secs, 1246 evals, 1153 steps, improv/step: 0.436 (last = 0.4005), fitness=867836.853779612\n",
      "200.21 secs, 1661 evals, 1568 steps, improv/step: 0.437 (last = 0.4386), fitness=867819.658866004\n",
      "250.26 secs, 2077 evals, 1984 steps, improv/step: 0.430 (last = 0.4038), fitness=867811.568835716\n",
      "300.27 secs, 2492 evals, 2399 steps, improv/step: 0.413 (last = 0.3301), fitness=867811.077924479\n",
      "350.29 secs, 2907 evals, 2814 steps, improv/step: 0.400 (last = 0.3277), fitness=867809.342142033\n",
      "400.39 secs, 3322 evals, 3229 steps, improv/step: 0.385 (last = 0.2843), fitness=867803.658450491\n",
      "450.45 secs, 3736 evals, 3643 steps, improv/step: 0.370 (last = 0.2512), fitness=867803.658450491\n",
      "500.56 secs, 4151 evals, 4058 steps, improv/step: 0.353 (last = 0.2072), fitness=867803.468685403\n",
      "550.63 secs, 4565 evals, 4472 steps, improv/step: 0.338 (last = 0.1884), fitness=867803.468685403\n",
      "600.64 secs, 4974 evals, 4881 steps, improv/step: 0.330 (last = 0.2372), fitness=867799.850297172\n",
      "650.71 secs, 5378 evals, 5285 steps, improv/step: 0.320 (last = 0.2005), fitness=867798.564664109\n",
      "700.79 secs, 5780 evals, 5687 steps, improv/step: 0.309 (last = 0.1617), fitness=867798.118259386\n",
      "750.87 secs, 6182 evals, 6089 steps, improv/step: 0.303 (last = 0.2239), fitness=867797.716638687\n",
      "800.99 secs, 6584 evals, 6491 steps, improv/step: 0.297 (last = 0.2114), fitness=867797.527050636\n",
      "851.01 secs, 6983 evals, 6890 steps, improv/step: 0.290 (last = 0.1679), fitness=867797.437792479\n",
      "901.07 secs, 7381 evals, 7288 steps, improv/step: 0.283 (last = 0.1608), fitness=867797.406626211\n",
      "951.16 secs, 7778 evals, 7685 steps, improv/step: 0.283 (last = 0.2821), fitness=867797.092296561\n",
      "1001.18 secs, 8174 evals, 8081 steps, improv/step: 0.280 (last = 0.2323), fitness=867796.972030424\n",
      "1051.27 secs, 8572 evals, 8479 steps, improv/step: 0.277 (last = 0.2161), fitness=867796.972030424\n",
      "1101.36 secs, 8968 evals, 8875 steps, improv/step: 0.276 (last = 0.2525), fitness=867796.949133861\n",
      "1151.44 secs, 9365 evals, 9272 steps, improv/step: 0.276 (last = 0.2670), fitness=867796.912304856\n",
      "1201.52 secs, 9761 evals, 9668 steps, improv/step: 0.277 (last = 0.3005), fitness=867796.912304856\n",
      "\n",
      "Optimization stopped after 10001 steps and 1243.59 seconds\n",
      "Termination reason: Max number of steps (10000) reached\n",
      "Steps per second = 8.04\n",
      "Function evals per second = 8.12\n",
      "Improvements/step = 0.27680\n",
      "Total function evaluations = 10094\n",
      "\n",
      "\n",
      "Best candidate found: [11.0208, 0.274787, 0.0111171, 0.0995422, 0.151118, 0.0290079, 35.9931, 5.50545, 15.785, 7.00333, 0.0100019, 0.1]\n",
      "\n",
      "Fitness: 867796.906702496\n",
      "\n",
      "global optimization begins ...\n",
      "Starting optimization with optimizer DiffEvoOpt{FitPopulation{Float64},RadiusLimitedSelector,BlackBoxOptim.AdaptiveDiffEvoRandBin{3},RandomBound{ContinuousRectSearchSpace}}\n",
      "0.00 secs, 0 evals, 0 steps\n",
      "50.02 secs, 401 evals, 319 steps, improv/step: 0.508 (last = 0.5078), fitness=868009.360936071\n",
      "100.04 secs, 802 evals, 720 steps, improv/step: 0.494 (last = 0.4838), fitness=867868.792733769\n",
      "150.10 secs, 1202 evals, 1120 steps, improv/step: 0.481 (last = 0.4575), fitness=867838.132370288\n",
      "200.11 secs, 1599 evals, 1517 steps, improv/step: 0.463 (last = 0.4106), fitness=867835.893574659\n",
      "250.11 secs, 1992 evals, 1910 steps, improv/step: 0.455 (last = 0.4249), fitness=867824.098839802\n",
      "300.12 secs, 2388 evals, 2306 steps, improv/step: 0.450 (last = 0.4242), fitness=867818.175489771\n",
      "350.24 secs, 2787 evals, 2705 steps, improv/step: 0.447 (last = 0.4311), fitness=867810.997842443\n",
      "400.27 secs, 3187 evals, 3105 steps, improv/step: 0.439 (last = 0.3875), fitness=867809.288736119\n",
      "450.37 secs, 3588 evals, 3506 steps, improv/step: 0.428 (last = 0.3441), fitness=867809.216435963\n",
      "500.41 secs, 3988 evals, 3906 steps, improv/step: 0.414 (last = 0.2900), fitness=867809.207271370\n",
      "550.44 secs, 4387 evals, 4305 steps, improv/step: 0.395 (last = 0.2105), fitness=867808.936308739\n",
      "600.52 secs, 4786 evals, 4704 steps, improv/step: 0.383 (last = 0.2531), fitness=867808.936299706\n",
      "650.52 secs, 5184 evals, 5102 steps, improv/step: 0.368 (last = 0.1834), fitness=867808.936299706\n",
      "700.58 secs, 5581 evals, 5499 steps, improv/step: 0.355 (last = 0.1864), fitness=867808.799618237\n",
      "750.63 secs, 5976 evals, 5894 steps, improv/step: 0.343 (last = 0.1797), fitness=867808.747879969\n",
      "800.71 secs, 6375 evals, 6293 steps, improv/step: 0.334 (last = 0.1980), fitness=867808.747879969\n",
      "850.76 secs, 6772 evals, 6690 steps, improv/step: 0.324 (last = 0.1763), fitness=867808.747324885\n",
      "900.86 secs, 7168 evals, 7086 steps"
     ]
    }
   ],
   "source": [
    "#  [EC50, b_steepness, alpha_min, alpha_max, beta_min, beta_max, tau1_mean, tau1_max, tau2_min, tau2_max, gamma1_max, gamma2_max]\n",
    "# guess\n",
    "guess = [[1.56, 0.05, 0.007, 0.008, 0.004, 0.05, 34.286, 6.56, 8.0, 7.0, 0.005, 0.035], \n",
    "[1.8, 0.02, 0.008, 0.008, 0.03, 0.0045, 20.0, 6.0, 20.0, 10.0, 0.003, 0.02],\n",
    "[1.9, 0.03, 0.006, 0.007, 0.05, 0.0035, 15.0, 5.0, 30.0, 5.0, 0.002, 0.03],\n",
    "[2.1, 0.04, 0.007, 0.005, 0.03, 0.005, 30.0, 3.0, 20.0, 4.0, 0.003, 0.02],\n",
    "[1.8664, 0.097836, 0.00682578, 0.00958013, 0.00503788, 0.0433964, 38.941, 5.49712, 9.94827, 7.20807, 0.00294624, 0.0222821]]\n",
    "# max num of steps\n",
    "num_steps=1e4\n",
    "best_fit = zeros(5)\n",
    "params = zeros(12, 5)\n",
    "for i in 1:5 \n",
    "    best_fit[i], params[:, i] = optimize_hill(guess[i], conc_l, g1l, g2l, g1_0l, g2_0l, num_steps)\n",
    "end\n"
   ]
  },
  {
   "cell_type": "code",
   "execution_count": null,
   "metadata": {},
   "outputs": [],
   "source": [
    "best, arg = findmin(best_fit)\n",
    "ps = params[:,arg]"
   ]
  },
  {
   "cell_type": "markdown",
   "metadata": {},
   "source": [
    "### Plot the data with the new set of parameters for DDE"
   ]
  },
  {
   "cell_type": "code",
   "execution_count": null,
   "metadata": {},
   "outputs": [],
   "source": [
    "# easy way to convert the hill parameters to DDE parameters\n",
    "p = getDDEparams(ps, conc_l)\n",
    "# i showas the trial number, which could be from 1:control, ..., 8: maximum drug concentraation\n",
    "p_1 = plotIt(p[:, 1], g1l, g2l, g2_0l, g1_0l, popl, 1, \"Hill lapatinib\")\n",
    "p_2 = plotIt(p[:, 2], g1l, g2l, g2_0l, g1_0l, popl, 2, \"\")\n",
    "p_3 = plotIt(p[:, 3], g1l, g2l, g2_0l, g1_0l, popl, 3, \"\")\n",
    "p_4 = plotIt(p[:, 4], g1l, g2l, g2_0l, g1_0l, popl, 4, \"\")\n",
    "p_5 = plotIt(p[:, 5], g1l, g2l, g2_0l, g1_0l, popl, 5, \"\")\n",
    "p_6 = plotIt(p[:, 6], g1l, g2l, g2_0l, g1_0l, popl, 6, \"\")\n",
    "p_7 = plotIt(p[:, 7], g1l, g2l, g2_0l, g1_0l, popl, 7, \"\")\n",
    "p_8 = plotIt(p[:, 8], g1l, g2l, g2_0l, g1_0l, popl, 8, \"\")\n",
    "plot(p_1, p_2, p_3, p_4, p_5, p_6, p_7, p_8)\n",
    "plot!(size = (1000, 1000))"
   ]
  },
  {
   "cell_type": "markdown",
   "metadata": {},
   "source": [
    "### Plot Hill curve for all of the DDE model parameters"
   ]
  },
  {
   "cell_type": "code",
   "execution_count": null,
   "metadata": {},
   "outputs": [],
   "source": [
    "# plot\n",
    "p__1 = plot(conc_l, p[1, :], label = \"alpha\", linewidth = 2, xlabel = \"concentration [nM]\", ylabel = \"drug effect\", line = (0.5, 4, :red))\n",
    "p__2 = plot(conc_l, p[2, :], label = \"beta\", linewidth = 2, legend =:best, line = (0.5, 4, :red))\n",
    "p__3 = plot(conc_l, p[3, :], label = \"tau1\", linewidth = 2, line = (0.5, 4, :red))\n",
    "p__4 = plot(conc_l, p[4, :], label = \"tau2\", linewidth = 2, line = (0.5, 4, :red))\n",
    "p__5 = plot(conc_l, p[5, :], label = \"gamma1\", linewidth = 2, line = (0.5, 4, :red))\n",
    "p__6 = plot(conc_l p[6, :], label = \"gamma2\", linewidth = 2, line = (0.5, 4, :red))\n",
    "plot(p__1, p__2, p__3, p__4, p__5, p__6)\n",
    "plot!(size = (1000, 700))"
   ]
  },
  {
   "cell_type": "code",
   "execution_count": null,
   "metadata": {},
   "outputs": [],
   "source": []
  }
 ],
 "metadata": {
  "kernelspec": {
   "display_name": "Julia 1.2.0",
   "language": "julia",
   "name": "julia-1.2"
  },
  "language_info": {
   "file_extension": ".jl",
   "mimetype": "application/julia",
   "name": "julia",
   "version": "1.2.0"
  }
 },
 "nbformat": 4,
 "nbformat_minor": 4
}
