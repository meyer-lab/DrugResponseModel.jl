{
 "cells": [
  {
   "cell_type": "markdown",
   "metadata": {},
   "source": [
    "### Import data"
   ]
  },
  {
   "cell_type": "code",
   "execution_count": null,
   "metadata": {},
   "outputs": [],
   "source": [
    "include(\"importData.jl\")\n",
    "include(\"Hill.jl\")\n",
    "include(\"plot.jl\")\n",
    "\n",
    "param_lap_dde = CSV.read(joinpath(\"..\", \"data\", \"params_lap_DDE.csv\"))\n",
    "conc = [param_lap_dde[8,col] for col in 2:9]\n",
    "# lapatinib\n",
    "pop, g2, g1, g1_0, g2_0 = import_data(joinpath(\"..\", \"data\", \"lap.csv\"),\n",
    "        joinpath(\"..\", \"data\", \"lap_pop.csv\"));"
   ]
  },
  {
   "cell_type": "markdown",
   "metadata": {},
   "source": [
    "### Hill model, residual functions and optimization"
   ]
  },
  {
   "cell_type": "code",
   "execution_count": null,
   "metadata": {},
   "outputs": [],
   "source": [
    "#  [EC50, b_steepness, alpha_min, alpha_max, beta_min, beta_max, tau1_mean, tau1_max, tau2_min, tau2_max, gamma1_max, gamma2_max]\n",
    "include(\"Hill.jl\")\n",
    "# guess\n",
    "guess = [100.0, 1.0 , 0.007, 0.01, 0.05, 0.045, 0.0035, 0.04, 0.002]\n",
    "# max num of steps\n",
    "num_steps=5000\n",
    "parameterrs, pp = optimize_hill(guess, conc, g1, g2, g1_0, g2_0, num_steps)"
   ]
  },
  {
   "cell_type": "markdown",
   "metadata": {},
   "source": [
    "### Plot Hill curve for all of the DDE model parameters"
   ]
  },
  {
   "cell_type": "code",
   "execution_count": null,
   "metadata": {},
   "outputs": [],
   "source": [
    "using Plots;\n",
    "\n",
    "p = getDDEparams(pp, conc)\n",
    "tau1 = [1/pa for pa in p[1, :]]\n",
    "tau2 = [1/ po for po in p[2, :]]\n",
    "plot(conc, p[1, :], label = \"alpha\", linewidth = 2, xlabel = \"concentration [nM]\", ylabel = \"drug effect\")\n",
    "plot!(conc, p[2, :], label = \"beta\", linewidth = 2, legend =:right)\n",
    "plot!(conc, p[3, :], label = \"gamma1\", linewidth = 2)\n",
    "plot!(conc, p[4, :], label = \"gamma2\", linewidth = 2)\n",
    "\n"
   ]
  },
  {
   "cell_type": "code",
   "execution_count": null,
   "metadata": {},
   "outputs": [],
   "source": [
    "plot(conc, tau1, label = \"tau1\", linewidth = 2)\n",
    "plot!(conc, tau2, label = \"tau2\", linewidth = 2)"
   ]
  },
  {
   "cell_type": "code",
   "execution_count": null,
   "metadata": {},
   "outputs": [],
   "source": [
    "# plot(conc, p[3, :], label = \"tau1\", linewidth = 2, xlabel = \"concentration [nM]\", ylabel = \"drug effect\")\n",
    "# plot!(conc, p[4, :], label = \"tau2\", linewidth = 2, legend =:right)"
   ]
  },
  {
   "cell_type": "markdown",
   "metadata": {},
   "source": [
    "### Plot the data with the new set of parameters for DDE"
   ]
  },
  {
   "cell_type": "code",
   "execution_count": null,
   "metadata": {},
   "outputs": [],
   "source": [
    "j = 7 # trial number\n",
    "# for instance we want to plot the data and estimated for some trial \n",
    "\n",
    "plotIt(p[:, j], g1, g2, g1_0, g2_0, pop, j, \"Lapatinib\")"
   ]
  }
 ],
 "metadata": {
  "kernelspec": {
   "display_name": "Julia 1.1.1",
   "language": "julia",
   "name": "julia-1.1"
  },
  "language_info": {
   "file_extension": ".jl",
   "mimetype": "application/julia",
   "name": "julia",
   "version": "1.1.1"
  }
 },
 "nbformat": 4,
 "nbformat_minor": 4
}
