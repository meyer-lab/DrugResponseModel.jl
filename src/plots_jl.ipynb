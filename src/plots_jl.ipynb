{
 "cells": [
  {
   "cell_type": "markdown",
   "metadata": {},
   "source": [
    "### Importing the data and the functions"
   ]
  },
  {
   "cell_type": "code",
   "execution_count": null,
   "metadata": {},
   "outputs": [],
   "source": [
    "include(\"importData.jl\")\n",
    "include(\"DDEmodel.jl\")\n",
    "include(\"plot.jl\")\n",
    "\n",
    "# import data from the path\n",
    "\n",
    "# population data, g2 data, g1 data, initial number of cells in g1, initial number of cells in g2\n",
    "# lapatinib\n",
    "pop_l, g2_l, g1_l, g1_0_l, g2_0_l = import_data(joinpath(\"..\", \"data\", \"lap.csv\"),\n",
    "        joinpath(\"..\", \"data\", \"lap_pop.csv\"));\n",
    "\n",
    "# doxorubicin\n",
    "pop_d, g2_d, g1_d, g1_0_d, g2_0_d = import_data(joinpath(\"..\", \"data\", \"dox.csv\"),\n",
    "        joinpath(\"..\", \"data\", \"dox_pop.csv\"));\n",
    "\n",
    "# gemcitabine\n",
    "pop_g, g2_g, g1_g, g1_0_g, g2_0_g = import_data(joinpath(\"..\", \"data\", \"gem.csv\"),\n",
    "        joinpath(\"..\", \"data\", \"gem_pop.csv\"));\n",
    "\n",
    "# paclitaxel\n",
    "pop_t, g2_t, g1_t, g1_0_t, g2_0_t = import_data(joinpath(\"..\", \"data\", \"taxol1.csv\"),\n",
    "        joinpath(\"..\", \"data\", \"taxol1_pop.csv\"));"
   ]
  },
  {
   "cell_type": "markdown",
   "metadata": {},
   "source": [
    "### A) cartoon "
   ]
  },
  {
   "cell_type": "code",
   "execution_count": null,
   "metadata": {},
   "outputs": [],
   "source": [
    "# will do in the Affinity designer of power point"
   ]
  },
  {
   "cell_type": "markdown",
   "metadata": {},
   "source": [
    "### B) ODE fitting of Lapatinib data"
   ]
  },
  {
   "cell_type": "code",
   "execution_count": null,
   "metadata": {},
   "outputs": [],
   "source": []
  },
  {
   "cell_type": "markdown",
   "metadata": {},
   "source": [
    "### F) DDE fitting"
   ]
  },
  {
   "cell_type": "code",
   "execution_count": null,
   "metadata": {},
   "outputs": [],
   "source": []
  },
  {
   "cell_type": "markdown",
   "metadata": {},
   "source": [
    "### G) DDE parameters"
   ]
  },
  {
   "cell_type": "code",
   "execution_count": null,
   "metadata": {},
   "outputs": [],
   "source": []
  },
  {
   "cell_type": "markdown",
   "metadata": {},
   "source": [
    "### H) DDE Hill fitting "
   ]
  },
  {
   "cell_type": "code",
   "execution_count": null,
   "metadata": {},
   "outputs": [],
   "source": []
  },
  {
   "cell_type": "markdown",
   "metadata": {},
   "source": [
    "### I) DDE Hill Parameters"
   ]
  }
 ],
 "metadata": {
  "kernelspec": {
   "display_name": "Julia 1.1.1",
   "language": "julia",
   "name": "julia-1.1"
  },
  "language_info": {
   "file_extension": ".jl",
   "mimetype": "application/julia",
   "name": "julia",
   "version": "1.1.1"
  }
 },
 "nbformat": 4,
 "nbformat_minor": 4
}
