{
 "cells": [
  {
   "cell_type": "markdown",
   "metadata": {},
   "source": [
    "### Importing the data and the functions"
   ]
  },
  {
   "cell_type": "code",
   "execution_count": null,
   "metadata": {},
   "outputs": [],
   "source": [
    "include(\"importData.jl\")\n",
    "include(\"DDEmodel.jl\")\n",
    "include(\"Hill.jl\")\n",
    "include(\"ODEmodel.jl\")\n",
    "include(\"plot.jl\")\n",
    "\n",
    "# import data from the path\n",
    "\n",
    "# population data, g2 data, g1 data, initial number of cells in g1, initial number of cells in g2\n",
    "# lapatinib\n",
    "conc_l, pop_l, g2_l, g1_l, g1_0_l, g2_0_l = setup_data(\"lapatinib\");"
   ]
  },
  {
   "cell_type": "markdown",
   "metadata": {},
   "source": [
    "### A) cartoon "
   ]
  },
  {
   "cell_type": "code",
   "execution_count": null,
   "metadata": {},
   "outputs": [],
   "source": [
    "# will do in the Affinity designer of power point"
   ]
  },
  {
   "cell_type": "markdown",
   "metadata": {},
   "source": [
    "### B) ODE fitting of Lapatinib data"
   ]
  },
  {
   "cell_type": "code",
   "execution_count": null,
   "metadata": {},
   "outputs": [],
   "source": [
    "i = 6 # trial number\n",
    "\n",
    "# initial values\n",
    "p = [8.870525324, 8.492087169, 0.43447323, 7.67847790]\n",
    "\n",
    "# setting lowest delay for tau1 to be half an hour and for tau2 to be 3 hours.\n",
    "low = 0.05*ones(4)\n",
    "upp = 20*ones(4)\n",
    "\n",
    "# ODE optimization and estimation of the parameters\n",
    "params_ode = ode_optimIt(p, low, upp, i, g1_l, g2_l, g1_0_l, g2_0_l)\n",
    "\n",
    "# plotting the fitted curves\n",
    "ode_plotIt(params_ode, g1_l, g2_l, g1_0_l, g2_0_l, pop_l, i, \"ODE lapatinib\")"
   ]
  },
  {
   "cell_type": "markdown",
   "metadata": {},
   "source": [
    "### F) DDE fitting for lapatinib"
   ]
  },
  {
   "cell_type": "code",
   "execution_count": null,
   "metadata": {},
   "outputs": [],
   "source": [
    "# initial guess\n",
    "initial_guess  = [0.02798, 0.025502, 15.3481, 15.2881, 0.001, 0.001]\n",
    "\n",
    "# bounds \n",
    "lower_bnd = [-6.0, -6.0, 1.0, 1.0, -10.0, -10.0]\n",
    "upper_bnd = [0.0, 0.0, 6.0, 6.0, 0.0, 0.0]\n",
    "\n",
    "# max number of steps\n",
    "maxSteps = 1e4\n",
    "parameters = zeros(6,8)\n",
    "for j in 1:8\n",
    "    println(\"#################### trial number $j #########################\")\n",
    "    best_fit, parameters[:,j] = optimization(g1_l, g2_l, g1_0_l, g2_0_l, initial_guess, j, lower_bnd, upper_bnd, maxSteps)\n",
    "end\n",
    "\n"
   ]
  },
  {
   "cell_type": "code",
   "execution_count": null,
   "metadata": {},
   "outputs": [],
   "source": [
    "include(\"plot.jl\")\n",
    "# i showas the trial number, which could be from 1:control, ..., 8: maximum drug concentraation\n",
    "p1 = plotIt(parameters[:, 1], g1_l, g2_l, g2_0_l, g1_0_l, pop_l, 1, \"\", false)\n",
    "p2 = plotIt(parameters[:, 2], g1_l, g2_l, g2_0_l, g1_0_l, pop_l, 2, \"DDE Fitting lapatinib\", false)\n",
    "p3 = plotIt(parameters[:, 3], g1_l, g2_l, g2_0_l, g1_0_l, pop_l, 3, \"\", false)\n",
    "p4 = plotIt(parameters[:, 4], g1_l, g2_l, g2_0_l, g1_0_l, pop_l, 4, \"\", false)\n",
    "p5 = plotIt(parameters[:, 5], g1_l, g2_l, g2_0_l, g1_0_l, pop_l, 5, \"\", false)\n",
    "p6 = plotIt(parameters[:, 6], g1_l, g2_l, g2_0_l, g1_0_l, pop_l, 6, \"\", false)\n",
    "p7 = plotIt(parameters[:, 7], g1_l, g2_l, g2_0_l, g1_0_l, pop_l, 7, \"\", false)\n",
    "p8 = plotIt(parameters[:, 8], g1_l, g2_l, g2_0_l, g1_0_l, pop_l, 8, \"\", :right)\n",
    "plot(p1, p2, p3, p4, p5, p6, p7, p8)\n",
    "plot!(size = (1000, 1000))"
   ]
  },
  {
   "cell_type": "markdown",
   "metadata": {},
   "source": [
    "### G) DDE parameters for lapatinib"
   ]
  },
  {
   "cell_type": "code",
   "execution_count": null,
   "metadata": {},
   "outputs": [],
   "source": [
    "p1 = plot(conc_l, parameters[1,:], xlabel = \"drug conc. [nM]\", label=\"alpha\", lw= 2.0,\n",
    "    ylabel = \"\", yticks = 0.0:round(maximum(parameters[1,:])/5 ,digits = 4):maximum(parameters[1,:]))\n",
    "\n",
    "p2 = plot(conc_l, parameters[2,:], xlabel = \"drug conc. [nM]\", label = \"beta\", lw= 2.0,\n",
    "    ylabel = \"\", yticks = 0.0:round(maximum(parameters[2,:])/5 ,digits = 4):maximum(parameters[2,:]))\n",
    "\n",
    "p3 = plot(conc_l, parameters[3,:], xlabel = \"drug conc. [nM]\", label=\"tau1\", lw= 2.0,\n",
    "    ylabel = \"\", yticks = 0.0:round(maximum(parameters[3,:])/5 ,digits = 4):maximum(parameters[3,:]))\n",
    "\n",
    "p4 = plot(conc_l, parameters[4,:], xlabel = \"drug conc. [nM]\", label = \"tau2\", lw= 2.0,\n",
    "    ylabel = \"\", yticks = 0.0:round(maximum(parameters[4,:])/5 ,digits = 4):maximum(parameters[4,:]))\n",
    "\n",
    "p5 = plot(conc_l, parameters[5,:], xlabel = \"drug conc. [nM]\", label = \"gamma1\", lw= 2.0,\n",
    "    ylabel = \"\", yticks = 0.0:round(maximum(parameters[5,:])/5 ,digits = 4):maximum(parameters[5,:]))\n",
    "\n",
    "p6 = plot(conc_l, parameters[6,:], xlabel = \"drug conc. [nM]\", label = \"gamma2\", lw= 2.0,\n",
    "    ylabel = \"\", yticks = 0.0:round(maximum(parameters[6,:])/5 ,digits = 4):maximum(parameters[6,:]))\n",
    "\n",
    "plot(p1, p2, p3, p4, p5, p6, dpi = 100)\n",
    "plot!(size = (900, 700))"
   ]
  },
  {
   "cell_type": "markdown",
   "metadata": {},
   "source": [
    "### H) DDE Hill fitting "
   ]
  },
  {
   "cell_type": "code",
   "execution_count": null,
   "metadata": {},
   "outputs": [],
   "source": [
    "#  [EC50, b_steepness, alpha_min, alpha_max, beta_min, beta_max, tau1_mean, tau1_max, tau2_min, tau2_max, gamma1_max, gamma2_max]\n",
    "# guess\n",
    "guess = [125.0, 0.04, 0.007, 0.005, 0.007, 0.005, 30.0, 3.0, 20.0, 4.0, 0.003, 0.02]\n",
    "\n",
    "# max num of steps\n",
    "num_steps=1e3\n",
    "\n",
    "# optimize and return the estimated hill parameters\n",
    "best_fit, params = optimize_hill(guess, conc_l, g1_l, g2_l, g1_0_l, g2_0_l, num_steps)\n",
    "\n",
    "# easy way to convert the hill parameters to DDE parameters\n",
    "p = getDDEparams(params, conc_l)"
   ]
  },
  {
   "cell_type": "code",
   "execution_count": null,
   "metadata": {},
   "outputs": [],
   "source": [
    "include(\"plot.jl\")\n",
    "# for instance we want to plot the data and estimated for some trial \n",
    "p1 = plotIt(p[:, 1], g1_l, g2_l, g2_0_l, g1_0_l, pop_l, 1, \"\", false)\n",
    "p2 = plotIt(p[:, 2], g1_l, g2_l, g2_0_l, g1_0_l, pop_l, 2, \"DDE lapatinib\", false)\n",
    "p3 = plotIt(p[:, 3], g1_l, g2_l, g2_0_l, g1_0_l, pop_l, 3, \"\", false)\n",
    "p4 = plotIt(p[:, 4], g1_l, g2_l, g2_0_l, g1_0_l, pop_l, 4, \"\", false)\n",
    "p5 = plotIt(p[:, 5], g1_l, g2_l, g2_0_l, g1_0_l, pop_l, 5, \"\", false)\n",
    "p6 = plotIt(p[:, 6], g1_l, g2_l, g2_0_l, g1_0_l, pop_l, 6, \"\", false)\n",
    "p7 = plotIt(p[:, 7], g1_l, g2_l, g2_0_l, g1_0_l, pop_l, 7, \"\", false)\n",
    "p8 = plotIt(p[:, 8], g1_l, g2_l, g2_0_l, g1_0_l, pop_l, 8, \"\", :topleft)\n",
    "plot(p1, p2, p3, p4, p5, p6, p7, p8, xaxis=(font=3))\n",
    "plot!(size = (1000, 1000))\n",
    "ylims!((0.0, 120.0))"
   ]
  },
  {
   "cell_type": "markdown",
   "metadata": {},
   "source": [
    "### I) DDE Hill Parameters"
   ]
  },
  {
   "cell_type": "code",
   "execution_count": null,
   "metadata": {},
   "outputs": [],
   "source": [
    "pp1 = plot(conc_l, p[1,:], xlabel = \"drug conc. [nM]\", label=\"\", lw = 2.0, alpha = 0.6, marker = (:dot, 3, 0.7, :blue, stroke(0.1, 0.6, :black, :dot)),\n",
    "    ylabel = \"alpha\", yticks = 0.0:round(maximum(p[1,:])/5 ,digits = 4):maximum(p[1,:]))\n",
    "\n",
    "pp2 = plot(conc_l, p[2,:], xlabel = \"drug conc. [nM]\", label = \"\", lw = 2.0, alpha = 0.6, marker = (:dot, 3, 0.7, :blue, stroke(0.1, 0.6, :black, :dot)),\n",
    "    ylabel = \"beta\", yticks = 0.0:round(maximum(p[2,:])/12 ,digits = 4):maximum(p[2,:]))\n",
    "\n",
    "pp3 = plot(conc_l, p[3,:], xlabel = \"drug conc. [nM]\", label=\"\", lw = 2.0, alpha = 0.6, marker = (:dot, 3, 0.7, :blue, stroke(0.1, 0.6, :black, :dot)),\n",
    "    ylabel = \"tau1\", yticks = 0.0:round(maximum(p[3,:])/5 ,digits = 4):maximum(p[3,:]))\n",
    "\n",
    "pp4 = plot(conc_l, p[4,:], xlabel = \"drug conc. [nM]\", label = \"\", lw = 2.0, alpha = 0.6, marker = (:dot, 3, 0.7, :blue, stroke(0.1, 0.6, :black, :dot)),\n",
    "    ylabel = \"tau2\", yticks = 0.0:round(maximum(p[4,:])/8 ,digits = 4):maximum(p[4,:]))\n",
    "\n",
    "pp5 = plot(conc_l, p[5,:], xlabel = \"drug conc. [nM]\", label = \"\", lw = 2.0, alpha = 0.6, marker = (:dot, 3, 0.7, :blue, stroke(0.1, 0.6, :black, :dot)),\n",
    "    ylabel = \"gamma1\", yticks = 0.0:round(maximum(p[5,:])/5 ,digits = 4):maximum(p[5,:]))\n",
    "\n",
    "pp6 = plot(conc_l, p[6,:], xlabel = \"drug conc. [nM]\", label = \"\", lw = 2.0, alpha = 0.6, marker = (:dot, 3, 0.7, :blue, stroke(0.1, 0.6, :black, :dot)),\n",
    "    ylabel = \"gamma2\", yticks = 0.0:round(maximum(p[6,:])/5 ,digits = 4):maximum(p[6,:]))\n",
    "\n",
    "plot(pp1, pp2, pp3, pp4, pp5, pp6, dpi = 100)\n",
    "plot!(size = (1000, 700))"
   ]
  },
  {
   "cell_type": "code",
   "execution_count": null,
   "metadata": {},
   "outputs": [],
   "source": []
  }
 ],
 "metadata": {
  "kernelspec": {
   "display_name": "Julia 1.2.0",
   "language": "julia",
   "name": "julia-1.2"
  },
  "language_info": {
   "file_extension": ".jl",
   "mimetype": "application/julia",
   "name": "julia",
   "version": "1.2.0"
  }
 },
 "nbformat": 4,
 "nbformat_minor": 4
}
