{
 "cells": [
  {
   "cell_type": "markdown",
   "metadata": {},
   "source": [
    "### Import data"
   ]
  },
  {
   "cell_type": "code",
   "execution_count": 6,
   "metadata": {},
   "outputs": [
    {
     "name": "stderr",
     "output_type": "stream",
     "text": [
      "┌ Warning: `setindex!(df::DataFrame, v::AbstractVector, ::Colon, col_ind::ColumnIndex)` is deprecated, use `begin\n",
      "│     df[!, col_ind] = v\n",
      "│     df\n",
      "│ end` instead.\n",
      "│   caller = get_data(::String, ::String) at importData.jl:30\n",
      "└ @ Main /home/farnazm/dde/improve_fit/DrugResponseModel.jl/src/importData.jl:30\n",
      "┌ Warning: `setindex!(df::DataFrame, v::AbstractVector, ::Colon, col_ind::ColumnIndex)` is deprecated, use `begin\n",
      "│     df[!, col_ind] = v\n",
      "│     df\n",
      "│ end` instead.\n",
      "│   caller = import_data(::String, ::String) at importData.jl:56\n",
      "└ @ Main /home/farnazm/dde/improve_fit/DrugResponseModel.jl/src/importData.jl:56\n"
     ]
    },
    {
     "data": {
      "text/plain": [
       "(192×8 DataFrame. Omitted printing of 1 columns\n",
       "│ Row │ A3      │ A4      │ B3      │ B4      │ C3      │ C4      │ D3      │\n",
       "│     │ \u001b[90mFloat64\u001b[39m │ \u001b[90mFloat64\u001b[39m │ \u001b[90mFloat64\u001b[39m │ \u001b[90mFloat64\u001b[39m │ \u001b[90mFloat64\u001b[39m │ \u001b[90mFloat64\u001b[39m │ \u001b[90mFloat64\u001b[39m │\n",
       "├─────┼─────────┼─────────┼─────────┼─────────┼─────────┼─────────┼─────────┤\n",
       "│ 1   │ 20.0    │ 20.0    │ 20.0    │ 20.0    │ 20.0    │ 20.0    │ 20.0    │\n",
       "│ 2   │ 20.3987 │ 20.2533 │ 19.9199 │ 20.1778 │ 20.2943 │ 20.2437 │ 20.2753 │\n",
       "│ 3   │ 20.1977 │ 20.4116 │ 20.1733 │ 20.3685 │ 20.3967 │ 20.2086 │ 20.1907 │\n",
       "│ 4   │ 20.5136 │ 20.4506 │ 20.2542 │ 20.2889 │ 20.761  │ 20.1869 │ 20.3337 │\n",
       "│ 5   │ 20.2061 │ 20.7732 │ 20.3351 │ 20.4209 │ 20.4971 │ 20.3219 │ 20.5687 │\n",
       "│ 6   │ 20.8817 │ 20.8235 │ 20.3335 │ 20.3508 │ 20.5587 │ 20.3208 │ 20.5031 │\n",
       "│ 7   │ 21.3295 │ 21.1631 │ 20.4818 │ 20.1459 │ 20.5975 │ 20.4096 │ 20.5082 │\n",
       "│ 8   │ 21.6946 │ 20.9946 │ 20.8079 │ 20.3236 │ 20.4378 │ 20.2966 │ 20.7456 │\n",
       "│ 9   │ 21.931  │ 21.3529 │ 20.8788 │ 20.4771 │ 20.6957 │ 20.3273 │ 20.6684 │\n",
       "│ 10  │ 22.1547 │ 21.3952 │ 20.7621 │ 20.7432 │ 20.5075 │ 20.2399 │ 20.7762 │\n",
       "⋮\n",
       "│ 182 │ 73.5955 │ 72.734  │ 65.8161 │ 39.9731 │ 26.073  │ 7.5171  │ 5.61076 │\n",
       "│ 183 │ 73.8599 │ 73.7078 │ 66.1673 │ 40.6956 │ 25.5994 │ 7.49528 │ 5.56278 │\n",
       "│ 184 │ 74.9049 │ 73.8765 │ 66.4254 │ 40.5109 │ 25.5914 │ 7.47347 │ 5.52524 │\n",
       "│ 185 │ 74.542  │ 74.1485 │ 66.6307 │ 40.9232 │ 25.5667 │ 7.48933 │ 5.4877  │\n",
       "│ 186 │ 75.6984 │ 74.6521 │ 67.025  │ 41.1198 │ 25.8826 │ 7.376   │ 5.49296 │\n",
       "│ 187 │ 74.2555 │ 74.4375 │ 68.4312 │ 41.5872 │ 26.0108 │ 7.26268 │ 5.33211 │\n",
       "│ 188 │ 74.8009 │ 74.9097 │ 68.514  │ 41.4595 │ 25.6783 │ 7.26383 │ 5.5545  │\n",
       "│ 189 │ 76.536  │ 75.3329 │ 67.5436 │ 40.9769 │ 25.2147 │ 7.3918  │ 5.43939 │\n",
       "│ 190 │ 76.8536 │ 75.7914 │ 67.8821 │ 41.7154 │ 25.0165 │ 7.02915 │ 5.30691 │\n",
       "│ 191 │ 77.7337 │ 75.3626 │ 69.4669 │ 41.5618 │ 25.2789 │ 7.25971 │ 5.29766 │\n",
       "│ 192 │ 75.0657 │ 76.8763 │ 69.7047 │ 41.9492 │ 25.4359 │ 7.06091 │ 5.42265 │, [8.17986 7.54636 … 8.65093 7.85782; 8.57421 7.86288 … 8.84869 8.09502; … ; 42.8569 38.1083 … 1.69347 1.07923; 41.3201 39.6055 … 1.78598 0.969978], [11.8201 12.4536 … 11.3491 12.1422; 11.8245 12.3904 … 11.4266 12.1732; … ; 34.8768 37.2543 … 3.60419 2.0708; 33.7456 37.2708 … 3.63667 2.11972], [8.17986, 7.54636, 8.28789, 7.85094, 7.52386, 8.92164, 8.65093, 7.85782], [11.8201, 12.4536, 11.7121, 12.1491, 12.4761, 11.0784, 11.3491, 12.1422])"
      ]
     },
     "execution_count": 6,
     "metadata": {},
     "output_type": "execute_result"
    }
   ],
   "source": [
    "include(\"importData.jl\")\n",
    "include(\"DDEmodel.jl\")\n",
    "include(\"plot.jl\")\n",
    "\n",
    "# import data from the path\n",
    "\n",
    "# lapatinib\n",
    "pop_l, g2_l, g1_l, g1_0_l, g2_0_l = import_data(joinpath(\"..\", \"data\", \"lap.csv\"),\n",
    "        joinpath(\"..\", \"data\", \"lap_pop.csv\"));\n",
    "\n",
    "# doxorubicin\n",
    "pop_d, g2_d, g1_d, g1_0_d, g2_0_d = import_data(joinpath(\"..\", \"data\", \"dox.csv\"),\n",
    "        joinpath(\"..\", \"data\", \"dox_pop.csv\"));\n",
    "\n",
    "# gemcitabine\n",
    "pop_g, g2_g, g1_g, g1_0_g, g2_0_g = import_data(joinpath(\"..\", \"data\", \"gem.csv\"),\n",
    "        joinpath(\"..\", \"data\", \"gem_pop.csv\"));\n",
    "\n",
    "# paclitaxel\n",
    "pop_t, g2_t, g1_t, g1_0_t, g2_0_t = import_data(joinpath(\"..\", \"data\", \"taxol1.csv\"),\n",
    "        joinpath(\"..\", \"data\", \"taxol1_pop.csv\"));"
   ]
  },
  {
   "cell_type": "markdown",
   "metadata": {},
   "source": [
    "### Estimate "
   ]
  },
  {
   "cell_type": "code",
   "execution_count": null,
   "metadata": {},
   "outputs": [
    {
     "name": "stdout",
     "output_type": "stream",
     "text": [
      "Starting optimization with optimizer DiffEvoOpt{FitPopulation{Float64},RadiusLimitedSelector,BlackBoxOptim.AdaptiveDiffEvoRandBin{3},RandomBound{ContinuousRectSearchSpace}}\n",
      "0.00 secs, 0 evals, 0 steps\n",
      "\n",
      "Optimization stopped after 10001 steps and 42.53 seconds\n",
      "Termination reason: Max number of steps (10000) reached\n",
      "Steps per second = 235.17\n",
      "Function evals per second = 238.11\n",
      "Improvements/step = 0.18260\n",
      "Total function evaluations = 10126\n",
      "\n",
      "\n",
      "Best candidate found: [-2.74498, -3.32316, 2.00641, 2.00088, -5.44003, -4.95721]\n",
      "\n",
      "Fitness: 1852.346420786\n",
      "\n",
      "Starting optimization with optimizer DiffEvoOpt{FitPopulation{Float64},RadiusLimitedSelector,BlackBoxOptim.AdaptiveDiffEvoRandBin{3},RandomBound{ContinuousRectSearchSpace}}\n",
      "0.00 secs, 0 evals, 0 steps\n",
      "\n",
      "Optimization stopped after 10001 steps and 42.53 seconds\n",
      "Termination reason: Max number of steps (10000) reached\n",
      "Steps per second = 235.13\n",
      "Function evals per second = 238.18\n",
      "Improvements/step = 0.17480\n",
      "Total function evaluations = 10131\n",
      "\n",
      "\n",
      "Best candidate found: [-2.81345, -3.4708, 2.02219, 2.00017, -7.64133, -5.47065]\n",
      "\n",
      "Fitness: 1448.639279823\n",
      "\n",
      "Starting optimization with optimizer DiffEvoOpt{FitPopulation{Float64},RadiusLimitedSelector,BlackBoxOptim.AdaptiveDiffEvoRandBin{3},RandomBound{ContinuousRectSearchSpace}}\n",
      "0.00 secs, 0 evals, 0 steps\n"
     ]
    }
   ],
   "source": [
    "# initial guess\n",
    "initial_guess  = [0.02798, 0.025502, 21.3481, 10.2881, 0.0001, 0.0001]\n",
    "\n",
    "# bounds \n",
    "lower_bnd = [-6.0, -6.0, 2.0, 2.0, -8.0, -8.0]\n",
    "upper_bnd = [0.0, 0.0, 6.0, 6.0, 0.0, 0.0]\n",
    "bound = collect(zip(lower_bnd, upper_bnd))\n",
    "\n",
    "# max number of steps\n",
    "maxSteps = 1e4\n",
    "parameters = zeros(4, 6, 8)\n",
    "for j in 1:8\n",
    "    parameters[1, :, j] = optimization(g1_l, g2_l, g1_0_l, g2_0_l, initial_guess, j, bound, maxSteps)\n",
    "    parameters[2, :, j] = optimization(g1_d, g2_d, g1_0_d, g2_0_d, initial_guess, j, bound, maxSteps)\n",
    "    parameters[3, :, j] = optimization(g1_g, g2_g, g1_0_g, g2_0_g, initial_guess, j, bound, maxSteps)\n",
    "    parameters[4, :, j] = optimization(g1_t, g2_t, g1_0_t, g2_0_t, initial_guess, j, bound, maxSteps)\n",
    "end"
   ]
  },
  {
   "cell_type": "code",
   "execution_count": null,
   "metadata": {},
   "outputs": [],
   "source": [
    "using CSV\n",
    "CSV.write(\"Parameters_L.csv\",  DataFrame(parameters[1,:,:]), writeheader=true)\n",
    "CSV.write(\"Parameters_D.csv\",  DataFrame(parameters[2,:,:]), writeheader=true)\n",
    "CSV.write(\"Parameters_G.csv\",  DataFrame(parameters[3,:,:]), writeheader=true)\n",
    "CSV.write(\"Parameters_T.csv\",  DataFrame(parameters[4,:,:]), writeheader=true)"
   ]
  },
  {
   "cell_type": "code",
   "execution_count": null,
   "metadata": {},
   "outputs": [],
   "source": [
    "using Plots;\n",
    "\n",
    "param_lap_dde = CSV.read(joinpath(\"..\", \"data\", \"params_lap_DDE.csv\"))\n",
    "conc_l = [param_lap_dde[8,col] for col in 2:9]\n",
    "param_dox_dde = CSV.read(joinpath(\"..\", \"data\", \"params_dox_DDE.csv\"))\n",
    "conc_d = [param_dox_dde[8,col] for col in 2:9]\n",
    "param_gem_dde = CSV.read(joinpath(\"..\", \"data\", \"params_gem_DDE.csv\"))\n",
    "conc_g = [param_gem_dde[8,col] for col in 2:9]\n",
    "param_tax_dde = CSV.read(joinpath(\"..\", \"data\", \"params_taxol1_DDE.csv\"))\n",
    "conc_t = [param_tax_dde[8,col] for col in 2:9]\n",
    "\n",
    "# k showas the trial number, which could be from 1:control, ..., 8: maximum drug concentraation\n",
    "k=6\n",
    "p1 = plot(conc_l, parameters[1,k,:], label = \"Lapatinib\", title = \"tau1\", xlabel = \"drug conc. [nM]\", ylabel = \"param\", yticks = 0.0:round(maximum(parameters[1,k,:])/5 ,digits = 4):maximum(parameters[1,k,:]))\n",
    "p2 = plot(conc_d, parameters[2,k,:], label = \"Doxorubicin\", xlabel = \"drug conc. [nM]\", ylabel = \"param\", yticks = 0.0:round(maximum(parameters[2,k,:])/5, digits = 4):maximum(parameters[2,k,:]))\n",
    "p3 = plot(conc_g, parameters[3,k,:], label = \"Gemcitabine\", xlabel = \"drug conc. [nM]\", ylabel = \"param\", yticks = 0.0:round(maximum(parameters[3,k,:])/5, digits = 4):maximum(parameters[3,k,:]))\n",
    "p4 = plot(conc_t, parameters[4,k,:], label = \"Paclitaxel\", xlabel = \"drug conc. [nM]\", ylabel = \"param\", yticks = 0.0:round(maximum(parameters[4,k,:])/5, digits = 4):maximum(parameters[4,k,:]))\n",
    "plot(p1, p2, p3, p4, dpi = 100)"
   ]
  },
  {
   "cell_type": "code",
   "execution_count": null,
   "metadata": {},
   "outputs": [],
   "source": [
    "j = 7\n",
    "plotIt(parameters[2,:, j], g1_d, g2_d, g2_0_d, g1_0_d, pop_d, j, \"Dox\")"
   ]
  }
 ],
 "metadata": {
  "kernelspec": {
   "display_name": "Julia 1.1.1",
   "language": "julia",
   "name": "julia-1.1"
  },
  "language_info": {
   "file_extension": ".jl",
   "mimetype": "application/julia",
   "name": "julia",
   "version": "1.1.1"
  }
 },
 "nbformat": 4,
 "nbformat_minor": 4
}
