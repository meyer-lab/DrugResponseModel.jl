{
 "cells": [
  {
   "cell_type": "markdown",
   "metadata": {},
   "source": [
    "### Import data"
   ]
  },
  {
   "cell_type": "code",
   "execution_count": 5,
   "metadata": {},
   "outputs": [
    {
     "name": "stderr",
     "output_type": "stream",
     "text": [
      "┌ Warning: `setindex!(df::DataFrame, v::AbstractVector, ::Colon, col_ind::ColumnIndex)` is deprecated, use `begin\n",
      "│     df[!, col_ind] = v\n",
      "│     df\n",
      "│ end` instead.\n",
      "│   caller = get_data(::String, ::String) at importData.jl:29\n",
      "└ @ Main /home/farnazm/dde/lapatinib/DrugResponseModel.jl/src/importData.jl:29\n",
      "┌ Warning: `setindex!(df::DataFrame, v::AbstractVector, ::Colon, col_ind::ColumnIndex)` is deprecated, use `begin\n",
      "│     df[!, col_ind] = v\n",
      "│     df\n",
      "│ end` instead.\n",
      "│   caller = get_data(::String, ::String) at importData.jl:37\n",
      "└ @ Main /home/farnazm/dde/lapatinib/DrugResponseModel.jl/src/importData.jl:37\n"
     ]
    }
   ],
   "source": [
    "include(\"importData.jl\")\n",
    "include(\"DDEmodel.jl\")\n",
    "include(\"plot.jl\")\n",
    "\n",
    "# import data\n",
    "\n",
    "# lapatinib\n",
    "conc_l, pop_l, g2_l, g1_l, g1_0_l, g2_0_l = setup_data(\"lapatinib\");\n"
   ]
  },
  {
   "cell_type": "markdown",
   "metadata": {},
   "source": [
    "### Estimate "
   ]
  },
  {
   "cell_type": "code",
   "execution_count": 6,
   "metadata": {},
   "outputs": [
    {
     "name": "stdout",
     "output_type": "stream",
     "text": [
      "hello\n"
     ]
    },
    {
     "ename": "MethodError",
     "evalue": "MethodError: no method matching __solve(::DDEProblem{Array{Float64,1},Tuple{Float64,Float64},Array{Float64,1},Tuple{},true,Array{Float64,1},DDEFunction{true,typeof(DDEmodel),LinearAlgebra.UniformScaling{Bool},Nothing,Nothing,Nothing,Nothing,Nothing,Nothing,Nothing,Nothing,Nothing},getfield(Main, Symbol(\"#h#46\")){Array{Float64,1},Array{Float64,1}},Nothing})\nClosest candidates are:\n  __solve(::DiffEqBase.AbstractDDEProblem, !Matched::DelayDiffEq.AbstractMethodOfStepsAlgorithm, !Matched::Any...; kwargs...) at /home/farnazm/.julia/packages/DelayDiffEq/ypXUT/src/solve.jl:4\n  __solve(!Matched::DiffEqBase.AbstractEnsembleProblem, !Matched::Union{Nothing, DiffEqBase.DEAlgorithm}; kwargs...) at /home/farnazm/.julia/packages/DiffEqBase/LCorD/src/ensemble/basic_ensemble_solve.jl:27\n  __solve(!Matched::DiffEqBase.AbstractEnsembleProblem, !Matched::Union{Nothing, DiffEqBase.DEAlgorithm}, !Matched::DiffEqBase.BasicEnsembleAlgorithm; trajectories, batch_size, pmap_batch_size, kwargs...) at /home/farnazm/.julia/packages/DiffEqBase/LCorD/src/ensemble/basic_ensemble_solve.jl:61\n  ...",
     "output_type": "error",
     "traceback": [
      "MethodError: no method matching __solve(::DDEProblem{Array{Float64,1},Tuple{Float64,Float64},Array{Float64,1},Tuple{},true,Array{Float64,1},DDEFunction{true,typeof(DDEmodel),LinearAlgebra.UniformScaling{Bool},Nothing,Nothing,Nothing,Nothing,Nothing,Nothing,Nothing,Nothing,Nothing},getfield(Main, Symbol(\"#h#46\")){Array{Float64,1},Array{Float64,1}},Nothing})\nClosest candidates are:\n  __solve(::DiffEqBase.AbstractDDEProblem, !Matched::DelayDiffEq.AbstractMethodOfStepsAlgorithm, !Matched::Any...; kwargs...) at /home/farnazm/.julia/packages/DelayDiffEq/ypXUT/src/solve.jl:4\n  __solve(!Matched::DiffEqBase.AbstractEnsembleProblem, !Matched::Union{Nothing, DiffEqBase.DEAlgorithm}; kwargs...) at /home/farnazm/.julia/packages/DiffEqBase/LCorD/src/ensemble/basic_ensemble_solve.jl:27\n  __solve(!Matched::DiffEqBase.AbstractEnsembleProblem, !Matched::Union{Nothing, DiffEqBase.DEAlgorithm}, !Matched::DiffEqBase.BasicEnsembleAlgorithm; trajectories, batch_size, pmap_batch_size, kwargs...) at /home/farnazm/.julia/packages/DiffEqBase/LCorD/src/ensemble/basic_ensemble_solve.jl:61\n  ...",
      "",
      "Stacktrace:",
      " [1] #solve#386(::Base.Iterators.Pairs{Union{},Union{},Tuple{},NamedTuple{(),Tuple{}}}, ::typeof(solve), ::DDEProblem{Array{Float64,1},Tuple{Float64,Float64},Array{Float64,1},Tuple{},true,Array{Float64,1},DDEFunction{true,typeof(DDEmodel),LinearAlgebra.UniformScaling{Bool},Nothing,Nothing,Nothing,Nothing,Nothing,Nothing,Nothing,Nothing,Nothing},getfield(Main, Symbol(\"#h#46\")){Array{Float64,1},Array{Float64,1}},Nothing}) at /home/farnazm/.julia/packages/DiffEqBase/LCorD/src/solve.jl:41",
      " [2] solve(::DDEProblem{Array{Float64,1},Tuple{Float64,Float64},Array{Float64,1},Tuple{},true,Array{Float64,1},DDEFunction{true,typeof(DDEmodel),LinearAlgebra.UniformScaling{Bool},Nothing,Nothing,Nothing,Nothing,Nothing,Nothing,Nothing,Nothing,Nothing},getfield(Main, Symbol(\"#h#46\")){Array{Float64,1},Array{Float64,1}},Nothing}) at /home/farnazm/.julia/packages/DiffEqBase/LCorD/src/solve.jl:27",
      " [3] DDEsolve(::Array{Float64,1}, ::Array{Float64,2}, ::Array{Float64,2}, ::Array{Float64,1}, ::Array{Float64,1}, ::Int64) at /home/farnazm/dde/lapatinib/DrugResponseModel.jl/src/DDEmodel.jl:71",
      " [4] top-level scope at In[6]:12"
     ]
    }
   ],
   "source": [
    "# initial guess\n",
    "initial_guess  = [0.0596124, 0.0331098, 0.005, 0.005, 0.0596124, 0.0331098, 0.005, 0.005,0.0596124, 0.0331098, 0.005, 0.005, 0.0596124, 0.0331098, 0.005, 0.005, 0.0596124, 0.0331098, 0.005, 0.005, 0.0596124, 0.0331098, 0.005, 0.005, 0.0596124, 0.0331098, 0.005, 0.005, 0.0596124, 0.0331098, 0.005, 0.005, 25.0, 7.0]\n",
    "\n",
    "# bounds \n",
    "lower_bnd = -8.0*ones(34)\n",
    "upper_bnd = 1.0*ones(32)\n",
    "append!(upper_bnd, [30.0, 20.0])\n",
    "# max number of steps\n",
    "maxSteps = 1e4\n",
    "parameters = zeros(34)\n",
    "j = 4\n",
    "# [initial_guess[33], initial_guess[34]]\n",
    "# _, parameters = optimization(g1_l, g2_l, g1_0_l, g2_0_l, initial_guess, lower_bnd, upper_bnd, maxSteps)\n",
    "DDEsolve(initial_guess, g1_l, g2_l, g1_0_l, g2_0_l, 4)"
   ]
  },
  {
   "cell_type": "code",
   "execution_count": 7,
   "metadata": {},
   "outputs": [
    {
     "name": "stderr",
     "output_type": "stream",
     "text": [
      "┌ Warning: dt <= dtmin. Aborting. There is either an error in your model specification or the true solution is unstable.\n",
      "└ @ DiffEqBase /home/farnazm/.julia/packages/DiffEqBase/LCorD/src/integrator_interface.jl:156\n"
     ]
    },
    {
     "ename": "BoundsError",
     "evalue": "BoundsError: attempt to access 1-element Array{Float64,1} at index [2]",
     "output_type": "error",
     "traceback": [
      "BoundsError: attempt to access 1-element Array{Float64,1} at index [2]",
      "",
      "Stacktrace:",
      " [1] getindex(::Array{Float64,1}, ::Int64) at ./array.jl:728",
      " [2] ode_interpolation(::StepRangeLen{Float64,Base.TwicePrecision{Float64},Base.TwicePrecision{Float64}}, ::Function, ::Int64, ::Type, ::Array{Float64,1}, ::Symbol) at /home/farnazm/.julia/packages/OrdinaryDiffEq/aTiKO/src/dense/generic_dense.jl:130",
      " [3] CompositeInterpolationData at /home/farnazm/.julia/packages/OrdinaryDiffEq/aTiKO/src/interp_func.jl:74 [inlined]",
      " [4] #call#345 at /home/farnazm/.julia/packages/OrdinaryDiffEq/aTiKO/src/composite_solution.jl:16 [inlined]",
      " [5] ODECompositeSolution at ./none:0 [inlined] (repeats 2 times)",
      " [6] plotIt(::Array{Float64,1}, ::Int64, ::String, ::Symbol) at /home/farnazm/dde/lapatinib/DrugResponseModel.jl/src/plot.jl:29",
      " [7] top-level scope at In[7]:1"
     ]
    }
   ],
   "source": [
    "p1 = plotIt(parameters[:, 1], 1, \"control\", :left)\n",
    "p2 = plotIt(parameters[:, 2], 2, \"conc. = 5 nM\", false)\n",
    "p3 = plotIt(parameters[:, 3], 3, \"conc. = 5 nM\", false)\n",
    "p4 = plotIt(parameters[:, 4], 4, \"conc. = 5 nM\", false)\n",
    "p5 = plotIt(parameters[:, 5], 5, \"conc. = 5 nM\", false)\n",
    "p6 = plotIt(parameters[:, 6], 6, \"conc. = 5 nM\", false)\n",
    "p7 = plotIt(parameters[:, 7], 7, \"conc. = 5 nM\", false)\n",
    "p8 = plotIt(parameters[:, 8], 8, \"conc. = 5 nM\", false)\n",
    "plot(p1, p2, p3, p4, p5, p6, p7, p8, layout = (2,4))\n",
    "plot!(size = (1400, 700), dpi = 150)\n",
    "ylims!((0.0, 100.0))\n"
   ]
  }
 ],
 "metadata": {
  "kernelspec": {
   "display_name": "Julia 1.2.0",
   "language": "julia",
   "name": "julia-1.2"
  },
  "language_info": {
   "file_extension": ".jl",
   "mimetype": "application/julia",
   "name": "julia",
   "version": "1.2.0"
  }
 },
 "nbformat": 4,
 "nbformat_minor": 4
}
