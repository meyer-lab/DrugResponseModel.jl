{
 "cells": [
  {
   "cell_type": "markdown",
   "metadata": {},
   "source": [
    "### Import data"
   ]
  },
  {
   "cell_type": "code",
   "execution_count": 1,
   "metadata": {},
   "outputs": [
    {
     "name": "stderr",
     "output_type": "stream",
     "text": [
      "┌ Warning: `setindex!(df::DataFrame, v::AbstractVector, ::Colon, col_ind::ColumnIndex)` is deprecated, use `begin\n",
      "│     df[!, col_ind] = v\n",
      "│     df\n",
      "│ end` instead.\n",
      "│   caller = get_data(::String, ::String) at importData.jl:29\n",
      "└ @ Main /home/farnazm/dde/dde-cons/DrugResponseModel.jl/src/importData.jl:29\n",
      "┌ Warning: `setindex!(df::DataFrame, v::AbstractVector, ::Colon, col_ind::ColumnIndex)` is deprecated, use `begin\n",
      "│     df[!, col_ind] = v\n",
      "│     df\n",
      "│ end` instead.\n",
      "│   caller = get_data(::String, ::String) at importData.jl:37\n",
      "└ @ Main /home/farnazm/dde/dde-cons/DrugResponseModel.jl/src/importData.jl:37\n"
     ]
    }
   ],
   "source": [
    "include(\"importData.jl\")\n",
    "include(\"dde-constant.jl\")\n",
    "include(\"plot.jl\")\n",
    "\n",
    "# import data\n",
    "\n",
    "# lapatinib\n",
    "conc_l, pop, g2, g1, g1_0, g2_0 = setup_data(\"lapatinib\");\n"
   ]
  },
  {
   "cell_type": "markdown",
   "metadata": {},
   "source": [
    "### Estimate "
   ]
  },
  {
   "cell_type": "code",
   "execution_count": null,
   "metadata": {},
   "outputs": [],
   "source": [
    "# initial guess\n",
    "initial_guess  = [0.02798, 0.025502, 15.3481, 15.2881, 0.001, 0.001]\n",
    "\n",
    "# bounds \n",
    "lower_bnd = [-6.0, -6.0, 1.0, 1.0, -10.0, -10.0]\n",
    "upper_bnd = [0.0, 0.0, 6.0, 6.0, 0.0, 0.0]\n",
    "\n",
    "# max number of steps\n",
    "maxSteps = 10000\n",
    "parameters = zeros(6,8)\n",
    "for j in 1:8\n",
    "    println(\"#################### trial number $j #########################\")\n",
    "    best_fit, parameters[:,j] = optimization(g1, g2, g1_0, g2_0, initial_guess, j, lower_bnd, upper_bnd, maxSteps)\n",
    "    println(best_fit)\n",
    "end"
   ]
  },
  {
   "cell_type": "markdown",
   "metadata": {},
   "source": [
    "### Plot"
   ]
  },
  {
   "cell_type": "code",
   "execution_count": null,
   "metadata": {},
   "outputs": [],
   "source": [
    "plot_all(parameters, pop, g2, g1, g1_0, g2_0)"
   ]
  },
  {
   "cell_type": "code",
   "execution_count": null,
   "metadata": {},
   "outputs": [],
   "source": [
    "plot_parameters(conc_l, parameters)"
   ]
  }
 ],
 "metadata": {
  "kernelspec": {
   "display_name": "Julia 1.2.0",
   "language": "julia",
   "name": "julia-1.2"
  },
  "language_info": {
   "file_extension": ".jl",
   "mimetype": "application/julia",
   "name": "julia",
   "version": "1.2.0"
  }
 },
 "nbformat": 4,
 "nbformat_minor": 4
}
