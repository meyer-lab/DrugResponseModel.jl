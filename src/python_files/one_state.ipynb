{
 "cells": [
  {
   "cell_type": "code",
   "execution_count": 1,
   "metadata": {},
   "outputs": [],
   "source": [
    "import pandas as pd\n",
    "import numpy as np\n",
    "import scipy.stats as sp\n",
    "import matplotlib.pyplot as plt\n",
    "%matplotlib inline\n",
    "import seaborn as ss; ss.set()\n",
    "\n",
    "from dist_utils import readData, plotDist, polish, pTotal\n",
    "\n",
    "Control, LAP25, Lap50, GEM5, GEM10, TAX2, TAX3 = readData(r'CCDurations.xlsx')"
   ]
  },
  {
   "cell_type": "code",
   "execution_count": 2,
   "metadata": {},
   "outputs": [],
   "source": [
    "control, controlParams, drugScale = pTotal(Control, Lap50, GEM10, TAX3)\n",
    "# plotDist(control, lap50, controlParams, drugParams, \"lap50\")"
   ]
  },
  {
   "cell_type": "code",
   "execution_count": 6,
   "metadata": {},
   "outputs": [
    {
     "data": {
      "text/plain": [
       "[[6.17168458781362, 1.3248147444423333],\n",
       " [3.9739644970414205, 2.0359786184210527],\n",
       " [4.135, 1.4169755374351372]]"
      ]
     },
     "execution_count": 6,
     "metadata": {},
     "output_type": "execute_result"
    }
   ],
   "source": [
    "drugScale"
   ]
  },
  {
   "cell_type": "code",
   "execution_count": 7,
   "metadata": {},
   "outputs": [
    {
     "data": {
      "text/plain": [
       "[[5, 3.6], [19, 1.1848761007577309]]"
      ]
     },
     "execution_count": 7,
     "metadata": {},
     "output_type": "execute_result"
    }
   ],
   "source": [
    "controlParams"
   ]
  },
  {
   "cell_type": "markdown",
   "metadata": {},
   "source": [
    "### Generating the cell population based on the parameters and visualizing the number of cells in G1, G2, and in total."
   ]
  },
  {
   "cell_type": "code",
   "execution_count": null,
   "metadata": {},
   "outputs": [],
   "source": [
    "\n",
    "\n",
    "# initCells = 40\n",
    "# experimentTime = 90\n",
    "# locBern1 = 0.75\n",
    "# locBern2 = 0.75\n",
    "\n",
    "# # creating the lineage (control)\n",
    "# lin_control = generateLineageWithTime(initCells, experimentTime, locBern1, g1_a, g1_b, g2_a, g2_b)\n",
    "\n",
    "# # creating the lineage (lopatinib)\n",
    "# lin_lapatinib = generateLineageWithTime(initCells, experimentTime, locBern2, g1_a_lap, g1_b_lap, g2_a_lap, g2_b_lap)\n",
    "\n",
    "# # set the number of lineages as the number of intial cells we start with\n",
    "# num_of_lins = initCells\n",
    "\n",
    "# # separating the population in terms of their root parent\n",
    "# pop_control = separate_pop(num_of_lins, lin_control)\n",
    "# pop_lapatinib = separate_pop(num_of_lins, lin_lapatinib)\n",
    "\n",
    "# time = np.linspace(18, 90, 80)\n",
    "\n",
    "# # Determining the number of cells in G1 or G2 phase for every time point\n",
    "# num_g1, num_g2, num_cell = inG1_or_G2(lin_control, time)   \n",
    "# num_g1_lap, num_g2_lap, num_cell_lap = inG1_or_G2(lin_lapatinib, time) \n",
    "\n",
    "# # Plotting the # of cells in G1, G2, and totall # of cells\n",
    "# plt.figure(figsize = (18,8), dpi = 150)\n",
    "# plt.subplot(2,2,1)\n",
    "# plt.scatter(time, num_g1, label = 'g1')\n",
    "# plt.scatter(time, num_g2, label = 'g2')\n",
    "# plt.ylabel('# of cells in G1 and G2')\n",
    "# plt.xlabel('time [hours]')\n",
    "# plt.legend()\n",
    "# plt.subplot(2,2,2)\n",
    "# plt.scatter(time, num_g1_lap, label = 'g1 lap')\n",
    "# plt.scatter(time, num_g2_lap, label = 'g2 lap')\n",
    "# plt.ylabel('# of cells in G1 and G2 lap')\n",
    "# plt.xlabel('time [hours]')\n",
    "# plt.legend()\n",
    "# plt.subplot(2,2,3)\n",
    "# plt.scatter(time, num_cell, label = 'est total')\n",
    "# plt.ylabel('total # of cells')\n",
    "# plt.xlabel('time [hours]')\n",
    "# plt.legend()\n",
    "# plt.subplot(2,2,4)\n",
    "# plt.scatter(time, num_cell_lap, label = 'est total lap')\n",
    "# plt.ylabel('total # of cells')\n",
    "# plt.xlabel('time [hours]')\n",
    "# plt.legend()\n",
    "# # plt.savefig('g1g2.png')\n",
    "# plt.show()\n",
    "\n",
    "# plt.figure(figsize = (18,4), dpi = 150)\n",
    "# plt.subplot(1,2,1)\n",
    "# # plt.scatter(time, num_g1, label = 'g1')\n",
    "# plt.scatter(time, num_g2, label = 'g2 control')\n",
    "# # plt.scatter(time, num_g1_lop, label = 'g1 lapatinib')\n",
    "# plt.scatter(time, num_g2_lap, label = 'g2 lapatinib')\n",
    "# plt.ylabel('# of cells in G2')\n",
    "# plt.xlabel('time [hours]')\n",
    "# plt.legend()\n",
    "# plt.subplot(1,2,2)\n",
    "# plt.scatter(time, num_cell, label = 'total control')\n",
    "# plt.scatter(time, num_cell_lap, label = 'total lapatinib')\n",
    "# plt.ylabel('total # of cells')\n",
    "# plt.xlabel('time [hours]')\n",
    "# plt.legend()\n",
    "# # plt.savefig('1.png')\n",
    "# plt.show()\n"
   ]
  }
 ],
 "metadata": {
  "kernelspec": {
   "display_name": "Python 3",
   "language": "python",
   "name": "python3"
  },
  "language_info": {
   "codemirror_mode": {
    "name": "ipython",
    "version": 3
   },
   "file_extension": ".py",
   "mimetype": "text/x-python",
   "name": "python",
   "nbconvert_exporter": "python",
   "pygments_lexer": "ipython3",
   "version": "3.8.2"
  }
 },
 "nbformat": 4,
 "nbformat_minor": 4
}
