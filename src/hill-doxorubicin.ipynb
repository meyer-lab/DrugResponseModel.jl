{
 "cells": [
  {
   "cell_type": "markdown",
   "metadata": {},
   "source": [
    "### Import data"
   ]
  },
  {
   "cell_type": "code",
   "execution_count": null,
   "metadata": {},
   "outputs": [],
   "source": [
    "include(\"importData.jl\")\n",
    "include(\"Hill.jl\")\n",
    "include(\"plot.jl\")\n",
    "\n",
    "# import G1, G2, and population data\n",
    "conc_d, popd, g2d, g1d, g2_0d, g1_0d = setup_data(\"doxorubicin\");"
   ]
  },
  {
   "cell_type": "markdown",
   "metadata": {},
   "source": [
    "### Hill model, residual functions and optimization"
   ]
  },
  {
   "cell_type": "code",
   "execution_count": null,
   "metadata": {},
   "outputs": [],
   "source": [
    "#  [EC50, b_steepness, alpha_min, alpha_max, beta_min, beta_max, tau1_mean, tau1_max, tau2_min, tau2_max, gamma1_max, gamma2_max]\n",
    "# guess\n",
    "guess = [[70.56, 0.05, 0.07, 0.008, 0.08, 0.005, 34.286, 6.56, 8.0, 7.0, 0.005, 0.035], \n",
    "         [70.8, 0.02, 0.08, 0.008, 0.03, 0.0045, 20.0, 6.0, 20.0, 10.0, 0.003, 0.02],\n",
    "         [80.9, 0.03, 0.06, 0.007, 0.05, 0.0035, 15.0, 5.0, 30.0, 5.0, 0.002, 0.03],\n",
    "         [120.1, 0.04, 0.07, 0.005, 0.03, 0.005, 30.0, 3.0, 20.0, 4.0, 0.003, 0.02],\n",
    "         [150.8, 0.09, 0.06, 0.009, 0.008, 0.043, 38.94, 5.49, 19.9, 3.2, 0.0029, 0.022]]\n",
    "# max num of steps\n",
    "num_steps=2e3\n",
    "best_fit = zeros(5)\n",
    "params = zeros(12, 5)\n",
    "for i in 1:5 \n",
    "    best_fit[i], params[:, i] = optimize_hill(guess[i], conc_d, g1d, g2d, g1_0d, g2_0d, num_steps)\n",
    "end\n"
   ]
  },
  {
   "cell_type": "code",
   "execution_count": null,
   "metadata": {},
   "outputs": [],
   "source": [
    "best, arg = findmin(best_fit)\n",
    "ps = params[:,arg]"
   ]
  },
  {
   "cell_type": "markdown",
   "metadata": {},
   "source": [
    "### Plot the data with the new set of parameters for DDE"
   ]
  },
  {
   "cell_type": "code",
   "execution_count": null,
   "metadata": {},
   "outputs": [],
   "source": [
    "# easy way to convert the hill parameters to DDE parameters\n",
    "p = getDDEparams(ps, conc_d)\n",
    "\n",
    "# i showas the trial number, which could be from 1:control, ..., 8: maximum drug concentraation\n",
    "p_1 = plotIt(p[:, 1], g1d, g2d, g2_0d, g1_0d, popd, 1, \"Hill doxorubicin\")\n",
    "p_2 = plotIt(p[:, 2], g1d, g2d, g2_0d, g1_0d, popd, 2, \"\")\n",
    "p_3 = plotIt(p[:, 3], g1d, g2d, g2_0d, g1_0d, popd, 3, \"\")\n",
    "p_4 = plotIt(p[:, 4], g1d, g2d, g2_0d, g1_0d, popd, 4, \"\")\n",
    "p_5 = plotIt(p[:, 5], g1d, g2d, g2_0d, g1_0d, popd, 5, \"\")\n",
    "p_6 = plotIt(p[:, 6], g1d, g2d, g2_0d, g1_0d, popd, 6, \"\")\n",
    "p_7 = plotIt(p[:, 7], g1d, g2d, g2_0d, g1_0d, popd, 7, \"\")\n",
    "p_8 = plotIt(p[:, 8], g1d, g2d, g2_0d, g1_0d, popd, 8, \"\")\n",
    "plot(p_1, p_2, p_3, p_4, p_5, p_6, p_7, p_8)\n",
    "plot!(size = (1000, 1000))"
   ]
  },
  {
   "cell_type": "markdown",
   "metadata": {},
   "source": [
    "### Plot Hill curve for all of the DDE model parameters"
   ]
  },
  {
   "cell_type": "code",
   "execution_count": null,
   "metadata": {},
   "outputs": [],
   "source": [
    "# plot\n",
    "p__1 = plot(conc_d, p[1, :], label = \"alpha\", linewidth = 2, xlabel = \"concentration [nM]\", ylabel = \"drug effect\", line = (0.5, 4, :red))\n",
    "p__2 = plot(conc_d, p[2, :], label = \"beta\", linewidth = 2, legend =:best, line = (0.5, 4, :red))\n",
    "p__3 = plot(conc_d, p[3, :], label = \"tau1\", linewidth = 2, line = (0.5, 4, :red))\n",
    "p__4 = plot(conc_d, p[4, :], label = \"tau2\", linewidth = 2, line = (0.5, 4, :red))\n",
    "p__5 = plot(conc_d, p[5, :], label = \"gamma1\", linewidth = 2, line = (0.5, 4, :red))\n",
    "p__6 = plot(conc_d, p[6, :], label = \"gamma2\", linewidth = 2, line = (0.5, 4, :red))\n",
    "plot(p__1, p__2, p__3, p__4, p__5, p__6)\n",
    "plot!(size = (1000, 700))"
   ]
  },
  {
   "cell_type": "code",
   "execution_count": 10,
   "metadata": {},
   "outputs": [],
   "source": [
    "using Test\n",
    "# easy way to convert the hill parameters to DDE parameters\n",
    "a = [2.0, 4.0]\n",
    "@test all(x -> x>0, a)\n",
    "dde_params = [[1.0, 2.0], \n",
    "              [3.0, 4.0],\n",
    "              [1.0, 9.0]]\n",
    "for i in 1:3\n",
    "    temp = dde_params[i]\n",
    "#     print(temp)\n",
    "    @test all(x -> x>0, temp)\n",
    "end\n",
    "# println(\"this\")\n",
    "# dde_params[1, :]\n",
    "# a"
   ]
  }
 ],
 "metadata": {
  "kernelspec": {
   "display_name": "Julia 1.2.0",
   "language": "julia",
   "name": "julia-1.2"
  },
  "language_info": {
   "file_extension": ".jl",
   "mimetype": "application/julia",
   "name": "julia",
   "version": "1.2.0"
  }
 },
 "nbformat": 4,
 "nbformat_minor": 4
}
