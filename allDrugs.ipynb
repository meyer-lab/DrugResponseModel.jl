{
 "cells": [
  {
   "cell_type": "code",
   "execution_count": null,
   "metadata": {},
   "outputs": [],
   "source": [
    "import Pkg;\n",
    "Pkg.instantiate()\n",
    "using DrugResponseModel\n",
    "using Plots;\n",
    "\n",
    "concs, populations, g1s, g2s = load();"
   ]
  },
  {
   "cell_type": "code",
   "execution_count": null,
   "metadata": {},
   "outputs": [],
   "source": [
    "# fitness, pp = optimize_hillAll(concs, g1s, g2s; maxstep=1E5)\n",
    "pp = [66.0543, 1.00007, 2.21938, 6.16125e-5, 1.92177, 2.99999, 0.0230763, 0.0403181, 95.0862, 1.29704, 2.4513, 2.12198, 2.02131, 0.000217173, 0.422163, 0.491411, 14.8388, 2.55789, 2.45045, 1.76958, 1.96157, 3.0, 0.0361384, 0.192243, 4.17386, 3.91236, 2.47177, 9.45611e-5, 2.22849, 1.61094, 0.541983, 0.317739, 0.497761, 49.2368, 65.7671, 26.911, 11.0445]"
   ]
  },
  {
   "cell_type": "code",
   "execution_count": null,
   "metadata": {},
   "outputs": [],
   "source": [
    "effs = getODEparamsAll(pp, concs)\n",
    "lapat = effs[:,:,1]\n",
    "dox = effs[:,:,2]\n",
    "gemc = effs[:,:,3]\n",
    "pac = effs[:,:,4]"
   ]
  },
  {
   "cell_type": "markdown",
   "metadata": {},
   "source": [
    "### Lapatinib"
   ]
  },
  {
   "cell_type": "code",
   "execution_count": null,
   "metadata": {},
   "outputs": [],
   "source": [
    "ODEplot_all(lapat, g1s[:, :, 1], g2s[:, :, 1], populations[1], concs[:, 1])"
   ]
  },
  {
   "cell_type": "code",
   "execution_count": null,
   "metadata": {},
   "outputs": [],
   "source": [
    "plot_parameters(concs[:, 1], lapat)"
   ]
  },
  {
   "cell_type": "code",
   "execution_count": null,
   "metadata": {},
   "outputs": [],
   "source": [
    "g0 = g1s[1, 1, 1] + g2s[1,1,1]\n",
    "T = 200\n",
    "plotGradient(lapat, concs[:, 1], g0, T)"
   ]
  },
  {
   "cell_type": "markdown",
   "metadata": {},
   "source": [
    "### Doxorubicin"
   ]
  },
  {
   "cell_type": "code",
   "execution_count": null,
   "metadata": {},
   "outputs": [],
   "source": [
    "ODEplot_all(dox, g1s[:, :, 2], g2s[:, :, 2], populations[2], concs[:, 2])"
   ]
  },
  {
   "cell_type": "code",
   "execution_count": null,
   "metadata": {},
   "outputs": [],
   "source": [
    "plot_parameters(concs[:, 2], dox)"
   ]
  },
  {
   "cell_type": "code",
   "execution_count": null,
   "metadata": {},
   "outputs": [],
   "source": [
    "g0 = g1s[1, 1, 2] + g2s[1,1,2]\n",
    "\n",
    "plotGradient(dox, concs[:, 2], g0, T)"
   ]
  },
  {
   "cell_type": "markdown",
   "metadata": {},
   "source": [
    "### Gemcitabine"
   ]
  },
  {
   "cell_type": "code",
   "execution_count": null,
   "metadata": {},
   "outputs": [],
   "source": [
    "ODEplot_all(gemc, g1s[:, :, 3], g2s[:, :, 3], populations[3], concs[:, 3])"
   ]
  },
  {
   "cell_type": "code",
   "execution_count": null,
   "metadata": {},
   "outputs": [],
   "source": [
    "plot_parameters(concs[:, 3], gemc)"
   ]
  },
  {
   "cell_type": "code",
   "execution_count": null,
   "metadata": {},
   "outputs": [],
   "source": [
    "g0 = g1s[1, 1, 3] + g2s[1,1,3]\n",
    "\n",
    "plotGradient(gemc, concs[:, 3], g0, T)"
   ]
  },
  {
   "cell_type": "markdown",
   "metadata": {},
   "source": [
    "### Paclitaxel"
   ]
  },
  {
   "cell_type": "code",
   "execution_count": null,
   "metadata": {},
   "outputs": [],
   "source": [
    "ODEplot_all(pac, g1s[:, :, 4], g2s[:, :, 4], populations[4], concs[:, 4])"
   ]
  },
  {
   "cell_type": "code",
   "execution_count": null,
   "metadata": {},
   "outputs": [],
   "source": [
    "plot_parameters(concs[:, 4], pac)"
   ]
  },
  {
   "cell_type": "code",
   "execution_count": null,
   "metadata": {},
   "outputs": [],
   "source": [
    "g0 = g1s[1, 1, 4] + g2s[1,1,4]\n",
    "\n",
    "plotGradient(pac, concs[:, 4], g0, T)"
   ]
  }
 ],
 "metadata": {
  "kernelspec": {
   "display_name": "Julia 1.3.0",
   "language": "julia",
   "name": "julia-1.3"
  },
  "language_info": {
   "file_extension": ".jl",
   "mimetype": "application/julia",
   "name": "julia",
   "version": "1.3.0"
  }
 },
 "nbformat": 4,
 "nbformat_minor": 4
}
