{
 "cells": [
  {
   "cell_type": "code",
   "execution_count": null,
   "metadata": {},
   "outputs": [],
   "source": [
    "import Pkg;\n",
    "Pkg.instantiate()\n",
    "using DrugResponseModel\n",
    "using Plots;\n",
    "\n",
    "concs, populations, g1s, g2s = load();"
   ]
  },
  {
   "cell_type": "code",
   "execution_count": null,
   "metadata": {},
   "outputs": [],
   "source": [
    "fitness, pp = optimize_hillAll(concs, g1s, g2s; maxstep=2E4)"
   ]
  },
  {
   "cell_type": "code",
   "execution_count": null,
   "metadata": {},
   "outputs": [],
   "source": [
    "# pp = [461.27, 5.54798, 0.964772, 2.46747, 1.48415, 1.40538, 0.848515, 0.942616, 0.517771, 88.2117, 1.81238, 1.38514, 1.3143, 1.67771, 1.86787, 0.593163, 0.75137, 0.502516, 62.7446, 0.661457, 2.40799, 0.358565, 1.40196, 0.0224268, 0.175731, 0.186301, 0.460102, 2.97593, 6.11958, 2.11154, 0.771283, 1.5554, 0.581559, 0.563103, 0.124731, 0.495876, 42.7631, 65.4739, 39.1332, 11.3155]\n",
    "effs = getODEparamsAll(pp, concs)"
   ]
  },
  {
   "cell_type": "code",
   "execution_count": null,
   "metadata": {},
   "outputs": [],
   "source": [
    "ODEplot_all(effs[:, :, 4], g1s[:, :, 4], g2s[:, :, 4], populations[4], concs[:, 4])"
   ]
  }
 ],
 "metadata": {
  "kernelspec": {
   "display_name": "Julia 1.3.0",
   "language": "julia",
   "name": "julia-1.3"
  },
  "language_info": {
   "file_extension": ".jl",
   "mimetype": "application/julia",
   "name": "julia",
   "version": "1.3.0"
  }
 },
 "nbformat": 4,
 "nbformat_minor": 4
}
