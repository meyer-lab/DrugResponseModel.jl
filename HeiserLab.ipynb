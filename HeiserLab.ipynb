{
 "cells": [
  {
   "cell_type": "code",
   "execution_count": null,
   "metadata": {},
   "outputs": [],
   "source": [
    "import Pkg;\n",
    "Pkg.instantiate()\n",
    "using DrugResponseModel\n",
    "\n",
    "# import data from the path\n",
    "conc_l, pop, g2, g1, g2_0, g1_0 = setup_data(\"lapatinib\"); # in which:"
   ]
  },
  {
   "cell_type": "markdown",
   "metadata": {},
   "source": [
    "### ODE direct fitting\n",
    "16 species in G1 and 16 species in G2"
   ]
  },
  {
   "cell_type": "code",
   "execution_count": null,
   "metadata": {},
   "outputs": [],
   "source": [
    "params_ode = zeros(5, 8)\n",
    "cost = zeros(8)\n",
    "for i in 1:8\n",
    "    cost[i], params_ode[:, i] = ODEoptimizer(i, g1, g2, g1_0, g2_0, 16, 16)\n",
    "end\n",
    "\n",
    "println(cost)\n",
    "println(params_ode)\n",
    "# plotting the fitted curves\n",
    "ODEplot_all(params_ode, g1, g2, g1_0, g2_0, pop, 16, 16)"
   ]
  },
  {
   "cell_type": "markdown",
   "metadata": {},
   "source": [
    "### Hill fitting \n",
    "optimized estimation of the number of species in each phase"
   ]
  },
  {
   "cell_type": "code",
   "execution_count": null,
   "metadata": {},
   "outputs": [],
   "source": [
    "lowEC50 = 50.0\n",
    "highEC50 = 350.0\n",
    "costt, ps = optimize_hill(lowEC50, highEC50, conc_l, g1, g2, g1_0, g2_0)\n",
    "nG1, nG2, effects = getODEparams(ps, conc_l)\n",
    "ODEplot_all(effects, g1, g2, g1_0, g2_0, pop, nG1, nG2)"
   ]
  },
  {
   "cell_type": "markdown",
   "metadata": {},
   "source": [
    "### Plot parameters behavior over time with direct ODE "
   ]
  },
  {
   "cell_type": "code",
   "execution_count": null,
   "metadata": {},
   "outputs": [],
   "source": [
    "plot_parameters(conc_l, params_ode)"
   ]
  },
  {
   "cell_type": "markdown",
   "metadata": {},
   "source": [
    "### and hill fit "
   ]
  },
  {
   "cell_type": "code",
   "execution_count": null,
   "metadata": {},
   "outputs": [],
   "source": [
    "plot_parameters(conc_l, effects)"
   ]
  }
 ],
 "metadata": {
  "kernelspec": {
   "display_name": "Julia 1.3.0",
   "language": "julia",
   "name": "julia-1.3"
  },
  "language_info": {
   "file_extension": ".jl",
   "mimetype": "application/julia",
   "name": "julia",
   "version": "1.3.0"
  }
 },
 "nbformat": 4,
 "nbformat_minor": 4
}
