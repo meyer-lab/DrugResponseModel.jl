{
 "cells": [
  {
   "cell_type": "code",
   "execution_count": null,
   "metadata": {},
   "outputs": [],
   "source": [
    "import Pkg;\n",
    "Pkg.instantiate()\n",
    "using DrugResponseModel\n",
    "using Plots;\n",
    "\n",
    "# import data from the path\n",
    "conc_l, pop, g2, g1 = setup_data(\"doxorubicin\")\n",
    "\n",
    "# costt, ps = optimize_hill(conc_l, g1, g2, maxstep = 6E4)\n",
    "# ps = [134.546, 0.100021, 0.0385798, 0.814924, 2.93535, 0.229024, 0.0875672, 0.168648, 0.631369, 2.37796, 88.8261, 4.03489, 2.42543]\n",
    "ps = [25.0687, 0.936562, 0.0136455, 0.999286, 1.92282, 0.000844549, 0.0202041, 0.961343, 0.649483, 12.67, 27.499, 1.35548, 20.4075, 0.0177931, 0.0358586]\n",
    "effects = getODEparams(ps, conc_l)"
   ]
  },
  {
   "cell_type": "code",
   "execution_count": null,
   "metadata": {},
   "outputs": [],
   "source": [
    "f = LinRange(0.0, 1.0, 100)\n",
    "num = zeros(100)\n",
    "g0 = g1[1] + g2[1]\n",
    "for (i,v) in enumerate(f)\n",
    "    ppp = effects[:, 1]\n",
    "    ppp[3] = v\n",
    "    num[i] = numcells(ppp, g0, 50.0)\n",
    "end\n",
    "using Plots;\n",
    "plot(f,num)"
   ]
  },
  {
   "cell_type": "code",
   "execution_count": null,
   "metadata": {},
   "outputs": [],
   "source": [
    "concentration = LinRange(minimum(conc_l), maximum(conc_l), 20)\n",
    "conc = Vector{Float64}(concentration)\n",
    "effects2 = getODEparams(ps, conc)\n",
    "\n",
    "g0 = g1[1] + g2[1]\n",
    "xx = LinRange(90.0, 200.0, 200)\n",
    "@gif for (i,v) in enumerate(xx)\n",
    "    plotGradient(effects2, concentration, g0, v, string(i))\n",
    "    ylims!((-1000.0, 1000.0))\n",
    "end every 1\n"
   ]
  },
  {
   "cell_type": "code",
   "execution_count": null,
   "metadata": {},
   "outputs": [],
   "source": [
    "ODEplot_all(effects, g1, g2, pop, conc_l)"
   ]
  },
  {
   "cell_type": "code",
   "execution_count": null,
   "metadata": {},
   "outputs": [],
   "source": [
    "ODEplot_allPerc(effects, g1, g2, pop, conc_l)"
   ]
  },
  {
   "cell_type": "code",
   "execution_count": null,
   "metadata": {},
   "outputs": [],
   "source": [
    "plot_parameters(conc_l, effects)"
   ]
  },
  {
   "cell_type": "code",
   "execution_count": null,
   "metadata": {},
   "outputs": [],
   "source": [
    "result, paramRanges = allSensitivity(ps, conc_l, g1, g2)\n",
    "\n",
    "pl = [plotUnitSensitivity(paramRanges[:, i], result[:, i], ps[i], i) for i=1:11]\n",
    "plot(pl...)\n",
    "plot!(size=(1200, 800))"
   ]
  }
 ],
 "metadata": {
  "kernelspec": {
   "display_name": "Julia 1.3.0",
   "language": "julia",
   "name": "julia-1.3"
  },
  "language_info": {
   "file_extension": ".jl",
   "mimetype": "application/julia",
   "name": "julia",
   "version": "1.3.0"
  }
 },
 "nbformat": 4,
 "nbformat_minor": 4
}
