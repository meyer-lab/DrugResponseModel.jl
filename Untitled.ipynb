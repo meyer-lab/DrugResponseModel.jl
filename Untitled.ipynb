{
 "cells": [
  {
   "cell_type": "code",
   "execution_count": 1,
   "metadata": {},
   "outputs": [
    {
     "name": "stderr",
     "output_type": "stream",
     "text": [
      "\u001b[32m\u001b[1m Activating\u001b[22m\u001b[39m environment at `~/multist/DrugResponseModel.jl/Project.toml`\n",
      "┌ Info: Precompiling DrugResponseModel [f46a7e40-ab32-11e9-0ff4-0323d592fbfd]\n",
      "└ @ Base loading.jl:1260\n"
     ]
    }
   ],
   "source": [
    "import Pkg; Pkg.instantiate()\n",
    "\n",
    "Pkg.activate(\".\")\n",
    "\n",
    "using DrugResponseModel\n"
   ]
  },
  {
   "cell_type": "code",
   "execution_count": 10,
   "metadata": {},
   "outputs": [
    {
     "data": {
      "text/plain": [
       "12×12 Array{Float64,2}:\n",
       " -1.2   0.0    0.0   20.0    0.0    0.0  …   50.0    0.0   0.0    0.0   0.0\n",
       "  1.0  -1.2    0.0    0.0    0.0    0.0       0.0    0.0   0.0    0.0   0.0\n",
       "  0.0   1.0  -10.3    0.0    0.0    0.0       0.0    0.0   0.0    0.0   0.0\n",
       "  0.0   0.0   10.0  -60.3    0.0    0.0       0.0    0.0   0.0    0.0   0.0\n",
       "  0.0   0.0    0.0   15.0  -15.4    0.0      10.0    0.0   0.0    0.0   0.0\n",
       "  0.0   0.0    0.0    0.0   15.0  -15.4  …    0.0    0.0   0.0    0.0   0.0\n",
       "  0.0   0.0    0.0    0.0    0.0    5.0       0.0    0.0   0.0    0.0   0.0\n",
       "  0.0   0.0    0.0    0.0    0.0    0.0     -30.5    0.0   0.0    0.0   0.0\n",
       "  0.2   0.2    0.0    0.0    0.0    0.0       0.0  -15.0   0.0    0.0   0.0\n",
       "  0.0   0.0    0.3    0.3    0.0    0.0       0.0    0.0  -5.0    0.0   0.0\n",
       "  0.0   0.0    0.0    0.0    0.4    0.4  …    0.0    0.0   0.0  -15.0   0.0\n",
       "  0.0   0.0    0.0    0.0    0.0    0.0       0.5    0.0   0.0    0.0  -5.0"
      ]
     },
     "execution_count": 10,
     "metadata": {},
     "output_type": "execute_result"
    }
   ],
   "source": [
    "p = [1.0, 10.0, 15.0, 5.0, 50.0, 25.0, 0.2, 0.3, 0.4, 0.5, 2,2,1,1]\n",
    "a = DrugResponseModel.ODEjacMulti(p, 2,2,1,1)"
   ]
  },
  {
   "cell_type": "code",
   "execution_count": 11,
   "metadata": {},
   "outputs": [
    {
     "data": {
      "text/plain": [
       "12×11 Array{Float64,2}:\n",
       " -1.2   0.0    0.0   20.0    0.0    0.0   0.0   50.0    0.0   0.0    0.0\n",
       "  1.0  -1.2    0.0    0.0    0.0    0.0   0.0    0.0    0.0   0.0    0.0\n",
       "  0.0   1.0  -10.3    0.0    0.0    0.0   0.0    0.0    0.0   0.0    0.0\n",
       "  0.0   0.0   10.0  -60.3    0.0    0.0   0.0    0.0    0.0   0.0    0.0\n",
       "  0.0   0.0    0.0   15.0  -15.4    0.0   0.0   10.0    0.0   0.0    0.0\n",
       "  0.0   0.0    0.0    0.0   15.0  -15.4   0.0    0.0    0.0   0.0    0.0\n",
       "  0.0   0.0    0.0    0.0    0.0    5.0  -5.5    0.0    0.0   0.0    0.0\n",
       "  0.0   0.0    0.0    0.0    0.0    0.0  10.0  -30.5    0.0   0.0    0.0\n",
       "  0.2   0.2    0.0    0.0    0.0    0.0   0.0    0.0  -15.0   0.0    0.0\n",
       "  0.0   0.0    0.3    0.3    0.0    0.0   0.0    0.0    0.0  -5.0    0.0\n",
       "  0.0   0.0    0.0    0.0    0.4    0.4   0.0    0.0    0.0   0.0  -15.0\n",
       "  0.0   0.0    0.0    0.0    0.0    0.0   0.5    0.5    0.0   0.0    0.0"
      ]
     },
     "execution_count": 11,
     "metadata": {},
     "output_type": "execute_result"
    }
   ],
   "source": [
    "a[:, 1:11]\n"
   ]
  },
  {
   "cell_type": "code",
   "execution_count": null,
   "metadata": {},
   "outputs": [],
   "source": []
  }
 ],
 "metadata": {
  "kernelspec": {
   "display_name": "Julia 1.4.1",
   "language": "julia",
   "name": "julia-1.4"
  },
  "language_info": {
   "file_extension": ".jl",
   "mimetype": "application/julia",
   "name": "julia",
   "version": "1.4.1"
  }
 },
 "nbformat": 4,
 "nbformat_minor": 4
}
