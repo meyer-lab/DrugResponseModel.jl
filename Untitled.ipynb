{
 "cells": [
  {
   "cell_type": "code",
   "execution_count": 1,
   "metadata": {},
   "outputs": [
    {
     "data": {
      "text/plain": [
       "20.0"
      ]
     },
     "execution_count": 1,
     "metadata": {},
     "output_type": "execute_result"
    }
   ],
   "source": [
    "import Pkg; Pkg.instantiate()\n",
    "using DrugResponseModel\n",
    "using Plots\n",
    "\n",
    "concs, populations, g1s, g2s = load(189, 1);\n",
    "g0 = g1s[1,1,1]+g2s[1,1,1];\n",
    "fitness, pp1 = optimize_hillAll(concs, g1s, g2s; maxstep=6E4)"
   ]
  },
  {
   "cell_type": "code",
   "execution_count": 2,
   "metadata": {},
   "outputs": [
    {
     "data": {
      "text/plain": [
       "20.0"
      ]
     },
     "execution_count": 2,
     "metadata": {},
     "output_type": "execute_result"
    }
   ],
   "source": [
    "concs, populations, g1s, g2s = load(189, 2);\n",
    "g0 = g1s[1,1,1]+g2s[1,1,1];\n",
    "fitness, pp2 = optimize_hillAll(concs, g1s, g2s; maxstep=6E4)"
   ]
  },
  {
   "cell_type": "code",
   "execution_count": 3,
   "metadata": {},
   "outputs": [
    {
     "data": {
      "text/plain": [
       "20.0"
      ]
     },
     "execution_count": 3,
     "metadata": {},
     "output_type": "execute_result"
    }
   ],
   "source": [
    "concs, populations, g1s, g2s = load(189, 3);\n",
    "g0 = g1s[1,1,1]+g2s[1,1,1];\n",
    "fitness, pp3 = optimize_hillAll(concs, g1s, g2s; maxstep=6E4)"
   ]
  },
  {
   "cell_type": "code",
   "execution_count": null,
   "metadata": {},
   "outputs": [],
   "source": []
  }
 ],
 "metadata": {
  "kernelspec": {
   "display_name": "Julia 1.4.0",
   "language": "julia",
   "name": "julia-1.4"
  },
  "language_info": {
   "file_extension": ".jl",
   "mimetype": "application/julia",
   "name": "julia",
   "version": "1.4.0"
  }
 },
 "nbformat": 4,
 "nbformat_minor": 4
}
