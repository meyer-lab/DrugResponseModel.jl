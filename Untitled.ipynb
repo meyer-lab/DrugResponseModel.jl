{
 "cells": [
  {
   "cell_type": "code",
   "execution_count": null,
   "metadata": {},
   "outputs": [],
   "source": [
    "import Pkg; Pkg.instantiate()\n",
    "\n",
    "using DrugResponseModel\n",
    "using Plots\n",
    "\n",
    "concs, populations1, g1s1, g2s1 = load(189, 1);\n",
    "concs, populations2, g1s2, g2s2 = load(189, 2);\n",
    "concs, populations3, g1s3, g2s3 = load(189, 3);\n",
    "g0 = g1s1[1,1,1]+g2s1[1,1,1];\n"
   ]
  },
  {
   "cell_type": "code",
   "execution_count": null,
   "metadata": {},
   "outputs": [],
   "source": [
    "# cost, rep1 = optimize_hillAll(concs, g1s1, g2s1; maxstep = 10)"
   ]
  },
  {
   "cell_type": "code",
   "execution_count": null,
   "metadata": {},
   "outputs": [],
   "source": [
    "rep1= [52.1243, 1.2856, 0.0026682, 2.9096, 0.0250893, 0.0623134, \n",
    "        154.803, 1.10582, 0.304235, 0.295368, 0.411795, 0.613183,\n",
    "        82.5301, 1.05063, 0.391899, 0.919925, 0.0730874, 0.338454,\n",
    "        3.21729, 3.41872, 0.0841223, 1.52284, 0.281485, 0.207797, \n",
    "        60.2809, 0.913883, 0.00228251, 2.96638, 0.0583304, 0.0770743, \n",
    "        1.46021, 2.18259, 0.547192, 36.894, 70.8683, 17.2029, 10.6778];"
   ]
  },
  {
   "cell_type": "code",
   "execution_count": null,
   "metadata": {},
   "outputs": [],
   "source": [
    "rep2 = [148.285, 1.45332, 0.00741032, 2.98296, 0.245396, 0.154754, \n",
    "        264.239, 0.927782, 1.81686, 0.177914, 0.534253, 0.862213, \n",
    "        12.5118, 2.63457, 1.55861, 0.999485, 0.0404374, 0.190931,\n",
    "        4.15226, 3.71135, 0.0279772, 1.08633, 0.464352, 0.306164, \n",
    "        98.2369, 0.859216, 0.895385, 2.72174, 0.0701948, 0.0925877, \n",
    "        2.64452, 1.30953, 0.497077, 52.8276, 37.8029, 21.3349, 11.6652];\n",
    "\n",
    "rep3 = [61.7888, 0.984496, 0.00365409, 1.43353, 0.020916, 0.0499489, \n",
    "        22.8587, 3.56592, 2.316, 0.00665677, 0.402978, 0.384546, \n",
    "        17.2862, 2.39072, 1.34065, 0.999105, 0.0391467, 0.237266, \n",
    "        3.16643, 9.96997, 0.397842, 0.0697343, 0.508761, 0.340036, \n",
    "        112.903, 0.902078, 0.0722487, 1.91693, 0.0675425, 0.102127, \n",
    "        1.89566, 0.729827, 0.521269, 41.0931, 24.153, 36.7235, 13.4195];\n",
    "\n",
    "ef1 = getODEparamsAll(rep1, concs);\n",
    "ef2 = getODEparamsAll(rep2, concs);\n",
    "ef3 = getODEparamsAll(rep3, concs);"
   ]
  },
  {
   "cell_type": "code",
   "execution_count": null,
   "metadata": {},
   "outputs": [],
   "source": [
    "G1_1 = zeros(189, 8, 5)\n",
    "G1_2 = zeros(189, 8, 5)\n",
    "G1_3 = zeros(189, 8, 5)\n",
    "G2_1 = zeros(189, 8, 5)\n",
    "G2_2 = zeros(189, 8, 5)\n",
    "G2_3 = zeros(189, 8, 5)\n",
    "for i=1:5\n",
    "    G1_1[:, :, i], G2_1[:, :, i], G1_2[:, :, i], G2_2[:, :, i], G1_3[:, :, i], G2_3[:, :, i] = DrugResponseModel.predict_replicates(ef1[:, :, i], ef2[:, :, i], ef3[:, :, i], concs[:,i], g0)\n",
    "end"
   ]
  },
  {
   "cell_type": "code",
   "execution_count": null,
   "metadata": {},
   "outputs": [],
   "source": [
    "j=1\n",
    "pl = [DrugResponseModel.plot2(G1_1[:, i, j], G1_2[:, i, j], G1_3[:, i, j], G2_1[:, i, j], G2_2[:, i, j], G2_3[:, i, j], g1s1, g1s2, g1s3, g2s1, g2s2, g2s3, i, j) for i=1:8]\n",
    "plot(pl..., size=(1000,700))"
   ]
  }
 ],
 "metadata": {
  "kernelspec": {
   "display_name": "Julia 1.4.1",
   "language": "julia",
   "name": "julia-1.4"
  },
  "language_info": {
   "file_extension": ".jl",
   "mimetype": "application/julia",
   "name": "julia",
   "version": "1.4.1"
  }
 },
 "nbformat": 4,
 "nbformat_minor": 4
}
