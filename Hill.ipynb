{
 "cells": [
  {
   "cell_type": "code",
   "execution_count": null,
   "metadata": {},
   "outputs": [],
   "source": [
    "using Pkg\n",
    "Pkg.instantiate()\n",
    "using DrugResponseModel\n",
    "using BlackBoxOptim\n",
    "\n",
    "# import data from the path\n",
    "conc_l, pop, g2, g1, g2_0, g1_0 = setup_data(\"lapatinib\"); # in which:\n",
    "\n",
    "\"\"\" Cost function allowing the number of cell cycle species to change. \"\"\"\n",
    "function fullHillCost(hillParams)\n",
    "    nG1 = floor(hillParams[end-1])\n",
    "    nG2 = floor(hillParams[end])\n",
    "    \n",
    "    return DrugResponseModel.residHill(hillParams[1:end-2], conc_l, g1, g2, g1_0, g2_0, Int(nG1), Int(nG2))\n",
    "end\n",
    "\n",
    "# pop: population data\n",
    "# g1, g2: g1 and g2 data\n",
    "# initial: initial number of cells in g1 and in g2 at time 0\n",
    "\n",
    "lowEC50 = 10.0\n",
    "highEC50 = 500.0\n",
    "\n",
    "low =  [lowEC50,  0.01, 0.01, 0.1, 0.01, 0.01, lowEC50,  0.0, 0.1, 0.0,  1,  1];\n",
    "high = [highEC50, 3.0, 3.0, 3.0, 3.0, 3.0, highEC50, 3.0, 3.0, 3.0, 90, 90];"
   ]
  },
  {
   "cell_type": "code",
   "execution_count": null,
   "metadata": {},
   "outputs": [],
   "source": [
    "results_ode = bboptimize(fullHillCost; SearchRange=collect(zip(low, high)),\n",
    "                                       NumDimensions=length(low),\n",
    "                                       TraceMode=:verbose,\n",
    "                                       TraceInterval=20,\n",
    "                                       MaxSteps=1E5);"
   ]
  }
 ],
 "metadata": {
  "kernelspec": {
   "display_name": "Julia 1.3.0",
   "language": "julia",
   "name": "julia-1.3"
  },
  "language_info": {
   "file_extension": ".jl",
   "mimetype": "application/julia",
   "name": "julia",
   "version": "1.3.0"
  }
 },
 "nbformat": 4,
 "nbformat_minor": 2
}
