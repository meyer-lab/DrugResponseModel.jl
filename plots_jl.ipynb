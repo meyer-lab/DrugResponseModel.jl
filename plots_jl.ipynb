{
 "cells": [
  {
   "cell_type": "markdown",
   "metadata": {},
   "source": [
    "### Importing the data and the functions"
   ]
  },
  {
   "cell_type": "code",
   "execution_count": null,
   "metadata": {},
   "outputs": [],
   "source": [
    "using DrugResponseModel\n",
    "\n",
    "# population data, g2 data, g1 data, initial number of cells in g1, initial number of cells in g2\n",
    "# lapatinib\n",
    "conc_l, pop_l, g2_l, g1_l, g2_0_l, g1_0_l = setup_data(\"lapatinib\");"
   ]
  },
  {
   "cell_type": "markdown",
   "metadata": {},
   "source": [
    "### A) cartoon "
   ]
  },
  {
   "cell_type": "code",
   "execution_count": null,
   "metadata": {},
   "outputs": [],
   "source": [
    "# It is plotA.svg "
   ]
  },
  {
   "cell_type": "markdown",
   "metadata": {},
   "source": [
    "### B) ODE fitting of Lapatinib data"
   ]
  },
  {
   "cell_type": "code",
   "execution_count": null,
   "metadata": {},
   "outputs": [],
   "source": [
    "# initial values\n",
    "p = [8.870525324, 8.492087169, 0.43447323, 7.67847790]\n",
    "\n",
    "# setting lowest delay for tau1 to be half an hour and for tau2 to be 3 hours.\n",
    "low = 0.0001*ones(4)\n",
    "upp = 0.1*ones(4)\n",
    "params_ode = zeros(4, 8)\n",
    "\n",
    "# ODE optimization and estimation of the parameters\n",
    "for i in 1:8\n",
    "    params_ode[:, i] = ODEoptimizer(low, upp, p, i, g1_l, g2_l, g1_0_l, g2_0_l)\n",
    "end"
   ]
  },
  {
   "cell_type": "code",
   "execution_count": null,
   "metadata": {},
   "outputs": [],
   "source": [
    "ODEplot_all(params_ode, g1_l, g2_l, g1_0_l, g2_0_l, pop_l)"
   ]
  },
  {
   "cell_type": "markdown",
   "metadata": {},
   "source": [
    "### F) DDE fitting for lapatinib"
   ]
  },
  {
   "cell_type": "code",
   "execution_count": null,
   "metadata": {},
   "outputs": [],
   "source": [
    "# initial guess\n",
    "initial_guess  = [0.02798, 0.025502, 15.3481, 15.2881, 0.001, 0.001]\n",
    "\n",
    "# bounds \n",
    "lower_bnd = [-6.0, -6.0, 1.0, 1.0, -10.0, -10.0]\n",
    "upper_bnd = [0.0, 0.0, 6.0, 6.0, 0.0, 0.0]\n",
    "\n",
    "# max number of steps\n",
    "maxSteps = 10000\n",
    "parameters = zeros(6,8)\n",
    "for j in 1:8\n",
    "    println(\"#################### trial number $j #########################\")\n",
    "    best_fit, parameters[:,j] = optimization(g1_l, g2_l, g1_0_l, g2_0_l, initial_guess, j, lower_bnd, upper_bnd, maxSteps)\n",
    "    println(best_fit)\n",
    "end"
   ]
  },
  {
   "cell_type": "code",
   "execution_count": null,
   "metadata": {},
   "outputs": [],
   "source": [
    "plot_all(parameters, pop_l, g2_l, g1_l, g2_0_l, g1_0_l)"
   ]
  },
  {
   "cell_type": "markdown",
   "metadata": {},
   "source": [
    "### G) DDE parameters for lapatinib"
   ]
  },
  {
   "cell_type": "code",
   "execution_count": null,
   "metadata": {},
   "outputs": [],
   "source": [
    "plot_parameters(conc_l, parameters)"
   ]
  },
  {
   "cell_type": "markdown",
   "metadata": {},
   "source": [
    "### H) DDE Hill fitting "
   ]
  },
  {
   "cell_type": "code",
   "execution_count": null,
   "metadata": {},
   "outputs": [],
   "source": [
    "#  [EC50, b_steepness, alpha_min, alpha_max, beta_min, beta_max, tau1_mean, tau1_max, tau2_min, tau2_max, gamma1_max, gamma2_max]\n",
    "guess = [125.0, 0.4, 0.007, 0.005, 0.007, 0.005, 39.0, 30.0, 11.0, 20.0, 0.003, 0.02]\n",
    "# max num of steps\n",
    "num_steps=500\n",
    "\n",
    "# optimize and return the estimated hill parameters\n",
    "best_fit, params = optimize_hill(guess, conc_l, g1_l, g2_l, g1_0_l, g2_0_l, num_steps)\n",
    "\n",
    "# easy way to convert the hill parameters to DDE parameters\n",
    "p = getDDEparams(params, conc_l)"
   ]
  },
  {
   "cell_type": "code",
   "execution_count": null,
   "metadata": {},
   "outputs": [],
   "source": [
    "plot_all(p, pop_l, g2_l, g1_l, g2_0_l, g1_0_l)"
   ]
  },
  {
   "cell_type": "markdown",
   "metadata": {},
   "source": [
    "### I) DDE Hill Parameters"
   ]
  },
  {
   "cell_type": "code",
   "execution_count": null,
   "metadata": {},
   "outputs": [],
   "source": [
    "plot_parameters(conc_l, p)"
   ]
  },
  {
   "cell_type": "markdown",
   "metadata": {},
   "source": [
    "### The phase portrait of G1 and G2 data"
   ]
  },
  {
   "cell_type": "code",
   "execution_count": null,
   "metadata": {},
   "outputs": [],
   "source": [
    "# lapatinib\n",
    "labels = [\"control\", \"conc. 5nM\", \"conc. 10nM\", \"conc. 25nM\", \"conc. 50nM\", \"conc. 100nM\", \"conc. 250nM\", \"conc. 500nM\"]\n",
    "xlabel = \"G1 numbers\"\n",
    "ylabel = \"G2 numbers\"\n",
    "ymax = 40\n",
    "correlationPlot(g1_l, g2_l, labels, xlabel, ylabel, ymax)"
   ]
  }
 ],
 "metadata": {
  "kernelspec": {
   "display_name": "Julia 1.3.0",
   "language": "julia",
   "name": "julia-1.3"
  },
  "language_info": {
   "file_extension": ".jl",
   "mimetype": "application/julia",
   "name": "julia",
   "version": "1.3.0"
  }
 },
 "nbformat": 4,
 "nbformat_minor": 4
}
