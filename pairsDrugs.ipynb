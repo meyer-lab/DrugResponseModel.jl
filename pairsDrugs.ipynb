{
 "metadata": {
  "language_info": {
   "codemirror_mode": {
    "name": "ipython",
    "version": 3
   },
   "file_extension": ".py",
   "mimetype": "text/x-python",
   "name": "python",
   "nbconvert_exporter": "python",
   "pygments_lexer": "ipython3",
   "version": "3.8.6-final"
  },
  "orig_nbformat": 2,
  "kernelspec": {
   "name": "julia-1.5",
   "display_name": "Julia 1.5.3",
   "language": "julia"
  }
 },
 "nbformat": 4,
 "nbformat_minor": 2,
 "cells": [
  {
   "cell_type": "code",
   "execution_count": null,
   "metadata": {},
   "outputs": [],
   "source": [
    "import Pkg; Pkg.instantiate()\n",
    "Pkg.activate(\".\")\n",
    "using DrugResponseModel\n",
    "concs, _, g1s1, g2s1 = load(189, 1);\n",
    "_, _, g1s2, g2s2 = load(189, 2);\n",
    "_, _, g1s3, g2s3 = load(189, 3);\n",
    "g0 = g1s1[1,1,1]+g2s1[1,1,1];\n",
    "g1m = (g1s1 .+ g1s2 .+ g1s3) ./ 3;\n",
    "g2m = (g2s1 .+ g2s2 .+ g2s3) ./ 3;\n"
   ]
  },
  {
   "cell_type": "code",
   "execution_count": null,
   "metadata": {},
   "outputs": [],
   "source": [
    "# case 1\n",
    "\n",
    "function getODEparamspairs(p, conc)\n",
    "    effects = zeros(eltype(p), 9, length(conc[:, 1]), 2)\n",
    "    k = 1\n",
    "    # Scaled drug effect\n",
    "    for i = 1:2\n",
    "        xx = 1.0 ./ (1.0 .+ (p[k] ./ conc[:, i]) .^ p[k + 1])\n",
    "        effects[1, :, i] = p[15] .+ (p[k + 2] - p[36]) .* xx # G1 prog. rate\n",
    "        effects[2, :, i] = p[37] .+ (p[k + 3] - p[37]) .* xx # G2 prog. rate\n",
    "        effects[3, :, i] = p[k + 4] .* xx # G1 death rate\n",
    "        effects[4, :, i] = p[k + 5] .* xx # G2 death rate\n",
    "        effects[5, :, i] .= p[k + 6] # percentage in G1\n",
    "        effects[6, :, i] .= p[17]\n",
    "        effects[7, :, i] .= p[18]\n",
    "        effects[8, :, i] .= p[19]\n",
    "        effects[9, :, i] .= p[20]\n",
    "        \n",
    "        k += 13\n",
    "    end\n",
    "    return effects\n",
    "end\n",
    "\n",
    "a, p1 = DrugResponseModel.BBoptim_DrugPairs(concs, g1m, g2m, 1, 1, 2)\n",
    "pp1 = getODEparamspairs(p1, concs)\n",
    "\n"
   ]
  },
  {
   "cell_type": "code",
   "execution_count": null,
   "metadata": {},
   "outputs": [],
   "source": [
    "\n",
    "# case 2\n",
    "function getODEparamspairs(p, conc)\n",
    "    effects = zeros(eltype(p), 9, length(conc[:, 1]), 2)\n",
    "    k = 1\n",
    "    # Scaled drug effect\n",
    "    for i = 1:2\n",
    "        xx = 1.0 ./ (1.0 .+ (p[k] ./ conc[:, i]) .^ p[k + 1])\n",
    "        effects[1, :, i] = p[k + 2] .+ (p[k + 3] - p[k + 2]) .* xx # G1 prog. rate\n",
    "        effects[2, :, i] = p[k + 4] .+ (p[k + 5] - p[k + 4]) .* xx # G2 prog. rate\n",
    "        effects[3, :, i] = p[k + 6] .* xx # G1 death rate\n",
    "        effects[4, :, i] = p[k + 7] .* xx # G2 death rate\n",
    "        effects[5, :, i] .= p[k + 8] # percentage in G1\n",
    "        effects[6, :, i] .= p[19]\n",
    "        effects[7, :, i] .= p[20]\n",
    "        effects[8, :, i] .= p[21]\n",
    "        effects[9, :, i] .= p[22]\n",
    "        \n",
    "        k += 9\n",
    "    end\n",
    "    return effects\n",
    "end\n",
    "\n",
    "a, p2 = DrugResponseModel.BBoptim_DrugPairs(concs, g1m, g2m, 2, 1, 2)\n",
    "pp2 = getODEparamspairs(p2, conc)\n",
    "\n",
    "\n",
    "\n"
   ]
  },
  {
   "cell_type": "code",
   "execution_count": null,
   "metadata": {},
   "outputs": [],
   "source": [
    "# case 3\n",
    "function getODEparamspairs(p, conc)\n",
    "    effects = zeros(eltype(p), 9, length(conc[:, 1]), 2)\n",
    "    k = 1\n",
    "    # Scaled drug effect\n",
    "    for i = 1:2\n",
    "        xx = 1.0 ./ (1.0 .+ (p[k] ./ conc[:, i]) .^ p[k + 1])\n",
    "        effects[1, :, i] = p[23] .+ (p[k + 2] - p[23]) .* xx # G1 prog. rate\n",
    "        effects[2, :, i] = p[24] .+ (p[k + 3] - p[24]) .* xx # G2 prog. rate\n",
    "        effects[3, :, i] = p[k + 4] .* xx # G1 death rate\n",
    "        effects[4, :, i] = p[k + 5] .* xx # G2 death rate\n",
    "        effects[5, :, i] .= p[k + 6] # percentage in G1\n",
    "        effects[6, :, i] .= p[k + 7]\n",
    "        effects[7, :, i] .= p[k + 8]\n",
    "        effects[8, :, i] .= p[k + 9]\n",
    "        effects[9, :, i] .= p[k + 10]\n",
    "        \n",
    "        k += 11\n",
    "    end\n",
    "    return effects\n",
    "end\n",
    "\n",
    "a, p3 = DrugResponseModel.BBoptim_DrugPairs(concs, g1m, g2m, 3, 1, 2)\n",
    "pp3 = getODEparamspairs(p3, conc)\n",
    "\n",
    "\n"
   ]
  }
 ]
}