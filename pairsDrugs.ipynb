{
 "metadata": {
  "language_info": {
   "codemirror_mode": {
    "name": "ipython",
    "version": 3
   },
   "file_extension": ".py",
   "mimetype": "text/x-python",
   "name": "python",
   "nbconvert_exporter": "python",
   "pygments_lexer": "ipython3",
   "version": "3.8.6-final"
  },
  "orig_nbformat": 2,
  "kernelspec": {
   "name": "julia-1.6",
   "display_name": "Julia 1.6.0-beta1",
   "language": "julia"
  }
 },
 "nbformat": 4,
 "nbformat_minor": 2,
 "cells": [
  {
   "cell_type": "code",
   "execution_count": 1,
   "metadata": {},
   "outputs": [
    {
     "output_type": "stream",
     "name": "stderr",
     "text": [
      "\u001b[32m\u001b[1mPrecompiling\u001b[22m\u001b[39m project...\n",
      "\u001b[32m  ✓ \u001b[39mDrugResponseModel\n",
      "1 dependency successfully precompiled in 7 seconds (137 already precompiled)\n",
      "\u001b[32m\u001b[1m  Activating\u001b[22m\u001b[39m environment at `~/ODE/DrugResponseModel.jl/Project.toml`\n"
     ]
    }
   ],
   "source": [
    "import Pkg; Pkg.instantiate()\n",
    "Pkg.activate(\".\")\n",
    "using DrugResponseModel\n",
    "concs, _, g1s1, g2s1 = load(189, 1);\n",
    "_, _, g1s2, g2s2 = load(189, 2);\n",
    "_, _, g1s3, g2s3 = load(189, 3);\n",
    "g0 = g1s1[1,1,1]+g2s1[1,1,1];\n",
    "g1m = (g1s1 .+ g1s2 .+ g1s3) ./ 3;\n",
    "g2m = (g2s1 .+ g2s2 .+ g2s3) ./ 3;\n"
   ]
  },
  {
   "cell_type": "code",
   "execution_count": 2,
   "metadata": {},
   "outputs": [
    {
     "output_type": "stream",
     "name": "stdout",
     "text": [
      "Starting optimization with optimizer BlackBoxOptim.DiffEvoOpt{BlackBoxOptim.FitPopulation{Float64}, BlackBoxOptim.RadiusLimitedSelector, BlackBoxOptim.AdaptiveDiffEvoRandBin{3}, BlackBoxOptim.RandomBound{BlackBoxOptim.ContinuousRectSearchSpace}}\n",
      "0.00 secs, 0 evals, 0 steps\n",
      "DE modify state:\n",
      "\n",
      "Optimization stopped after 100001 steps and 0.27 seconds\n",
      "Termination reason: Max number of steps (100000) reached\n",
      "Steps per second = 374760.18\n",
      "Function evals per second = 374763.93\n",
      "Improvements/step = 0.99942\n",
      "Total function evaluations = 100002\n",
      "\n",
      "\n",
      "Best candidate found: [0.5, 1.0, 1.0e-9, 1.0e-9, 1.0e-9, 1.0e-9, 1.0e-9, 0.5, 1.0, 1.0e-9, 1.0e-9, 1.0e-9, 1.0e-9, 1.0e-9, 2.04577, 1.86946, 31.4292, 5.26844, 49.0575, 10.3015]\n",
      "\n",
      "Fitness: 0.000000000\n",
      "\n"
     ]
    },
    {
     "output_type": "execute_result",
     "data": {
      "text/plain": [
       "9×8×2 Array{Float64, 3}:\n",
       "[:, :, 1] =\n",
       "  1.85979       0.185979      0.0974174    …   0.00408337    0.00204372\n",
       "  1.69951       0.169951      0.089022         0.00373146    0.0018676\n",
       "  9.09091e-11   9.09091e-10   9.52381e-10      9.98004e-10   9.99001e-10\n",
       "  9.09091e-11   9.09091e-10   9.52381e-10      9.98004e-10   9.99001e-10\n",
       "  1.0e-9        1.0e-9        1.0e-9           1.0e-9        1.0e-9\n",
       " 31.4292       31.4292       31.4292       …  31.4292       31.4292\n",
       "  5.26844       5.26844       5.26844          5.26844       5.26844\n",
       " 49.0575       49.0575       49.0575          49.0575       49.0575\n",
       " 10.3015       10.3015       10.3015          10.3015       10.3015\n",
       "\n",
       "[:, :, 2] =\n",
       "  1.85979       0.681922      0.0974174    …   0.00408337    0.00204372\n",
       "  1.69951       0.623154      0.089022         0.00373146    0.0018676\n",
       "  9.09091e-11   6.66667e-10   9.52381e-10      9.98004e-10   9.99001e-10\n",
       "  9.09091e-11   6.66667e-10   9.52381e-10      9.98004e-10   9.99001e-10\n",
       "  1.0e-9        1.0e-9        1.0e-9           1.0e-9        1.0e-9\n",
       " 31.4292       31.4292       31.4292       …  31.4292       31.4292\n",
       "  5.26844       5.26844       5.26844          5.26844       5.26844\n",
       " 49.0575       49.0575       49.0575          49.0575       49.0575\n",
       " 10.3015       10.3015       10.3015          10.3015       10.3015"
      ]
     },
     "metadata": {},
     "execution_count": 2
    }
   ],
   "source": [
    "# case 1\n",
    "\n",
    "function getODEparamspairs(p, conc)\n",
    "    effects = zeros(eltype(p), 9, length(conc[:, 1]), 2)\n",
    "    k = 1\n",
    "    # Scaled drug effect\n",
    "    for i = 1:2\n",
    "        xx = 1.0 ./ (1.0 .+ (p[k] ./ conc[:, i]) .^ p[k + 1])\n",
    "        effects[1, :, i] = p[15] .+ (p[k + 2] - p[15]) .* xx # G1 prog. rate\n",
    "        effects[2, :, i] = p[16] .+ (p[k + 3] - p[16]) .* xx # G2 prog. rate\n",
    "        effects[3, :, i] = p[k + 4] .* xx # G1 death rate\n",
    "        effects[4, :, i] = p[k + 5] .* xx # G2 death rate\n",
    "        effects[5, :, i] .= p[k + 6] # percentage in G1\n",
    "        effects[6, :, i] .= p[17]\n",
    "        effects[7, :, i] .= p[18]\n",
    "        effects[8, :, i] .= p[19]\n",
    "        effects[9, :, i] .= p[20]\n",
    "        \n",
    "        k += 7\n",
    "    end\n",
    "    return effects\n",
    "end\n",
    "\n",
    "a, p1 = DrugResponseModel.BBoptim_DrugPairs(concs, g1m, g2m, 4, 1, 2)\n",
    "pp1 = getODEparamspairs(p1, concs)\n",
    "\n"
   ]
  },
  {
   "cell_type": "code",
   "execution_count": 3,
   "metadata": {},
   "outputs": [
    {
     "output_type": "error",
     "ename": "LoadError",
     "evalue": "BoundsError: attempt to access 9×8×2 Array{Float64, 3} at index [1:9, 1, 3]",
     "traceback": [
      "BoundsError: attempt to access 9×8×2 Array{Float64, 3} at index [1:9, 1, 3]",
      "",
      "Stacktrace:",
      " [1] throw_boundserror(A::Array{Float64, 3}, I::Tuple{Base.Slice{Base.OneTo{Int64}}, Int64, Int64})",
      "   @ Base ./abstractarray.jl:645",
      " [2] checkbounds",
      "   @ ./abstractarray.jl:610 [inlined]",
      " [3] _getindex",
      "   @ ./multidimensional.jl:831 [inlined]",
      " [4] getindex(::Array{Float64, 3}, ::Function, ::Int64, ::Int64)",
      "   @ Base ./abstractarray.jl:1164",
      " [5] top-level scope",
      "   @ ./In[3]:6",
      " [6] eval",
      "   @ ./boot.jl:360 [inlined]",
      " [7] include_string(mapexpr::typeof(REPL.softscope), mod::Module, code::String, filename::String)",
      "   @ Base ./loading.jl:1090"
     ]
    }
   ],
   "source": [
    "G1 = zeros(189, 7, 5)\n",
    "G2 = zeros(189, 7, 5)\n",
    "t = LinRange(0.0, 95.0, 189)\n",
    "for k=1:2 # drug number\n",
    "    for i = 1:7 # concentration number\n",
    "        G1[:, i, k], G2[:, i, k], _ = predict(pp1[:, i, k], g0, t)\n",
    "    end\n",
    "end\n",
    "\n",
    "p1 = DrugResponseModel.plotavg(G1[:, :, 1], G2[:, :, 1], g1m[:, :, 1], g2m[:, :, 1], 1, :false, concs[1, 1])\n",
    "p =[DrugResponseModel.plotavg(G1[:, :, 1], G2[:, :, 1], g1m[:, :, 1], g2m[:, :, 1], i, :false, concs[i, 1]) for i=2:7]\n",
    "plot(p1, p..., figsize=(1000, 700), dpi=150)"
   ]
  },
  {
   "cell_type": "code",
   "execution_count": 3,
   "metadata": {},
   "outputs": [
    {
     "output_type": "stream",
     "name": "stdout",
     "text": [
      "Starting optimization with optimizer BlackBoxOptim.DiffEvoOpt{BlackBoxOptim.FitPopulation{Float64}, BlackBoxOptim.RadiusLimitedSelector, BlackBoxOptim.AdaptiveDiffEvoRandBin{3}, BlackBoxOptim.RandomBound{BlackBoxOptim.ContinuousRectSearchSpace}}\n",
      "0.00 secs, 0 evals, 0 steps\n",
      "DE modify state:\n",
      "100.06 secs, 1805 evals, 1710 steps, improv/step: 0.267 (last = 0.2673), fitness=17745.611153867\n",
      "DE modify state:\n",
      "200.08 secs, 3467 evals, 3372 steps, improv/step: 0.210 (last = 0.1510), fitness=14921.787698000\n",
      "DE modify state:\n",
      "300.09 secs, 5061 evals, 4966 steps, improv/step: 0.189 (last = 0.1455), fitness=12088.602734682\n",
      "DE modify state:\n",
      "400.12 secs, 6618 evals, 6523 steps, improv/step: 0.176 (last = 0.1329), fitness=10937.846556139\n",
      "DE modify state:\n",
      "500.15 secs, 8210 evals, 8115 steps, improv/step: 0.168 (last = 0.1382), fitness=10642.294962783\n",
      "DE modify state:\n",
      "600.17 secs, 9800 evals, 9705 steps, improv/step: 0.164 (last = 0.1440), fitness=10438.043292854\n",
      "DE modify state:\n",
      "700.17 secs, 11444 evals, 11349 steps, improv/step: 0.159 (last = 0.1241), fitness=10362.536532269\n",
      "DE modify state:\n",
      "800.17 secs, 13129 evals, 13034 steps, improv/step: 0.156 (last = 0.1418), fitness=10230.209154086\n",
      "DE modify state:\n",
      "900.20 secs, 14914 evals, 14819 steps"
     ]
    }
   ],
   "source": [
    "\n",
    "# case 2\n",
    "function getODEparamspairs(p, conc)\n",
    "    effects = zeros(eltype(p), 9, length(conc[:, 1]), 2)\n",
    "    k = 1\n",
    "    # Scaled drug effect\n",
    "    for i = 1:2\n",
    "        xx = 1.0 ./ (1.0 .+ (p[k] ./ conc[:, i]) .^ p[k + 1])\n",
    "        effects[1, :, i] = p[k + 2] .+ (p[k + 3] - p[k + 2]) .* xx # G1 prog. rate\n",
    "        effects[2, :, i] = p[k + 4] .+ (p[k + 5] - p[k + 4]) .* xx # G2 prog. rate\n",
    "        effects[3, :, i] = p[k + 6] .* xx # G1 death rate\n",
    "        effects[4, :, i] = p[k + 7] .* xx # G2 death rate\n",
    "        effects[5, :, i] .= p[k + 8] # percentage in G1\n",
    "        effects[6, :, i] .= p[19]\n",
    "        effects[7, :, i] .= p[20]\n",
    "        effects[8, :, i] .= p[21]\n",
    "        effects[9, :, i] .= p[22]\n",
    "        \n",
    "        k += 9\n",
    "    end\n",
    "    return effects\n",
    "end\n",
    "\n",
    "a, p2 = DrugResponseModel.BBoptim_DrugPairs(concs, g1m, g2m, 2, 1, 2)\n",
    "pp2 = getODEparamspairs(p2, conc)\n",
    "\n",
    "\n",
    "G1 = zeros(189, 7, 5)\n",
    "G2 = zeros(189, 7, 5)\n",
    "t = LinRange(0.0, 95.0, 189)\n",
    "for k=1:5 # drug number\n",
    "    for i = 1:7 # concentration number\n",
    "        G1[:, i, k], G2[:, i, k], _ = predict(pp2[:, i, k], g0, t)\n",
    "    end\n",
    "end\n",
    "\n",
    "p1 = DrugResponseModel.plotavg(G1[:, :, 1], G2[:, :, 1], g1m[:, :, 1], g2m[:, :, 1], 1, :false, concs[1, 1])\n",
    "p =[DrugResponseModel.plotavg(G1[:, :, 1], G2[:, :, 1], g1m[:, :, 1], g2m[:, :, 1], i, :false, concs[i, 1]) for i=2:7]\n",
    "plot(p1, p..., figsize=(1000, 700), dpi=150)\n"
   ]
  },
  {
   "cell_type": "code",
   "execution_count": null,
   "metadata": {},
   "outputs": [],
   "source": [
    "# case 3\n",
    "function getODEparamspairs(p, conc)\n",
    "    effects = zeros(eltype(p), 9, length(conc[:, 1]), 2)\n",
    "    k = 1\n",
    "    # Scaled drug effect\n",
    "    for i = 1:2\n",
    "        xx = 1.0 ./ (1.0 .+ (p[k] ./ conc[:, i]) .^ p[k + 1])\n",
    "        effects[1, :, i] = p[23] .+ (p[k + 2] - p[23]) .* xx # G1 prog. rate\n",
    "        effects[2, :, i] = p[24] .+ (p[k + 3] - p[24]) .* xx # G2 prog. rate\n",
    "        effects[3, :, i] = p[k + 4] .* xx # G1 death rate\n",
    "        effects[4, :, i] = p[k + 5] .* xx # G2 death rate\n",
    "        effects[5, :, i] .= p[k + 6] # percentage in G1\n",
    "        effects[6, :, i] .= p[k + 7]\n",
    "        effects[7, :, i] .= p[k + 8]\n",
    "        effects[8, :, i] .= p[k + 9]\n",
    "        effects[9, :, i] .= p[k + 10]\n",
    "        \n",
    "        k += 11\n",
    "    end\n",
    "    return effects\n",
    "end\n",
    "\n",
    "a, p3 = DrugResponseModel.BBoptim_DrugPairs(concs, g1m, g2m, 3, 1, 2)\n",
    "pp3 = getODEparamspairs(p3, conc)\n",
    "\n",
    "G1 = zeros(189, 7, 5)\n",
    "G2 = zeros(189, 7, 5)\n",
    "t = LinRange(0.0, 95.0, 189)\n",
    "for k=1:5 # drug number\n",
    "    for i = 1:7 # concentration number\n",
    "        G1[:, i, k], G2[:, i, k], _ = predict(pp3[:, i, k], g0, t)\n",
    "    end\n",
    "end\n",
    "\n",
    "p1 = DrugResponseModel.plotavg(G1[:, :, 1], G2[:, :, 1], g1m[:, :, 1], g2m[:, :, 1], 1, :false, concs[1, 1])\n",
    "p =[DrugResponseModel.plotavg(G1[:, :, 1], G2[:, :, 1], g1m[:, :, 1], g2m[:, :, 1], i, :false, concs[i, 1]) for i=2:7]\n",
    "plot(p1, p..., figsize=(1000, 700), dpi=150)\n"
   ]
  }
 ]
}