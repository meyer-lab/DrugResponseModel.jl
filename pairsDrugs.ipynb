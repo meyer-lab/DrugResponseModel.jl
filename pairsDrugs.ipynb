{
 "metadata": {
  "language_info": {
   "codemirror_mode": {
    "name": "ipython",
    "version": 3
   },
   "file_extension": ".py",
   "mimetype": "text/x-python",
   "name": "python",
   "nbconvert_exporter": "python",
   "pygments_lexer": "ipython3",
   "version": "3.8.6-final"
  },
  "orig_nbformat": 2,
  "kernelspec": {
   "name": "julia-1.6",
   "display_name": "Julia 1.6.0-beta1",
   "language": "julia"
  }
 },
 "nbformat": 4,
 "nbformat_minor": 2,
 "cells": [
  {
   "cell_type": "code",
   "execution_count": null,
   "metadata": {},
   "outputs": [],
   "source": [
    "import Pkg; Pkg.instantiate()\n",
    "Pkg.activate(\".\")\n",
    "using DrugResponseModel\n",
    "using Plots\n",
    "Plots.scalefontsizes(0.7)\n",
    "concs, _, g1s1, g2s1 = load(189, 1);\n",
    "_, _, g1s2, g2s2 = load(189, 2);\n",
    "_, _, g1s3, g2s3 = load(189, 3);\n",
    "g0 = g1s1[1,1,1]+g2s1[1,1,1];\n",
    "g1m = (g1s1 .+ g1s2 .+ g1s3) ./ 3;\n",
    "g2m = (g2s1 .+ g2s2 .+ g2s3) ./ 3;"
   ]
  },
  {
   "cell_type": "code",
   "execution_count": null,
   "metadata": {
    "tags": []
   },
   "outputs": [],
   "source": [
    "#_, pControl = DrugResponseModel.optimise_control(g1m[:, 1, 1], g2m[:, 1, 1])\n",
    "\n",
    "#a, p1 = DrugResponseModel.BBoptim_DrugPairs(concs, g1m, g2m, 1, 2)\n",
    "p1 = [32.7512, 1.16153, 0.0253825, 0.0440005, 0.494171, 0.680342, 0.0148913, 0.00367079, 0.00946718, 1.06803e-9, 0.535718, 274.888, 0.937185, 2.0, 0.13032, 1.75981, 2.0, 1.78088e-9, 1.19101e-9, 6.15794e-9, 0.445464, 0.549706, 2.0, 0.212641, 0.917995, 0.480555];"
   ]
  },
  {
   "cell_type": "code",
   "execution_count": null,
   "metadata": {},
   "outputs": [],
   "source": [
    "using Plots\n",
    "\n",
    "pp1 = DrugResponseModel.getODEparamspairs(p1, concs);\n",
    "G1 = zeros(189, 7, 2)\n",
    "G2 = zeros(189, 7, 2)\n",
    "t = LinRange(0.0, 95.0, 189)\n",
    "for k=1:2 # drug number\n",
    "    for i = 1:7 # concentration number\n",
    "        G1[:, i, k], G2[:, i, k], _ = predict(pp1[:, i, k], g0, t)\n",
    "    end\n",
    "end\n",
    "\n",
    "p1 = DrugResponseModel.plotavg(G1[:, :, 1], G2[:, :, 1], g1m[:, :, 1], g2m[:, :, 1], 1, :false, concs[1, 1])\n",
    "p =[DrugResponseModel.plotavg(G1[:, :, 1], G2[:, :, 1], g1m[:, :, 1], g2m[:, :, 1], i, :false, concs[i, 1]) for i=2:7]\n",
    "plot(p1, p..., figsize=(1000, 700), dpi=150)"
   ]
  },
  {
   "cell_type": "code",
   "execution_count": null,
   "metadata": {},
   "outputs": [],
   "source": [
    "gdata2 = g2m ./ (g2m .+ g1m);\n",
    "g2 = G2 ./(G1 .+ G2);\n",
    "p1=DrugResponseModel.plotperc(g2[:, :, 1], \"lap.\", concs[:, 1], \"model\")\n",
    "p2=DrugResponseModel.plotperc(gdata2[:, :, 1], \"lap.\", concs[:, 1], \"data\")\n",
    "plot(p1, p2)"
   ]
  },
  {
   "cell_type": "code",
   "execution_count": null,
   "metadata": {},
   "outputs": [],
   "source": [
    "DrugResponseModel.plot_parameters(concs[:, 1], pp1[:, :, 1], zeros(8, 7))"
   ]
  },
  {
   "cell_type": "code",
   "execution_count": null,
   "metadata": {},
   "outputs": [],
   "source": [
    "p1 = DrugResponseModel.plotavg(G1[:, :, 2], G2[:, :, 2], g1m[:, :, 2], g2m[:, :, 2], 1, :false, concs[1, 2])\n",
    "p =[DrugResponseModel.plotavg(G1[:, :, 2], G2[:, :, 2], g1m[:, :, 2], g2m[:, :, 2], i, :false, concs[i, 2]) for i=2:7]\n",
    "plot(p1, p..., figsize=(1000, 700), dpi=150)"
   ]
  },
  {
   "cell_type": "code",
   "execution_count": null,
   "metadata": {},
   "outputs": [],
   "source": [
    "p1=DrugResponseModel.plotperc(g2[:, :, 2], \"dox.\", concs[:, 2], \"model\")\n",
    "p2=DrugResponseModel.plotperc(gdata2[:, :, 2], \"dox.\", concs[:, 2], \"data\")\n",
    "plot(p1, p2)"
   ]
  },
  {
   "cell_type": "code",
   "execution_count": null,
   "metadata": {},
   "outputs": [],
   "source": [
    "DrugResponseModel.plot_parameters(concs[:, 2], pp1[:, :, 2], zeros(8, 7))"
   ]
  },
  {
   "cell_type": "code",
   "execution_count": null,
   "metadata": {},
   "outputs": [],
   "source": [
    "#a, p1 = DrugResponseModel.BBoptim_DrugPairs(concs, g1m, g2m, 1, 3)\n",
    "p2 = [36.1786, 1.1477, 0.14733, 0.0370134, 0.587787, 0.813863, 0.0201046, 0.00570633, 2.4371e-8, 8.42837e-8, 0.500592, 7.56176, 1.98424, 2.0, 0.253205, 0.197333, 0.889442, 4.7358e-9, 3.37734e-9, 0.0265278, 3.09149e-8, 0.432345, 0.412341, 0.341737, 0.669241, 0.554345];\n",
    "pp1 = DrugResponseModel.getODEparamspairs(p2, concs);\n",
    "G1 = zeros(189, 7, 2)\n",
    "G2 = zeros(189, 7, 2)\n",
    "t = LinRange(0.0, 95.0, 189)\n",
    "for k=1:2 # drug number\n",
    "    for i = 1:7 # concentration number\n",
    "        G1[:, i, k], G2[:, i, k], _ = predict(pp1[:, i, k], g0, t)\n",
    "    end\n",
    "end\n",
    "\n",
    "p1 = DrugResponseModel.plotavg(G1[:, :, 1], G2[:, :, 1], g1m[:, :, 1], g2m[:, :, 1], 1, :false, concs[1, 1])\n",
    "p =[DrugResponseModel.plotavg(G1[:, :, 1], G2[:, :, 1], g1m[:, :, 1], g2m[:, :, 1], i, :false, concs[i, 1]) for i=2:7]\n",
    "plot(p1, p..., figsize=(1000, 700), dpi=150)\n"
   ]
  },
  {
   "cell_type": "code",
   "execution_count": null,
   "metadata": {},
   "outputs": [],
   "source": [
    "DrugResponseModel.plot_parameters(concs[:, 1], pp1[:, :, 1], zeros(8, 7))"
   ]
  },
  {
   "cell_type": "code",
   "execution_count": null,
   "metadata": {},
   "outputs": [],
   "source": [
    "p1 = DrugResponseModel.plotavg(G1[:, :, 2], G2[:, :, 2], g1m[:, :, 3], g2m[:, :, 3], 1, :false, concs[1, 3])\n",
    "p =[DrugResponseModel.plotavg(G1[:, :, 2], G2[:, :, 2], g1m[:, :, 3], g2m[:, :, 3], i, :false, concs[i, 3]) for i=2:7]\n",
    "plot(p1, p..., figsize=(1000, 700), dpi=150)"
   ]
  },
  {
   "cell_type": "code",
   "execution_count": null,
   "metadata": {},
   "outputs": [],
   "source": [
    "p1=DrugResponseModel.plotperc(g2[:, :, 2], \"gem.\", concs[:, 3], \"model\")\n",
    "p2=DrugResponseModel.plotperc(gdata2[:, :, 3], \"gem.\", concs[:, 3], \"data\")\n",
    "plot(p1, p2)"
   ]
  },
  {
   "cell_type": "code",
   "execution_count": null,
   "metadata": {},
   "outputs": [],
   "source": [
    "DrugResponseModel.plot_parameters(concs[:, 3], pp1[:, :, 2], zeros(8, 7))"
   ]
  },
  {
   "cell_type": "code",
   "execution_count": null,
   "metadata": {},
   "outputs": [],
   "source": [
    "#a, p1 = DrugResponseModel.BBoptim_DrugPairs(concs, g1m, g2m, 2, 3)\n",
    "p3 = [19.5133, 2.01514, 0.0221494, 0.456167, 0.390407, 2.0, 0.0205179, 0.0069432, 1.01511e-9, 0.14444, 0.531249, 5.79555, 1.60752, 0.300264, 0.492173, 0.190679, 0.990212, 1.0469e-9, 1.06128e-9, 0.0279224, 1.18084e-9, 0.441948, 2.0, 0.206729, 0.939593, 0.468727];\n",
    "using Plots\n",
    "pp1 = DrugResponseModel.getODEparamspairs(p3, concs);\n",
    "G1 = zeros(189, 7, 2)\n",
    "G2 = zeros(189, 7, 2)\n",
    "t = LinRange(0.0, 95.0, 189)\n",
    "for k=1:2 # drug number\n",
    "    for i = 1:7 # concentration number\n",
    "        G1[:, i, k], G2[:, i, k], _ = predict(pp1[:, i, k], g0, t)\n",
    "    end\n",
    "end\n",
    "\n",
    "p1 = DrugResponseModel.plotavg(G1[:, :, 1], G2[:, :, 1], g1m[:, :, 2], g2m[:, :, 2], 1, :false, concs[1, 2])\n",
    "p =[DrugResponseModel.plotavg(G1[:, :, 1], G2[:, :, 1], g1m[:, :, 2], g2m[:, :, 2], i, :false, concs[i, 2]) for i=2:7]\n",
    "plot(p1, p..., figsize=(1000, 700), dpi=150)"
   ]
  },
  {
   "cell_type": "code",
   "execution_count": null,
   "metadata": {},
   "outputs": [],
   "source": [
    "DrugResponseModel.plot_parameters(concs[:, 2], pp1[:, :, 1], zeros(8, 7))"
   ]
  },
  {
   "cell_type": "code",
   "execution_count": null,
   "metadata": {},
   "outputs": [],
   "source": [
    "p1 = DrugResponseModel.plotavg(G1[:, :, 2], G2[:, :, 2], g1m[:, :, 3], g2m[:, :, 3], 1, :false, concs[1, 3])\n",
    "p =[DrugResponseModel.plotavg(G1[:, :, 2], G2[:, :, 2], g1m[:, :, 3], g2m[:, :, 3], i, :false, concs[i, 3]) for i=2:7]\n",
    "plot(p1, p..., figsize=(1000, 700), dpi=150)"
   ]
  },
  {
   "cell_type": "code",
   "execution_count": null,
   "metadata": {},
   "outputs": [],
   "source": [
    "DrugResponseModel.plot_parameters(concs[:, 3], pp1[:, :, 2], zeros(8, 7))"
   ]
  },
  {
   "cell_type": "code",
   "execution_count": null,
   "metadata": {},
   "outputs": [],
   "source": [
    "#a, p1 = DrugResponseModel.BBoptim_DrugPairs(concs, g1m, g2m, 1, 4)\n",
    "p4 = [33.3703, 1.19243, 0.0331291, 0.0442161, 0.513058, 0.678679, 0.0157238, 0.00394221, 0.00692375, 1.16954e-9, 0.531837, 2.97956, 2.88671, 1.71067, 0.0638964, 2.0, 0.336735, 9.77487e-9, 0.0430892, 1.09105e-8, 0.00231518, 0.498326, 2.0, 0.203987, 0.725018, 0.568974];\n",
    "pp1 = DrugResponseModel.getODEparamspairs(p4, concs);\n",
    "G1 = zeros(189, 7, 2)\n",
    "G2 = zeros(189, 7, 2)\n",
    "t = LinRange(0.0, 95.0, 189)\n",
    "for k=1:2 # drug number\n",
    "    for i = 1:7 # concentration number\n",
    "        G1[:, i, k], G2[:, i, k], _ = predict(pp1[:, i, k], g0, t)\n",
    "    end\n",
    "end\n",
    "\n",
    "p1 = DrugResponseModel.plotavg(G1[:, :, 1], G2[:, :, 1], g1m[:, :, 1], g2m[:, :, 1], 1, :false, concs[1, 1])\n",
    "p =[DrugResponseModel.plotavg(G1[:, :, 1], G2[:, :, 1], g1m[:, :, 1], g2m[:, :, 1], i, :false, concs[i, 1]) for i=2:7]\n",
    "plot(p1, p..., figsize=(1000, 700), dpi=150)"
   ]
  },
  {
   "cell_type": "code",
   "execution_count": null,
   "metadata": {},
   "outputs": [],
   "source": [
    "DrugResponseModel.plot_parameters(concs[:, 1], pp1[:, :, 1], zeros(8, 7))"
   ]
  },
  {
   "cell_type": "code",
   "execution_count": null,
   "metadata": {},
   "outputs": [],
   "source": [
    "p1 = DrugResponseModel.plotavg(G1[:, :, 2], G2[:, :, 2], g1m[:, :, 4], g2m[:, :, 4], 1, :false, concs[1, 4])\n",
    "p =[DrugResponseModel.plotavg(G1[:, :, 2], G2[:, :, 2], g1m[:, :, 4], g2m[:, :, 4], i, :false, concs[i, 4]) for i=2:7]\n",
    "plot(p1, p..., figsize=(1000, 700), dpi=150)"
   ]
  },
  {
   "cell_type": "code",
   "execution_count": null,
   "metadata": {},
   "outputs": [],
   "source": [
    "DrugResponseModel.plot_parameters(concs[:, 4], pp1[:, :, 2], zeros(8, 7))"
   ]
  },
  {
   "cell_type": "code",
   "execution_count": null,
   "metadata": {},
   "outputs": [],
   "source": [
    "#a, p1 = DrugResponseModel.BBoptim_DrugPairs(concs, g1m, g2m, 2, 4)\n",
    "p5 = [19.8052, 1.61367, 0.0272342, 0.501662, 0.474784, 2.0, 0.0242529, 0.0488431, 1.02986e-9, 0.0805864, 0.579608, 3.80863, 2.51815, 0.0918445, 1.64435e-9, 2.0, 0.0720509, 1.51462e-9, 0.0288849, 0.0319411, 0.0186419, 0.494724, 2.0, 0.201878, 0.718836, 0.585565];\n",
    "pp1 = DrugResponseModel.getODEparamspairs(p5, concs);\n",
    "G1 = zeros(189, 7, 2)\n",
    "G2 = zeros(189, 7, 2)\n",
    "t = LinRange(0.0, 95.0, 189)\n",
    "for k=1:2 # drug number\n",
    "    for i = 1:7 # concentration number\n",
    "        G1[:, i, k], G2[:, i, k], _ = predict(pp1[:, i, k], g0, t)\n",
    "    end\n",
    "end\n",
    "\n",
    "p1 = DrugResponseModel.plotavg(G1[:, :, 1], G2[:, :, 1], g1m[:, :, 2], g2m[:, :, 2], 1, :false, concs[1, 2])\n",
    "p =[DrugResponseModel.plotavg(G1[:, :, 1], G2[:, :, 1], g1m[:, :, 2], g2m[:, :, 2], i, :false, concs[i, 2]) for i=2:7]\n",
    "plot(p1, p..., figsize=(1000, 700), dpi=150)"
   ]
  },
  {
   "cell_type": "code",
   "execution_count": null,
   "metadata": {},
   "outputs": [],
   "source": [
    "DrugResponseModel.plot_parameters(concs[:, 2], pp1[:, :, 1], zeros(8, 7))"
   ]
  },
  {
   "cell_type": "code",
   "execution_count": null,
   "metadata": {},
   "outputs": [],
   "source": [
    "p1 = DrugResponseModel.plotavg(G1[:, :, 2], G2[:, :, 2], g1m[:, :, 4], g2m[:, :, 4], 1, :false, concs[1, 4])\n",
    "p =[DrugResponseModel.plotavg(G1[:, :, 2], G2[:, :, 2], g1m[:, :, 4], g2m[:, :, 4], i, :false, concs[i, 4]) for i=2:7]\n",
    "plot(p1, p..., figsize=(1000, 700), dpi=150)"
   ]
  },
  {
   "cell_type": "code",
   "execution_count": null,
   "metadata": {},
   "outputs": [],
   "source": [
    "DrugResponseModel.plot_parameters(concs[:, 4], pp1[:, :, 2], zeros(8, 7))"
   ]
  },
  {
   "cell_type": "code",
   "execution_count": null,
   "metadata": {},
   "outputs": [],
   "source": [
    "#a, p1 = DrugResponseModel.BBoptim_DrugPairs(concs, g1m, g2m, 3, 4)\n",
    "p6 = [9.7291, 1.9724, 0.515963, 1.46484, 1.16859, 2.0, 0.0371012, 4.15166e-7, 1.69266e-7, 0.128604, 0.459572, 2.97266, 2.94866, 1.8291, 0.0649484, 2.0, 0.361753, 7.58154e-8, 0.0446008, 1.75339e-7, 1.55382e-7, 0.504308, 2.0, 0.205093, 0.838779, 0.522651];\n",
    "pp1 = DrugResponseModel.getODEparamspairs(p6, concs);\n",
    "G1 = zeros(189, 7, 2)\n",
    "G2 = zeros(189, 7, 2)\n",
    "t = LinRange(0.0, 95.0, 189)\n",
    "for k=1:2 # drug number\n",
    "    for i = 1:7 # concentration number\n",
    "        G1[:, i, k], G2[:, i, k], _ = predict(pp1[:, i, k], g0, t)\n",
    "    end\n",
    "end\n",
    "\n",
    "p1 = DrugResponseModel.plotavg(G1[:, :, 1], G2[:, :, 1], g1m[:, :, 3], g2m[:, :, 3], 1, :false, concs[1, 3])\n",
    "p =[DrugResponseModel.plotavg(G1[:, :, 1], G2[:, :, 1], g1m[:, :, 3], g2m[:, :, 3], i, :false, concs[i, 3]) for i=2:7]\n",
    "plot(p1, p..., figsize=(1000, 700), dpi=150)"
   ]
  },
  {
   "cell_type": "code",
   "execution_count": null,
   "metadata": {},
   "outputs": [],
   "source": [
    "DrugResponseModel.plot_parameters(concs[:, 3], pp1[:, :, 1], zeros(8, 7))"
   ]
  },
  {
   "cell_type": "code",
   "execution_count": null,
   "metadata": {},
   "outputs": [],
   "source": [
    "p1 = DrugResponseModel.plotavg(G1[:, :, 2], G2[:, :, 2], g1m[:, :, 4], g2m[:, :, 4], 1, :false, concs[1, 4])\n",
    "p =[DrugResponseModel.plotavg(G1[:, :, 2], G2[:, :, 2], g1m[:, :, 4], g2m[:, :, 4], i, :false, concs[i, 4]) for i=2:7]\n",
    "plot(p1, p..., figsize=(1000, 700), dpi=150) "
   ]
  },
  {
   "cell_type": "code",
   "execution_count": null,
   "metadata": {},
   "outputs": [],
   "source": [
    "DrugResponseModel.plot_parameters(concs[:, 4], pp1[:, :, 2], zeros(8, 7))"
   ]
  },
  {
   "cell_type": "code",
   "execution_count": null,
   "metadata": {},
   "outputs": [],
   "source": []
  }
 ]
}