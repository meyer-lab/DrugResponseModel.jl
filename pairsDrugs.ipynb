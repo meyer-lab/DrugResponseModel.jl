{
 "metadata": {
  "language_info": {
   "codemirror_mode": {
    "name": "ipython",
    "version": 3
   },
   "file_extension": ".py",
   "mimetype": "text/x-python",
   "name": "python",
   "nbconvert_exporter": "python",
   "pygments_lexer": "ipython3",
   "version": "3.8.6-final"
  },
  "orig_nbformat": 2,
  "kernelspec": {
   "name": "julia-1.6",
   "display_name": "Julia 1.6.0-beta1",
   "language": "julia"
  }
 },
 "nbformat": 4,
 "nbformat_minor": 2,
 "cells": [
  {
   "cell_type": "code",
   "execution_count": 1,
   "metadata": {},
   "outputs": [
    {
     "output_type": "stream",
     "name": "stderr",
     "text": [
      "\u001b[32m\u001b[1m  Activating\u001b[22m\u001b[39m environment at `~/ODE/DrugResponseModel.jl/Project.toml`\n"
     ]
    }
   ],
   "source": [
    "import Pkg; Pkg.instantiate()\n",
    "Pkg.activate(\".\")\n",
    "using DrugResponseModel\n",
    "concs, _, g1s1, g2s1 = load(189, 1);\n",
    "_, _, g1s2, g2s2 = load(189, 2);\n",
    "_, _, g1s3, g2s3 = load(189, 3);\n",
    "g0 = g1s1[1,1,1]+g2s1[1,1,1];\n",
    "g1m = (g1s1 .+ g1s2 .+ g1s3) ./ 3;\n",
    "g2m = (g2s1 .+ g2s2 .+ g2s3) ./ 3;\n"
   ]
  },
  {
   "cell_type": "code",
   "execution_count": 2,
   "metadata": {},
   "outputs": [
    {
     "output_type": "stream",
     "name": "stdout",
     "text": [
      "hello"
     ]
    }
   ],
   "source": [
    "print(\"hello\")"
   ]
  },
  {
   "cell_type": "code",
   "execution_count": 3,
   "metadata": {},
   "outputs": [],
   "source": [
    "p = [200.0, 10.0, 3.0, 3.0, 3.0, 3.0, 3.0, 3.0, 3.0, 3.0, 3.0, 3.0, 3.0, 3.0, 0.75];\n",
    "#aa = DrugResponseModel.ODEjac(p, 0.5)"
   ]
  },
  {
   "cell_type": "code",
   "execution_count": 4,
   "metadata": {},
   "outputs": [],
   "source": [
    "aa = DrugResponseModel.ODEjac(p, 1.0)"
   ]
  },
  {
   "cell_type": "code",
   "execution_count": 2,
   "metadata": {},
   "outputs": [],
   "source": [
    "p = [200.0, 10.0, 3.0, 3.0, 3.0, 3.0, 3.0, 3.0, 3.0, 3.0, 3.0, 3.0, 3.0, 3.0, 0.75]\n",
    "DrugResponseModel.startV(p)"
   ]
  },
  {
   "cell_type": "code",
   "execution_count": 2,
   "metadata": {},
   "outputs": [],
   "source": [
    "DrugResponseModel.optimize_hill(concs[:, 1], g1m[:, :, 1], g2m[:, :, 1])"
   ]
  },
  {
   "cell_type": "code",
   "execution_count": 2,
   "metadata": {},
   "outputs": [],
   "source": [
    "a, p1 = DrugResponseModel.BBoptim_DrugPairs(concs, g1m, g2m, 1, 2)\n",
    "pp1 = DrugResponseModel.getODEparamspairs(p1, concs)\n"
   ]
  },
  {
   "cell_type": "code",
   "execution_count": 1,
   "metadata": {},
   "outputs": [
    {
     "output_type": "error",
     "ename": "LoadError",
     "evalue": "UndefVarError: pp1 not defined",
     "traceback": [
      "UndefVarError: pp1 not defined",
      "",
      "Stacktrace:",
      " [1] top-level scope",
      "   @ :0",
      " [2] eval",
      "   @ ./boot.jl:360 [inlined]",
      " [3] include_string(mapexpr::typeof(REPL.softscope), mod::Module, code::String, filename::String)",
      "   @ Base ./loading.jl:1090"
     ]
    }
   ],
   "source": [
    "pp1"
   ]
  },
  {
   "cell_type": "code",
   "execution_count": 3,
   "metadata": {},
   "outputs": [
    {
     "output_type": "error",
     "ename": "LoadError",
     "evalue": "BoundsError: attempt to access 9×8×2 Array{Float64, 3} at index [1:9, 1, 3]",
     "traceback": [
      "BoundsError: attempt to access 9×8×2 Array{Float64, 3} at index [1:9, 1, 3]",
      "",
      "Stacktrace:",
      " [1] throw_boundserror(A::Array{Float64, 3}, I::Tuple{Base.Slice{Base.OneTo{Int64}}, Int64, Int64})",
      "   @ Base ./abstractarray.jl:645",
      " [2] checkbounds",
      "   @ ./abstractarray.jl:610 [inlined]",
      " [3] _getindex",
      "   @ ./multidimensional.jl:831 [inlined]",
      " [4] getindex(::Array{Float64, 3}, ::Function, ::Int64, ::Int64)",
      "   @ Base ./abstractarray.jl:1164",
      " [5] top-level scope",
      "   @ ./In[3]:6",
      " [6] eval",
      "   @ ./boot.jl:360 [inlined]",
      " [7] include_string(mapexpr::typeof(REPL.softscope), mod::Module, code::String, filename::String)",
      "   @ Base ./loading.jl:1090"
     ]
    }
   ],
   "source": [
    "G1 = zeros(189, 7, 2)\n",
    "G2 = zeros(189, 7, 2)\n",
    "t = LinRange(0.0, 95.0, 189)\n",
    "for k=1:2 # drug number\n",
    "    for i = 1:7 # concentration number\n",
    "        G1[:, i, k], G2[:, i, k], _ = predict(pp1[:, i, k], g0, t)\n",
    "    end\n",
    "end\n",
    "\n",
    "p1 = DrugResponseModel.plotavg(G1[:, :, 1], G2[:, :, 1], g1m[:, :, 1], g2m[:, :, 1], 1, :false, concs[1, 1])\n",
    "p =[DrugResponseModel.plotavg(G1[:, :, 1], G2[:, :, 1], g1m[:, :, 1], g2m[:, :, 1], i, :false, concs[i, 1]) for i=2:7]\n",
    "plot(p1, p..., figsize=(1000, 700), dpi=150)"
   ]
  }
 ]
}