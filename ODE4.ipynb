{
 "cells": [
  {
   "cell_type": "code",
   "execution_count": 1,
   "metadata": {},
   "outputs": [
    {
     "name": "stderr",
     "output_type": "stream",
     "text": [
      "┌ Info: Precompiling DrugResponseModel [f46a7e40-ab32-11e9-0ff4-0323d592fbfd]\n",
      "└ @ Base loading.jl:1273\n",
      "┌ Warning: Package DrugResponseModel does not have RecursiveArrayTools in its dependencies:\n",
      "│ - If you have DrugResponseModel checked out for development and have\n",
      "│   added RecursiveArrayTools as a dependency but haven't updated your primary\n",
      "│   environment's manifest file, try `Pkg.resolve()`.\n",
      "│ - Otherwise you may need to report an issue with DrugResponseModel\n",
      "└ Loading RecursiveArrayTools into DrugResponseModel from project dependency, future warnings for DrugResponseModel are suppressed.\n",
      "WARNING: Method definition (::getfield(DrugResponseModel, Symbol(\"#bayesODE#13\")){#bayesODE#6})() in module DrugResponseModel at /home/farnazm/.julia/packages/Turing/xGrY5/src/core/compiler.jl:406 overwritten at /home/farnazm/.julia/packages/Turing/xGrY5/src/core/compiler.jl:412.\n",
      "  ** incremental compilation may be fatally broken for this module **\n",
      "\n"
     ]
    }
   ],
   "source": [
    "using Pkg\n",
    "Pkg.instantiate()\n",
    "using DrugResponseModel\n",
    "\n",
    "# import data from the path\n",
    "conc_l, pop, g2, g1, g2_0, g1_0 = setup_data(\"lapatinib\");"
   ]
  },
  {
   "cell_type": "code",
   "execution_count": null,
   "metadata": {},
   "outputs": [
    {
     "name": "stdout",
     "output_type": "stream",
     "text": [
      "4158.961806219106\n",
      "1883.5895464771704\n",
      "1932.4073769878978\n",
      "1583.1229927074385\n",
      "2775.180914082502\n",
      "2050.2429242276116\n"
     ]
    }
   ],
   "source": [
    "params_ode = zeros(4, 8)\n",
    "\n",
    "for i in 1:8\n",
    "    fitness, params_ode[:, i] = ODEoptimizer(0.5*ones(4), i, g1, g2, g1_0, g2_0, 2, 2)\n",
    "    println(fitness)\n",
    "end"
   ]
  },
  {
   "cell_type": "markdown",
   "metadata": {},
   "source": [
    "### Turing"
   ]
  },
  {
   "cell_type": "code",
   "execution_count": null,
   "metadata": {},
   "outputs": [],
   "source": [
    "i=5\n",
    "chain = turingODE(params_ode, g1_0, g2_0, i)"
   ]
  },
  {
   "cell_type": "code",
   "execution_count": null,
   "metadata": {},
   "outputs": [],
   "source": [
    "using StatsPlots\n",
    "plot(chain)"
   ]
  },
  {
   "cell_type": "code",
   "execution_count": null,
   "metadata": {},
   "outputs": [],
   "source": [
    "ODEplot_all4(params_ode, g1, g2, g1_0, g2_0, pop)"
   ]
  }
 ],
 "metadata": {
  "kernelspec": {
   "display_name": "Julia 1.3.0",
   "language": "julia",
   "name": "julia-1.3"
  },
  "language_info": {
   "file_extension": ".jl",
   "mimetype": "application/julia",
   "name": "julia",
   "version": "1.3.0"
  }
 },
 "nbformat": 4,
 "nbformat_minor": 4
}
