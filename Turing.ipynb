{
 "cells": [
  {
   "cell_type": "code",
   "execution_count": 7,
   "metadata": {},
   "outputs": [
    {
     "ename": "MethodError",
     "evalue": "MethodError: no method matching exp!(::Array{Tracker.TrackedReal{Float64},2})\nClosest candidates are:\n  exp!(!Matched::Union{DenseArray{T,2}, Base.ReinterpretArray{T,2,S,A} where S where A<:Union{SubArray{T,N,A,I,true} where I<:Union{Tuple{Vararg{Real,N} where N}, Tuple{AbstractUnitRange,Vararg{Any,N} where N}} where A<:DenseArray where N where T, DenseArray}, Base.ReshapedArray{T,2,A,MI} where MI<:Tuple{Vararg{Base.MultiplicativeInverses.SignedMultiplicativeInverse{Int64},N} where N} where A<:Union{Base.ReinterpretArray{T,N,S,A} where S where A<:Union{SubArray{T,N,A,I,true} where I<:Union{Tuple{Vararg{Real,N} where N}, Tuple{AbstractUnitRange,Vararg{Any,N} where N}} where A<:DenseArray where N where T, DenseArray} where N where T, SubArray{T,N,A,I,true} where I<:Union{Tuple{Vararg{Real,N} where N}, Tuple{AbstractUnitRange,Vararg{Any,N} where N}} where A<:DenseArray where N where T, DenseArray}, SubArray{T,2,A,I,L} where L where I<:Tuple{Vararg{Union{Int64, AbstractRange{Int64}, Base.AbstractCartesianIndex},N} where N} where A<:Union{Base.ReinterpretArray{T,N,S,A} where S where A<:Union{SubArray{T,N,A,I,true} where I<:Union{Tuple{Vararg{Real,N} where N}, Tuple{AbstractUnitRange,Vararg{Any,N} where N}} where A<:DenseArray where N where T, DenseArray} where N where T, Base.ReshapedArray{T,N,A,MI} where MI<:Tuple{Vararg{Base.MultiplicativeInverses.SignedMultiplicativeInverse{Int64},N} where N} where A<:Union{Base.ReinterpretArray{T,N,S,A} where S where A<:Union{SubArray{T,N,A,I,true} where I<:Union{Tuple{Vararg{Real,N} where N}, Tuple{AbstractUnitRange,Vararg{Any,N} where N}} where A<:DenseArray where N where T, DenseArray} where N where T, SubArray{T,N,A,I,true} where I<:Union{Tuple{Vararg{Real,N} where N}, Tuple{AbstractUnitRange,Vararg{Any,N} where N}} where A<:DenseArray where N where T, DenseArray} where N where T, DenseArray}}) where T<:Union{Complex{Float32}, Complex{Float64}, Float32, Float64} at /Users/sabae/buildbot/worker/package_macos64/build/usr/share/julia/stdlib/v1.3/LinearAlgebra/src/dense.jl:551",
     "output_type": "error",
     "traceback": [
      "MethodError: no method matching exp!(::Array{Tracker.TrackedReal{Float64},2})\nClosest candidates are:\n  exp!(!Matched::Union{DenseArray{T,2}, Base.ReinterpretArray{T,2,S,A} where S where A<:Union{SubArray{T,N,A,I,true} where I<:Union{Tuple{Vararg{Real,N} where N}, Tuple{AbstractUnitRange,Vararg{Any,N} where N}} where A<:DenseArray where N where T, DenseArray}, Base.ReshapedArray{T,2,A,MI} where MI<:Tuple{Vararg{Base.MultiplicativeInverses.SignedMultiplicativeInverse{Int64},N} where N} where A<:Union{Base.ReinterpretArray{T,N,S,A} where S where A<:Union{SubArray{T,N,A,I,true} where I<:Union{Tuple{Vararg{Real,N} where N}, Tuple{AbstractUnitRange,Vararg{Any,N} where N}} where A<:DenseArray where N where T, DenseArray} where N where T, SubArray{T,N,A,I,true} where I<:Union{Tuple{Vararg{Real,N} where N}, Tuple{AbstractUnitRange,Vararg{Any,N} where N}} where A<:DenseArray where N where T, DenseArray}, SubArray{T,2,A,I,L} where L where I<:Tuple{Vararg{Union{Int64, AbstractRange{Int64}, Base.AbstractCartesianIndex},N} where N} where A<:Union{Base.ReinterpretArray{T,N,S,A} where S where A<:Union{SubArray{T,N,A,I,true} where I<:Union{Tuple{Vararg{Real,N} where N}, Tuple{AbstractUnitRange,Vararg{Any,N} where N}} where A<:DenseArray where N where T, DenseArray} where N where T, Base.ReshapedArray{T,N,A,MI} where MI<:Tuple{Vararg{Base.MultiplicativeInverses.SignedMultiplicativeInverse{Int64},N} where N} where A<:Union{Base.ReinterpretArray{T,N,S,A} where S where A<:Union{SubArray{T,N,A,I,true} where I<:Union{Tuple{Vararg{Real,N} where N}, Tuple{AbstractUnitRange,Vararg{Any,N} where N}} where A<:DenseArray where N where T, DenseArray} where N where T, SubArray{T,N,A,I,true} where I<:Union{Tuple{Vararg{Real,N} where N}, Tuple{AbstractUnitRange,Vararg{Any,N} where N}} where A<:DenseArray where N where T, DenseArray} where N where T, DenseArray}}) where T<:Union{Complex{Float32}, Complex{Float64}, Float32, Float64} at /Users/sabae/buildbot/worker/package_macos64/build/usr/share/julia/stdlib/v1.3/LinearAlgebra/src/dense.jl:551",
      "",
      "Stacktrace:",
      " [1] ODEjac(::Array{Tracker.TrackedReal{Float64},1}, ::Float64, ::Int64, ::Int64) at /Users/asm/Code/DrugResponseModel.jl/src/ODEmodel.jl:13",
      " [2] predict(::Array{Tracker.TrackedReal{Float64},1}, ::Float64, ::Float64, ::LinRange{Float64}, ::Int64, ::Int64) at /Users/asm/Code/DrugResponseModel.jl/src/ODEmodel.jl:25",
      " [3] macro expansion at ./In[7]:26 [inlined]",
      " [4] (::var\"##inner_function#561#43\")(::Turing.Core.RandomVariables.VarInfo{Turing.Core.RandomVariables.Metadata{Dict{Turing.Core.RandomVariables.VarName,Int64},Array{Distribution,1},Array{Turing.Core.RandomVariables.VarName,1},Array{Real,1},Array{Set{Turing.Selector},1}},Real}, ::Turing.SampleFromUniform, ::Turing.Model{Tuple{:a,:EC501,:EC502},Tuple{:g1_0,:g2_0,:g1,:g2,:tp,:conc_l},var\"##inner_function#561#43\",NamedTuple{(:g1_0, :g2_0, :g1, :g2, :tp, :conc_l),Tuple{Array{Float64,1},Array{Float64,1},Array{Float64,2},Array{Float64,2},LinRange{Float64},Array{Float64,1}}},NamedTuple{(:g1_0, :g2_0, :g1, :g2, :tp, :conc_l),NTuple{6,Symbol}}}) at /Users/asm/.julia/packages/Turing/xGrY5/src/core/compiler.jl:438",
      " [5] #_#3 at /Users/asm/.julia/packages/Turing/xGrY5/src/Turing.jl:67 [inlined]",
      " [6] Model at /Users/asm/.julia/packages/Turing/xGrY5/src/Turing.jl:67 [inlined]",
      " [7] VarInfo at /Users/asm/.julia/packages/Turing/xGrY5/src/core/RandomVariables.jl:183 [inlined]",
      " [8] Turing.Sampler(::HMC{Turing.Core.TrackerAD,(),AdvancedHMC.Adaptation.UnitEuclideanMetric}, ::Turing.Model{Tuple{:a,:EC501,:EC502},Tuple{:g1_0,:g2_0,:g1,:g2,:tp,:conc_l},var\"##inner_function#561#43\",NamedTuple{(:g1_0, :g2_0, :g1, :g2, :tp, :conc_l),Tuple{Array{Float64,1},Array{Float64,1},Array{Float64,2},Array{Float64,2},LinRange{Float64},Array{Float64,1}}},NamedTuple{(:g1_0, :g2_0, :g1, :g2, :tp, :conc_l),NTuple{6,Symbol}}}, ::Turing.Selector) at /Users/asm/.julia/packages/Turing/xGrY5/src/inference/hmc.jl:305",
      " [9] Sampler at /Users/asm/.julia/packages/Turing/xGrY5/src/inference/hmc.jl:303 [inlined]",
      " [10] #sample#2(::Nothing, ::Base.Iterators.Pairs{Union{},Union{},Tuple{},NamedTuple{(),Tuple{}}}, ::typeof(sample), ::Turing.Model{Tuple{:a,:EC501,:EC502},Tuple{:g1_0,:g2_0,:g1,:g2,:tp,:conc_l},var\"##inner_function#561#43\",NamedTuple{(:g1_0, :g2_0, :g1, :g2, :tp, :conc_l),Tuple{Array{Float64,1},Array{Float64,1},Array{Float64,2},Array{Float64,2},LinRange{Float64},Array{Float64,1}}},NamedTuple{(:g1_0, :g2_0, :g1, :g2, :tp, :conc_l),NTuple{6,Symbol}}}, ::HMC{Turing.Core.TrackerAD,(),AdvancedHMC.Adaptation.UnitEuclideanMetric}, ::Int64) at /Users/asm/.julia/packages/Turing/xGrY5/src/inference/Inference.jl:168",
      " [11] sample(::Turing.Model{Tuple{:a,:EC501,:EC502},Tuple{:g1_0,:g2_0,:g1,:g2,:tp,:conc_l},var\"##inner_function#561#43\",NamedTuple{(:g1_0, :g2_0, :g1, :g2, :tp, :conc_l),Tuple{Array{Float64,1},Array{Float64,1},Array{Float64,2},Array{Float64,2},LinRange{Float64},Array{Float64,1}}},NamedTuple{(:g1_0, :g2_0, :g1, :g2, :tp, :conc_l),NTuple{6,Symbol}}}, ::HMC{Turing.Core.TrackerAD,(),AdvancedHMC.Adaptation.UnitEuclideanMetric}, ::Int64) at /Users/asm/.julia/packages/Turing/xGrY5/src/inference/Inference.jl:167",
      " [12] top-level scope at In[7]:34"
     ]
    }
   ],
   "source": [
    "using Pkg\n",
    "Pkg.instantiate()\n",
    "using DrugResponseModel\n",
    "using Tracker\n",
    "using Turing\n",
    "using LinearAlgebra\n",
    "Turing.setadbackend(:reverse_diff)\n",
    "\n",
    "conc_l, pop, g2, g1, g2_0, g1_0 = setup_data(\"lapatinib\")\n",
    "t = LinRange(0.0, 95.5, 192)\n",
    "\n",
    "\n",
    "@model bayesModel(g1_0, g2_0, g1, g2, tp, conc_l) = begin\n",
    "    a = Array{Tracker.TrackedReal{Float64}}(undef, 8)\n",
    "    for i in 1:8\n",
    "        a[i] ~ LogNormal(0.0, 1.0)\n",
    "    end\n",
    "    EC501 ~ LogNormal(0.0, 1.0)\n",
    "    EC502 ~ LogNormal(0.0, 1.0)\n",
    "    #j ~ DiscreteUniform(1, 30)\n",
    "    #k ~ DiscreteUniform(1, 30)\n",
    "\n",
    "    effects = getODEparams([EC501; a[1:5]; EC502; a[6:8]], conc_l)\n",
    "\n",
    "    for ii in 1:length(conc_l)\n",
    "        G1, G2 = DrugResponseModel.predict(effects[:, ii], g1_0[ii], g2_0[ii], tp, 3, 3)\n",
    "    #    residG1 = G1 - g1[:, ii]\n",
    "    #    residG2 = G2 - g2[:, ii]\n",
    "\n",
    "    #    residG1 ~ MvNormal(0.0, std(residG1))\n",
    "    #    residG2 ~ MvNormal(0.0, std(residG2))\n",
    "    end\n",
    "end\n",
    "\n",
    "chain = sample(bayesModel(g1_0, g2_0, g1, g2, t, conc_l), HMC(0.05, 10), 2000)"
   ]
  }
 ],
 "metadata": {
  "kernelspec": {
   "display_name": "Julia 1.3.0",
   "language": "julia",
   "name": "julia-1.3"
  },
  "language_info": {
   "file_extension": ".jl",
   "mimetype": "application/julia",
   "name": "julia",
   "version": "1.3.0"
  }
 },
 "nbformat": 4,
 "nbformat_minor": 2
}
