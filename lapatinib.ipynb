{
 "cells": [
  {
   "cell_type": "code",
   "execution_count": null,
   "metadata": {},
   "outputs": [],
   "source": [
    "import Pkg;\n",
    "Pkg.instantiate()\n",
    "using DrugResponseModel\n",
    "using Plots;\n",
    "\n",
    "# import data from the path\n",
    "conc_l, pop, g2, g1 = setup_data(\"lapatinib\")\n",
    "\n",
    "# costt, ps = optimize_hill(conc_l, g1, g2, maxstep = 5E4)\n",
    "# ps = [68.856, 2.17748, 0.0233308, 0.942434, 1.5169, 2.98134, 0.0181415, 0.0359511, 0.531034, 48.6838, 52.3097, 1.66619, 4.44761]\n",
    "ps = [60.0257, 0.925401, 6.87587e-9, 0.792481, 0.368774, 0.750335, 0.00827934, 0.0204481, 0.536002, 20.7355, 13.4557, 0.530622, 2.83636]\n",
    "effects = getODEparams(ps, conc_l)"
   ]
  },
  {
   "cell_type": "code",
   "execution_count": null,
   "metadata": {},
   "outputs": [],
   "source": [
    "f = LinRange(0.0, 0.82, 100)\n",
    "num = zeros(100)\n",
    "g0 = g1[1] + g2[1]\n",
    "for (i,v) in enumerate(f)\n",
    "    ppp = effects[:, 1]\n",
    "    ppp[3] = v\n",
    "    num[i] = numcells(ppp, g0, 100)\n",
    "end\n",
    "using Plots;\n",
    "plot(f,num)\n"
   ]
  },
  {
   "cell_type": "code",
   "execution_count": null,
   "metadata": {},
   "outputs": [],
   "source": [
    "concentration = LinRange(minimum(conc_l), maximum(conc_l), 20)\n",
    "conc = Vector{Float64}(concentration)\n",
    "effects2 = getODEparams(ps, conc)\n",
    "\n",
    "g0 = g1[1] + g2[1]\n",
    "xx = LinRange(1.0, 200.0, 200)\n",
    "@gif for (i,v) in enumerate(xx)\n",
    "    plotGradient(effects, conc_l, g0, Int(v), string(i))\n",
    "    ylims!((-200.0, 200.0))\n",
    "end every 1"
   ]
  },
  {
   "cell_type": "code",
   "execution_count": null,
   "metadata": {},
   "outputs": [],
   "source": [
    "ODEplot_all(effects, g1, g2, pop, conc_l)"
   ]
  },
  {
   "cell_type": "code",
   "execution_count": null,
   "metadata": {},
   "outputs": [],
   "source": [
    "ODEplot_allPerc(effects, g1, g2, pop, conc_l)"
   ]
  },
  {
   "cell_type": "code",
   "execution_count": null,
   "metadata": {},
   "outputs": [],
   "source": [
    "plot_parameters(conc_l, effects)"
   ]
  },
  {
   "cell_type": "code",
   "execution_count": null,
   "metadata": {},
   "outputs": [],
   "source": [
    "result, paramRanges = allSensitivity(ps, conc_l, g1, g2)\n",
    "\n",
    "using Plots;\n",
    "pl = [plotUnitSensitivity(paramRanges[:, i], result[:, i], ps[i], i) for i=1:11]\n",
    "plot(pl...)\n",
    "plot!(size=(1200, 800))"
   ]
  }
 ],
 "metadata": {
  "kernelspec": {
   "display_name": "Julia 1.3.0",
   "language": "julia",
   "name": "julia-1.3"
  },
  "language_info": {
   "file_extension": ".jl",
   "mimetype": "application/julia",
   "name": "julia",
   "version": "1.3.0"
  }
 },
 "nbformat": 4,
 "nbformat_minor": 4
}
