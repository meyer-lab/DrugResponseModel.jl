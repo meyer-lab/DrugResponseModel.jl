{
 "cells": [
  {
   "cell_type": "code",
   "execution_count": null,
   "metadata": {},
   "outputs": [],
   "source": [
    "import Pkg;\n",
    "Pkg.instantiate()\n",
    "using DrugResponseModel\n",
    "\n",
    "# import data from the path\n",
    "conc_l, pop, g2, g1, g2_0, g1_0 = setup_data(\"lapatinib\")\n",
    "\n",
    "# costt, ps = optimize_hill(conc_l, g1, g2, g1_0, g2_0, maxstep = 2E4)\n",
    "ps = [54.4042, 0.496042, 0.0987498, 1.0264, 0.787628, 1.19336, 0.0104354, 0.00420917, 0.502323, 11.545, 28.5096];"
   ]
  },
  {
   "cell_type": "code",
   "execution_count": null,
   "metadata": {},
   "outputs": [],
   "source": [
    "effects = getODEparams(ps, conc_l)\n",
    "ODEplot_all(effects, g1, g2, g1_0, g2_0, pop)"
   ]
  },
  {
   "cell_type": "code",
   "execution_count": null,
   "metadata": {},
   "outputs": [],
   "source": [
    "b = copy(ps)\n",
    "results = zeros(50, 11)\n",
    "paramRanges = zeros(50, 11)\n",
    "\n",
    "for k=1:11\n",
    "    paramRanges[:, k] = b[k] .* (10 .^ (range(-1, stop=1, length=50)))\n",
    "    results[:, k] = sensitivity(b, paramRanges[:, k], conc_l, k, g1_0, g2_0, g1, g2)\n",
    "end"
   ]
  },
  {
   "cell_type": "code",
   "execution_count": null,
   "metadata": {},
   "outputs": [],
   "source": [
    "using Plots;\n",
    "pl = [plotUnitSensitivity(paramRanges[:, i], results[:, i], ps[i]) for i=1:11]\n",
    "plot(pl...)\n",
    "plot!(size=(1200, 800))"
   ]
  }
 ],
 "metadata": {
  "kernelspec": {
   "display_name": "Julia 1.3.0",
   "language": "julia",
   "name": "julia-1.3"
  },
  "language_info": {
   "file_extension": ".jl",
   "mimetype": "application/julia",
   "name": "julia",
   "version": "1.3.0"
  }
 },
 "nbformat": 4,
 "nbformat_minor": 4
}
