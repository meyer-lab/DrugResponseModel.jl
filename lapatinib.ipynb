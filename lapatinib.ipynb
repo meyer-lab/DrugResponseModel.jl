{
 "cells": [
  {
   "cell_type": "code",
   "execution_count": null,
   "metadata": {},
   "outputs": [],
   "source": [
    "import Pkg;\n",
    "Pkg.instantiate()\n",
    "using DrugResponseModel\n",
    "\n",
    "# import data from the path\n",
    "conc_l, pop, g2, g1, g2_0, g1_0 = setup_data(\"lapatinib\")\n",
    "\n",
    "ps = [54.4042, 0.496042, 0.0987498, 1.0264, 0.787628, 1.19336, 0.0104354, 0.00420917, 0.502323, 11.545, 28.5096]\n",
    "\n",
    "effects = getODEparams(ps, conc_l)"
   ]
  },
  {
   "cell_type": "code",
   "execution_count": null,
   "metadata": {},
   "outputs": [],
   "source": [
    "result = zeros(200, 11)\n",
    "paramRange = zeros(200, 11)\n",
    "for k=1:11\n",
    "    result[:, k], paramRange[:, k] = sensitivity(ps, conc_l, k, g1_0, g2_0, g1, g2)\n",
    "end"
   ]
  },
  {
   "cell_type": "code",
   "execution_count": null,
   "metadata": {},
   "outputs": [],
   "source": [
    "using Plots;\n",
    "pl = [plot(paramRange[:, i], result[:, i]) for i=1:11]\n",
    "plot(pl..., layout = (3, 4))\n",
    "plot!(size = (900, 800), dpi = 200)"
   ]
  },
  {
   "cell_type": "code",
   "execution_count": null,
   "metadata": {},
   "outputs": [],
   "source": [
    "ODEplot_all(effects, g1, g2, g1_0, g2_0, pop)"
   ]
  }
 ],
 "metadata": {
  "kernelspec": {
   "display_name": "Julia 1.3.0",
   "language": "julia",
   "name": "julia-1.3"
  },
  "language_info": {
   "file_extension": ".jl",
   "mimetype": "application/julia",
   "name": "julia",
   "version": "1.3.0"
  }
 },
 "nbformat": 4,
 "nbformat_minor": 4
}
