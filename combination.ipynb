{
 "cells": [
  {
   "cell_type": "code",
   "execution_count": null,
   "metadata": {},
   "outputs": [],
   "source": [
    "import Pkg;\n",
    "Pkg.instantiate()\n",
    "using DrugResponseModel\n",
    "using Plots;\n",
    "\n",
    "concs, populations, g1s, g2s = load(144);\n",
    "g0 = g1s[1,1,1]+g2s[1,1,1];\n",
    "# params for 96 hours\n",
    "# pp = [50.2552, 0.866725, 2.41775e-5, 1.96785, 0.0185627, 0.0447356, 108.176, 1.16593, 1.3052, 2.86005e-5, 0.348876, 0.438606, 14.4648, 2.15448, 1.42977, 2.99996, 0.0216477, 0.196135, 4.03273, 3.93278, 1.86825e-5, 0.867674, 0.430368, 0.241053, 1.68177, 1.17228, 0.508321, 34.5786, 37.9849, 20.7341, 9.11408];\n",
    "# params for 72 hours\n",
    "pp = [46.8268, 0.91981, 0.00382456, 2.78384, 0.0224056, 0.0568967, 142.019, 1.24209, 0.995621, 0.0596157, 0.355646, 0.748034, 97.5658, 1.09459, 0.856367, 0.930455, 0.115105, 0.480837, 3.87704, 5.00131, 0.231575, 1.56956, 0.787081, 0.451407, 2.60722, 1.75014, 0.502201, 57.675, 55.1465, 41.0435, 15.3204];"
   ]
  },
  {
   "cell_type": "markdown",
   "metadata": {},
   "source": [
    "each of the following are 9x8 matrices, all the parameters for all of the concentrations for each of the drugs."
   ]
  },
  {
   "cell_type": "code",
   "execution_count": null,
   "metadata": {},
   "outputs": [],
   "source": [
    "effs = getODEparamsAll(pp, concs)\n",
    "lapat = effs[:,:,1];\n",
    "dox = effs[:,:,2];\n",
    "gemc = effs[:,:,3];\n",
    "pac = effs[:,:,4];"
   ]
  },
  {
   "cell_type": "markdown",
   "metadata": {},
   "source": [
    "### doxorubicin and lapatinib"
   ]
  },
  {
   "cell_type": "markdown",
   "metadata": {},
   "source": [
    "The following, plots the number of cells over concentrations, at t = 96 hours. The green line is the one with a single drug over its range of concentrations, and the purple lines show the combination of this drug (for example doxorubicin in the following) and different concentrations of the second drug (in the following case, lapatinib). "
   ]
  },
  {
   "cell_type": "code",
   "execution_count": null,
   "metadata": {},
   "outputs": [],
   "source": [
    "combin2drugs(dox, lapat, concs[:, 2], concs[:,1], \"dox\", \"lap\", effs, g0)"
   ]
  },
  {
   "cell_type": "markdown",
   "metadata": {},
   "source": [
    "### doxorubicin and paclitaxel"
   ]
  },
  {
   "cell_type": "code",
   "execution_count": null,
   "metadata": {},
   "outputs": [],
   "source": [
    "combin2drugs(dox, pac, concs[:, 2], concs[:,4], \"dox\", \"pac\", effs, g0)"
   ]
  },
  {
   "cell_type": "markdown",
   "metadata": {},
   "source": [
    "### doxorubicin and gemcitabine"
   ]
  },
  {
   "cell_type": "code",
   "execution_count": null,
   "metadata": {},
   "outputs": [],
   "source": [
    "combin2drugs(dox, gemc, concs[:, 2], concs[:,3], \"dox\", \"gem\", effs, g0)"
   ]
  },
  {
   "cell_type": "markdown",
   "metadata": {},
   "source": [
    "### paclitaxel and gemcitabine"
   ]
  },
  {
   "cell_type": "code",
   "execution_count": null,
   "metadata": {},
   "outputs": [],
   "source": [
    "combin2drugs(pac, gemc, concs[:, 4], concs[:,3], \"pac\", \"gem\", effs, g0)"
   ]
  },
  {
   "cell_type": "markdown",
   "metadata": {},
   "source": [
    "### paclitaxel and dox "
   ]
  },
  {
   "cell_type": "code",
   "execution_count": null,
   "metadata": {},
   "outputs": [],
   "source": [
    "combin2drugs(pac, dox, concs[:, 4], concs[:,2], \"pac\", \"dox\", effs, g0)"
   ]
  },
  {
   "cell_type": "markdown",
   "metadata": {},
   "source": [
    "### paclitaxel and lapatinib"
   ]
  },
  {
   "cell_type": "code",
   "execution_count": null,
   "metadata": {},
   "outputs": [],
   "source": [
    "combin2drugs(pac, lapat, concs[:, 4], concs[:,1], \"pac\", \"lap\", effs, g0)"
   ]
  },
  {
   "cell_type": "markdown",
   "metadata": {},
   "source": [
    "### lapatinib and dox"
   ]
  },
  {
   "cell_type": "code",
   "execution_count": null,
   "metadata": {},
   "outputs": [],
   "source": [
    "combin2drugs(lapat, dox, concs[:, 1], concs[:,2], \"lap\", \"dox\", effs, g0)"
   ]
  },
  {
   "cell_type": "markdown",
   "metadata": {},
   "source": [
    "### lapatinib and gemcitabine"
   ]
  },
  {
   "cell_type": "code",
   "execution_count": null,
   "metadata": {},
   "outputs": [],
   "source": [
    "combin2drugs(lapat, gemc, concs[:, 1], concs[:,3], \"lap\", \"gem\", effs, g0)"
   ]
  },
  {
   "cell_type": "markdown",
   "metadata": {},
   "source": [
    "### lapatinib and paclitaxel"
   ]
  },
  {
   "cell_type": "code",
   "execution_count": null,
   "metadata": {},
   "outputs": [],
   "source": [
    "combin2drugs(lapat, pac, concs[:, 1], concs[:,4], \"lap\", \"pac\", effs, g0)"
   ]
  },
  {
   "cell_type": "markdown",
   "metadata": {},
   "source": [
    "### gemcitabine and dox"
   ]
  },
  {
   "cell_type": "code",
   "execution_count": null,
   "metadata": {},
   "outputs": [],
   "source": [
    "combin2drugs(gemc, dox, concs[:, 3], concs[:,2], \"gemc\", \"dox\", effs, g0)"
   ]
  },
  {
   "cell_type": "markdown",
   "metadata": {},
   "source": [
    "### gemcitabine and paclitaxel"
   ]
  },
  {
   "cell_type": "code",
   "execution_count": null,
   "metadata": {},
   "outputs": [],
   "source": [
    "combin2drugs(gemc, pac, concs[:, 3], concs[:,4], \"gemc\", \"pac\", effs, g0)"
   ]
  },
  {
   "cell_type": "markdown",
   "metadata": {},
   "source": [
    "### gemcitabine and lapatinib"
   ]
  },
  {
   "cell_type": "code",
   "execution_count": null,
   "metadata": {},
   "outputs": [],
   "source": [
    "combin2drugs(gemc, lapat, concs[:, 3], concs[:,1], \"gem\", \"lap\", effs, g0)"
   ]
  }
 ],
 "metadata": {
  "kernelspec": {
   "display_name": "Julia 1.3.0",
   "language": "julia",
   "name": "julia-1.3"
  },
  "language_info": {
   "file_extension": ".jl",
   "mimetype": "application/julia",
   "name": "julia",
   "version": "1.3.0"
  }
 },
 "nbformat": 4,
 "nbformat_minor": 4
}
