{
 "cells": [
  {
   "cell_type": "code",
   "execution_count": null,
   "metadata": {},
   "outputs": [],
   "source": [
    "import Pkg;\n",
    "Pkg.instantiate()\n",
    "using DrugResponseModel\n",
    "using Plots;\n",
    "\n",
    "concs, populations, g1s, g2s = load();\n",
    "g0 = g1s[1,1,1]+g2s[1,1,1];\n",
    "pp = [50.2552, 0.866725, 2.41775e-5, 1.96785, 0.0185627, 0.0447356, 108.176, 1.16593, 1.3052, 2.86005e-5, 0.348876, 0.438606, 14.4648, 2.15448, 1.42977, 2.99996, 0.0216477, 0.196135, 4.03273, 3.93278, 1.86825e-5, 0.867674, 0.430368, 0.241053, 1.68177, 1.17228, 0.508321, 34.5786, 37.9849, 20.7341, 9.11408];"
   ]
  },
  {
   "cell_type": "code",
   "execution_count": null,
   "metadata": {},
   "outputs": [],
   "source": [
    "effs = getODEparamsAll(pp, concs)\n",
    "# each of the following are 9x8 matrices\n",
    "lapat = effs[:,:,1];\n",
    "dox = effs[:,:,2];\n",
    "gemc = effs[:,:,3];\n",
    "pac = effs[:,:,4];"
   ]
  },
  {
   "cell_type": "markdown",
   "metadata": {},
   "source": [
    "### doxorubicin and lapatinib"
   ]
  },
  {
   "cell_type": "code",
   "execution_count": null,
   "metadata": {},
   "outputs": [],
   "source": [
    "combin = fullCombinationParam(dox, lapat, effs,8);\n",
    "n=8;\n",
    "\n",
    "numscomb = zeros(8,8)\n",
    "nums = zeros(n)\n",
    "for j =1:n\n",
    "    nums[j] = numcells(dox[:, j], g0, 96)\n",
    "    for m=1:8\n",
    "        numscomb[j,m] = numcells(combin[:, j, m], g0, 96)\n",
    "    end\n",
    "end\n",
    "\n",
    "\n",
    "using Plots;\n",
    "plot(log.(concs[:,2]), nums, label=\"dox\", lw=3, xlabel=\"log drug concentration\", ylabel=\"cell #\", shape=:circle, color=:green)\n",
    "for k = 2:8\n",
    "    plot!(log.(concs[:,2]), numscomb[:, k], label = string(\"dox +\", concs[k,1], \"nM lapat\"), legendfontsize = 7, lw = 3, fg_legend = :transparent, shape=:circle, color=:purple, alpha = (1-0.1*k))\n",
    "end\n",
    "savefig(\"1.png\")"
   ]
  },
  {
   "cell_type": "markdown",
   "metadata": {},
   "source": [
    "### doxorubicin and paclitaxel"
   ]
  },
  {
   "cell_type": "code",
   "execution_count": null,
   "metadata": {},
   "outputs": [],
   "source": [
    "combin = fullCombinationParam(dox, pac, effs,8);\n",
    "n=8;\n",
    "\n",
    "numscomb = zeros(8,8)\n",
    "nums = zeros(n)\n",
    "for j =1:n\n",
    "    nums[j] = numcells(dox[:, j], g0, 96)\n",
    "    for m=1:8\n",
    "        numscomb[j,m] = numcells(combin[:, j, m], g0, 96)\n",
    "    end\n",
    "end\n",
    "\n",
    "\n",
    "using Plots;\n",
    "plot(log.(concs[:,2]), nums, label=\"dox\", lw=3, xlabel=\"log drug concentration\", ylabel=\"cell #\", shape=:circle, color=:green)\n",
    "for k = 2:8\n",
    "    plot!(log.(concs[:,2]), numscomb[:, k], label = string(\"dox +\", concs[k,4], \"nM pacl\"), legendfontsize = 7, lw = 3, fg_legend = :transparent, shape=:circle, color=:purple, alpha = (1-0.1*k))\n",
    "end\n",
    "savefig(\"2.png\")"
   ]
  },
  {
   "cell_type": "markdown",
   "metadata": {},
   "source": [
    "### doxorubicin and gemcitabine"
   ]
  },
  {
   "cell_type": "code",
   "execution_count": null,
   "metadata": {},
   "outputs": [],
   "source": [
    "combin = fullCombinationParam(dox, gemc, effs,8);\n",
    "n=8;\n",
    "\n",
    "numscomb = zeros(8,8)\n",
    "nums = zeros(n)\n",
    "for j =1:n\n",
    "    nums[j] = numcells(dox[:, j], g0, 96)\n",
    "    for m=1:8\n",
    "        numscomb[j,m] = numcells(combin[:, j, m], g0, 96)\n",
    "    end\n",
    "end\n",
    "\n",
    "\n",
    "using Plots;\n",
    "plot(log.(concs[:,2]), nums, label=\"dox\", lw=3, xlabel=\"log drug concentration\", ylabel=\"cell #\", shape=:circle, color=:green)\n",
    "for k = 2:8\n",
    "    plot!(log.(concs[:,2]), numscomb[:, k], label = string(\"dox +\", concs[k,3], \"nM gemc\"), legendfontsize = 7, lw = 3, fg_legend = :transparent, shape=:circle, color=:purple, alpha = (1-0.1*k))\n",
    "end\n",
    "savefig(\"3.png\")"
   ]
  },
  {
   "cell_type": "markdown",
   "metadata": {},
   "source": [
    "### paclitaxel and gemcitabine"
   ]
  },
  {
   "cell_type": "code",
   "execution_count": null,
   "metadata": {},
   "outputs": [],
   "source": [
    "combin = fullCombinationParam(pac, gemc, effs,8);\n",
    "n=8;\n",
    "\n",
    "numscomb = zeros(8,8)\n",
    "nums = zeros(n)\n",
    "for j =1:n\n",
    "    nums[j] = numcells(pac[:, j], g0, 96)\n",
    "    for m=1:8\n",
    "        numscomb[j,m] = numcells(combin[:, j, m], g0, 96)\n",
    "    end\n",
    "end\n",
    "\n",
    "\n",
    "using Plots;\n",
    "plot(log.(concs[:,4]), nums, label=\"pac\", lw=3, xlabel=\"log drug concentration\", ylabel=\"cell #\", shape=:circle, color=:green)\n",
    "for k = 2:8\n",
    "    plot!(log.(concs[:,4]), numscomb[:, k], label = string(\"pac +\", concs[k,3], \"nM gemc\"), legendfontsize = 7, lw = 3, fg_legend = :transparent, shape=:circle, color=:purple, alpha = (1-0.1*k))\n",
    "end\n",
    "savefig(\"4.png\")"
   ]
  },
  {
   "cell_type": "markdown",
   "metadata": {},
   "source": [
    "### lapatinib and dox"
   ]
  },
  {
   "cell_type": "code",
   "execution_count": null,
   "metadata": {},
   "outputs": [],
   "source": [
    "combin = fullCombinationParam(lapat, dox, effs,8);\n",
    "n=8;\n",
    "\n",
    "numscomb = zeros(8,8)\n",
    "nums = zeros(n)\n",
    "for j =1:n\n",
    "    nums[j] = numcells(lapat[:, j], g0, 96)\n",
    "    for m=1:8\n",
    "        numscomb[j,m] = numcells(combin[:, j, m], g0, 96)\n",
    "    end\n",
    "end\n",
    "\n",
    "\n",
    "using Plots;\n",
    "plot(log.(concs[:,1]), nums, label=\"lapat\", lw=3, xlabel=\"log drug concentration\", ylabel=\"cell #\", shape=:circle, color=:green)\n",
    "for k = 2:8\n",
    "    plot!(log.(concs[:,1]), numscomb[:, k], label = string(\"lapat +\", concs[k,2], \"nM dox\"), legendfontsize = 7, lw = 3, fg_legend = :transparent, shape=:circle, color=:purple, alpha = (1-0.1*k))\n",
    "end\n",
    "savefig(\"5.png\")"
   ]
  },
  {
   "cell_type": "markdown",
   "metadata": {},
   "source": [
    "### paclitaxel and dox "
   ]
  },
  {
   "cell_type": "code",
   "execution_count": null,
   "metadata": {},
   "outputs": [],
   "source": [
    "combin = fullCombinationParam(pac, dox, effs,8);\n",
    "n=8;\n",
    "\n",
    "numscomb = zeros(8,8)\n",
    "nums = zeros(n)\n",
    "for j =1:n\n",
    "    nums[j] = numcells(pac[:, j], g0, 96)\n",
    "    for m=1:8\n",
    "        numscomb[j,m] = numcells(combin[:, j, m], g0, 96)\n",
    "    end\n",
    "end\n",
    "\n",
    "\n",
    "using Plots;\n",
    "plot(log.(concs[:,4]), nums, label=\"pac\", lw=3, xlabel=\"log drug concentration\", ylabel=\"cell #\", shape=:circle, color=:green)\n",
    "for k = 2:8\n",
    "    plot!(log.(concs[:,4]), numscomb[:, k], label = string(\"pac +\", concs[k,2], \"nM dox\"), legendfontsize = 7, lw = 3, fg_legend = :transparent, shape=:circle, color=:purple, alpha = (1-0.1*k))\n",
    "end\n",
    "savefig(\"6.png\")"
   ]
  },
  {
   "cell_type": "markdown",
   "metadata": {},
   "source": [
    "### gemcitabine and dox"
   ]
  },
  {
   "cell_type": "code",
   "execution_count": null,
   "metadata": {},
   "outputs": [],
   "source": [
    "combin = fullCombinationParam(gemc, dox, effs,8);\n",
    "n=8;\n",
    "\n",
    "numscomb = zeros(8,8)\n",
    "nums = zeros(n)\n",
    "for j =1:n\n",
    "    nums[j] = numcells(gemc[:, j], g0, 96)\n",
    "    for m=1:8\n",
    "        numscomb[j,m] = numcells(combin[:, j, m], g0, 96)\n",
    "    end\n",
    "end\n",
    "\n",
    "\n",
    "using Plots;\n",
    "plot(log.(concs[:,3]), nums, label=\"gemc\", lw=3, xlabel=\"log drug concentration\", ylabel=\"cell #\", shape=:circle, color=:green)\n",
    "for k = 2:8\n",
    "    plot!(log.(concs[:,3]), numscomb[:, k], label = string(\"gemc +\", concs[k,2], \"nM dox\"), legendfontsize = 7, lw = 3, fg_legend = :transparent, shape=:circle, color=:purple, alpha = (1-0.1*k))\n",
    "end\n",
    "savefig(\"7.png\")"
   ]
  },
  {
   "cell_type": "markdown",
   "metadata": {},
   "source": [
    "### gemcitabine and paclitaxel"
   ]
  },
  {
   "cell_type": "code",
   "execution_count": null,
   "metadata": {},
   "outputs": [],
   "source": [
    "combin = fullCombinationParam(gemc, pac, effs,8);\n",
    "n=8;\n",
    "\n",
    "numscomb = zeros(8,8)\n",
    "nums = zeros(n)\n",
    "for j =1:n\n",
    "    nums[j] = numcells(gemc[:, j], g0, 96)\n",
    "    for m=1:8\n",
    "        numscomb[j,m] = numcells(combin[:, j, m], g0, 96)\n",
    "    end\n",
    "end\n",
    "\n",
    "\n",
    "using Plots;\n",
    "plot(log.(concs[:,3]), nums, label=\"gemc\", lw=3, xlabel=\"log drug concentration\", ylabel=\"cell #\", shape=:circle, color=:green)\n",
    "for k = 2:8\n",
    "    plot!(log.(concs[:,3]), numscomb[:, k], label = string(\"gemc +\", concs[k,4], \"nM pac\"), legendfontsize = 7, lw = 3, fg_legend = :transparent, shape=:circle, color=:purple, alpha = (1-0.1*k))\n",
    "end\n",
    "savefig(\"8.png\")"
   ]
  },
  {
   "cell_type": "markdown",
   "metadata": {},
   "source": [
    "### paclitaxel and lapatinib"
   ]
  },
  {
   "cell_type": "code",
   "execution_count": null,
   "metadata": {},
   "outputs": [],
   "source": [
    "combin = fullCombinationParam(pac, lapat, effs,8);\n",
    "n=8;\n",
    "\n",
    "numscomb = zeros(8,8)\n",
    "nums = zeros(n)\n",
    "for j =1:n\n",
    "    nums[j] = numcells(pac[:, j], g0, 96)\n",
    "    for m=1:8\n",
    "        numscomb[j,m] = numcells(combin[:, j, m], g0, 96)\n",
    "    end\n",
    "end\n",
    "\n",
    "\n",
    "using Plots;\n",
    "plot(log.(concs[:,4]), nums, label=\"pac\", lw=3, xlabel=\"log drug concentration\", ylabel=\"cell #\", shape=:circle, color=:green)\n",
    "for k = 2:8\n",
    "    plot!(log.(concs[:,4]), numscomb[:, k], label = string(\"pac +\", concs[k,1], \"nM lapat\"), legendfontsize = 7, lw = 3, fg_legend = :transparent, shape=:circle, color=:purple, alpha = (1-0.1*k))\n",
    "end\n",
    "savefig(\"9.png\")"
   ]
  },
  {
   "cell_type": "markdown",
   "metadata": {},
   "source": [
    "### gemcitabine and lapatinib"
   ]
  },
  {
   "cell_type": "code",
   "execution_count": null,
   "metadata": {},
   "outputs": [],
   "source": [
    "combin = fullCombinationParam(gemc, lapat, effs,8);\n",
    "n=8;\n",
    "\n",
    "numscomb = zeros(8,8)\n",
    "nums = zeros(n)\n",
    "for j =1:n\n",
    "    nums[j] = numcells(gemc[:, j], g0, 96)\n",
    "    for m=1:8\n",
    "        numscomb[j,m] = numcells(combin[:, j, m], g0, 96)\n",
    "    end\n",
    "end\n",
    "\n",
    "\n",
    "using Plots;\n",
    "plot(log.(concs[:,3]), nums, label=\"gemc\", lw=3, xlabel=\"log drug concentration\", ylabel=\"cell #\", shape=:circle, color=:green)\n",
    "for k = 2:8\n",
    "    plot!(log.(concs[:,3]), numscomb[:, k], label = string(\"gemc +\", concs[k,1], \"nM lapat\"), legendfontsize = 7, lw = 3, fg_legend = :transparent, shape=:circle, color=:purple, alpha = (1-0.1*k))\n",
    "end\n",
    "savefig(\"10.png\")"
   ]
  },
  {
   "cell_type": "code",
   "execution_count": null,
   "metadata": {},
   "outputs": [],
   "source": [
    "gemc"
   ]
  },
  {
   "cell_type": "code",
   "execution_count": null,
   "metadata": {},
   "outputs": [],
   "source": [
    "lapat"
   ]
  },
  {
   "cell_type": "code",
   "execution_count": null,
   "metadata": {},
   "outputs": [],
   "source": []
  }
 ],
 "metadata": {
  "kernelspec": {
   "display_name": "Julia 1.3.0",
   "language": "julia",
   "name": "julia-1.3"
  },
  "language_info": {
   "file_extension": ".jl",
   "mimetype": "application/julia",
   "name": "julia",
   "version": "1.3.0"
  }
 },
 "nbformat": 4,
 "nbformat_minor": 4
}
